{
 "cells": [
  {
   "cell_type": "code",
   "execution_count": 31,
   "metadata": {},
   "outputs": [],
   "source": [
    "import numpy as np\n",
    "from TensorizedPauliDecomposition import PauliDecomposition\n",
    "from qiskit.quantum_info import SparsePauliOp\n",
    "import time"
   ]
  },
  {
   "cell_type": "code",
   "execution_count": 32,
   "metadata": {},
   "outputs": [],
   "source": [
    "def test2(matrix):\n",
    "\ttestResult2 = SparsePauliOp.from_operator(matrix)\n",
    "\tcoeffs2 = testResult2.coeffs\n",
    "\tlist2 = testResult2.paulis\n",
    "\treturn [list2,coeffs2]\n",
    "\n",
    "def test1(matrix):\n",
    "\tlist1, coeffs1 = PauliDecomposition(matrix)\n",
    "\treturn [list1,coeffs1]\n",
    "\n",
    "def randomMatrix(dim):\n",
    "\treturn np.add(np.random.rand(dim,dim),1.j*np.random.rand(dim,dim))\n",
    "\n",
    "def comparison(method1, method2, matrix):\n",
    "\tprint(\"Comparison of \",method1.__name__,\" and \",method2.__name__)\n",
    "\tstart = time.time()\n",
    "\tlist1,coeffs1 = method1(matrix)\n",
    "\tend = time.time()\n",
    "\tprint (\" new methods time: \",end-start)\n",
    "\tstart = time.time()\n",
    "\tlist2,coeffs2 = method2(matrix)\n",
    "\tend = time.time()\n",
    "\tprint (\"old method time: \",end-start)\n",
    "\tequal = True\n",
    "\tfor x,y in zip(list1,list2):\n",
    "\t\tif str(x) != str(y):\n",
    "\t\t\tequal = False\n",
    "\teps = 10**(-5)\n",
    "\tfor x,y in zip(coeffs1,coeffs2):\n",
    "\t\tif abs(complex(x) - complex(y)) > eps:\n",
    "\t\t\tequal = False\n",
    "\treturn equal"
   ]
  },
  {
   "cell_type": "code",
   "execution_count": 36,
   "metadata": {},
   "outputs": [
    {
     "name": "stdout",
     "output_type": "stream",
     "text": [
      "Comparison of  test1  and  test2\n",
      " new methods time:  0.0019059181213378906\n",
      "old method time:  0.011797904968261719\n",
      "True\n"
     ]
    }
   ],
   "source": [
    "testMatrix = randomMatrix(16)\n",
    "print(comparison(test1,test2,testMatrix))"
   ]
  }
 ],
 "metadata": {
  "kernelspec": {
   "display_name": "Python 3",
   "language": "python",
   "name": "python3"
  },
  "language_info": {
   "codemirror_mode": {
    "name": "ipython",
    "version": 3
   },
   "file_extension": ".py",
   "mimetype": "text/x-python",
   "name": "python",
   "nbconvert_exporter": "python",
   "pygments_lexer": "ipython3",
   "version": "3.11.4"
  },
  "orig_nbformat": 4
 },
 "nbformat": 4,
 "nbformat_minor": 2
}
