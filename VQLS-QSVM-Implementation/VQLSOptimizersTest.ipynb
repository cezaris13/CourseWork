{
 "cells": [
  {
   "cell_type": "code",
   "execution_count": 17,
   "metadata": {},
   "outputs": [],
   "source": [
    "import numpy as np\n",
    "from sklearn import datasets\n",
    "from sklearn.model_selection import train_test_split\n",
    "\n",
    "from VQLSSVM import VQLSSVM\n",
    "\n",
    "np.set_printoptions(precision=4, suppress=True)"
   ]
  },
  {
   "cell_type": "code",
   "execution_count": 18,
   "metadata": {},
   "outputs": [],
   "source": [
    "shots: int = 10000\n",
    "gamma: float = 0.01 # regularization parameter\n",
    "subsetSize: int = 7\n",
    "classToFilterOut: int = 2"
   ]
  },
  {
   "cell_type": "code",
   "execution_count": 19,
   "metadata": {},
   "outputs": [],
   "source": [
    "def prepareDataset(normalizeValues: bool = False, dataset: str = \"iris\") -> (np.ndarray, np.ndarray, np.array, np.array):\n",
    "    if dataset == \"iris\":\n",
    "        X,y = datasets.load_iris(return_X_y=True)\n",
    "        X = X[y!=classToFilterOut]\n",
    "        y = y[y!=classToFilterOut]\n",
    "    elif dataset == \"breastCancer\":\n",
    "        X,y = datasets.load_breast_cancer(return_X_y=True)\n",
    "    elif dataset == \"dummyData\":\n",
    "        X, y = datasets.make_classification(\n",
    "            n_samples=50, n_features=2, n_informative=2, n_redundant=0, random_state=45\n",
    "        )\n",
    "    else: \n",
    "        raise ValueError(\"Dataset not yet implemented\")\n",
    "    \n",
    "    y: np.array = np.where(y == 0, -1, 1) # might cause some problems in a future\n",
    "\n",
    "    if normalizeValues:\n",
    "        max = np.max(X, axis=0)\n",
    "        min = np.min(X, axis=0)\n",
    "        X = (2*X - min - max) / (max - min)\n",
    "    return train_test_split(X, y, test_size=(X.shape[0]-subsetSize)/(X.shape[0]), random_state=42)"
   ]
  },
  {
   "cell_type": "code",
   "execution_count": 20,
   "metadata": {},
   "outputs": [
    {
     "name": "stdout",
     "output_type": "stream",
     "text": [
      "[[ 0.1055 -0.4988  0.0726 -0.2081 -0.0472 -0.4441 -0.3172 -0.1387 -0.0848\n",
      "  -0.4874 -0.5645 -0.4604 -0.61   -0.6875 -0.5656 -0.7182 -0.8312 -0.3934\n",
      "  -0.6463 -0.7461  0.0189 -0.3134 -0.0538 -0.3296  0.0451 -0.6084 -0.4773\n",
      "   0.1505 -0.476  -0.6128]\n",
      " [-0.4227 -0.5942 -0.4217 -0.6806 -0.0093 -0.3398 -0.7859 -0.6909 -0.0838\n",
      "  -0.2355 -0.9466 -0.8287 -0.941  -0.9706 -0.8379 -0.7487 -0.9142 -0.7541\n",
      "  -0.7496 -0.8943 -0.5326 -0.5485 -0.545  -0.7811 -0.2072 -0.5143 -0.6981\n",
      "  -0.4995 -0.3617 -0.6486]\n",
      " [-0.8195 -0.6666 -0.7927 -0.9147 -0.1839 -0.1797 -0.5967 -0.7145 -0.1495\n",
      "   0.6782 -0.6997 -0.7825 -0.7728 -0.9304  0.0536  0.3733 -0.7136 -0.3309\n",
      "  -0.5067  0.4534 -0.8717 -0.8054 -0.879  -0.9512 -0.3458 -0.5803 -0.7709\n",
      "  -0.6711 -0.7284 -0.3   ]\n",
      " [-0.559  -0.417  -0.5663 -0.7718  0.1117 -0.495  -0.6687 -0.6536 -0.2515\n",
      "  -0.358  -0.8591 -0.4268 -0.8683 -0.9484 -0.5358 -0.6868 -0.8513 -0.4704\n",
      "  -0.7814 -0.7965 -0.6293 -0.081  -0.6504 -0.8346  0.2894 -0.5368 -0.5411\n",
      "  -0.1629 -0.5107 -0.5287]\n",
      " [-0.3082 -0.5191 -0.3572 -0.5851 -0.7895 -0.9548 -0.966  -0.9379 -0.5475\n",
      "  -0.8399 -0.9865 -0.8411 -0.9918 -0.9852 -0.879  -0.9781 -0.9756 -0.8633\n",
      "  -0.7896 -0.9664 -0.5034 -0.54   -0.5614 -0.7545 -0.8085 -0.9552 -0.9382\n",
      "  -0.7709 -0.6479 -0.9192]\n",
      " [-0.3375 -0.3297 -0.3459 -0.6131 -0.0364 -0.4238 -0.4724 -0.3576 -0.3848\n",
      "  -0.3479 -0.9208 -0.7378 -0.9204 -0.955  -0.7552 -0.7648 -0.8896 -0.6375\n",
      "  -0.8776 -0.8652 -0.3518  0.0011 -0.3676 -0.6637  0.1904 -0.3606 -0.35\n",
      "   0.2557 -0.3637 -0.3381]\n",
      " [-0.5079 -0.2689 -0.538  -0.7326 -0.5035 -0.8712 -0.8883 -0.8241 -0.3141\n",
      "  -0.7131 -0.9414 -0.4648 -0.9599 -0.9706 -0.7711 -0.9422 -0.946  -0.7425\n",
      "  -0.8146 -0.956  -0.6151  0.1098 -0.6596 -0.8218 -0.4568 -0.881  -0.8171\n",
      "  -0.4893 -0.5549 -0.8198]]\n"
     ]
    }
   ],
   "source": [
    "xTrain, xTest, yTrain, yTest = prepareDataset(normalizeValues=True, dataset=\"breastCancer\")\n",
    "print(xTrain)"
   ]
  },
  {
   "cell_type": "code",
   "execution_count": 23,
   "metadata": {},
   "outputs": [
    {
     "name": "stdout",
     "output_type": "stream",
     "text": [
      "Method: trust-krylov\n",
      "Condition number of the matrix:  4397.40886173452\n",
      "LS-SVM Matrix:\n",
      " [[  0.       1.       1.       1.       1.       1.       1.       1.    ]\n",
      " [  1.     106.3387   7.9382   4.45     7.0972   9.6707   7.1253   8.6627]\n",
      " [  1.       7.9382 112.9724   9.9     11.3853  14.9474  10.5049  13.5895]\n",
      " [  1.       4.45     9.9    112.9916   8.8691  10.9625   7.0351   9.8842]\n",
      " [  1.       7.0972  11.3853   8.8691 111.003   12.9767   9.92    12.5543]\n",
      " [  1.       9.6707  14.9474  10.9625  12.9767 119.5408  11.9793  17.2147]\n",
      " [  1.       7.1253  10.5049   7.0351   9.92    11.9793 109.8428  11.4212]\n",
      " [  1.       8.6627  13.5895   9.8842  12.5543  17.2147  11.4212 116.0885]]\n",
      "['III', 'IIX', 'IIZ', 'IXI', 'IXX', 'IXZ', 'IYY', 'IZI', 'IZX', 'IZZ',\n",
      " 'XII', 'XIX', 'XIZ', 'XXI', 'XXX', 'XXZ', 'XYY', 'XZI', 'XZX', 'XZZ',\n",
      " 'YIY', 'YXY', 'YYI', 'YYX', 'YYZ', 'YZY', 'ZII', 'ZIX', 'ZIZ', 'ZXI',\n",
      " 'ZXX', 'ZXZ', 'ZYY', 'ZZI', 'ZZX', 'ZZZ']\n",
      "Pauli matrix coeffitients [(98.59722459143913+0j), (8.824469127288015+0j), (-15.142665551020261+0j), (8.146201630416229+0j), (8.36794032070263+0j), (-2.686184554138065+0j), (1.5908075899029406+0j), (-14.376593838279582+0j), (-1.8361294483006847+0j), (-13.576464934050836+0j), (7.764962466069077+0j), (7.180443261061264+0j), (-2.012528759907199+0j), (8.002616961249903+0j), (7.9854525822742115+0j), (7.9854525822742115+0j), (-1.8099741699785268+0j), (-1.8099741699785268+0j), (3.0508899010514585+0j), (3.0508899010514585+0j), (-2.4295923768398193+0j), (-3.131849887002485+0j), (-3.131849887002485+0j), (-2.322841329322059+0j), (-2.322841329322059+0j), (-0.11430214339404698+0j), (0.011773253076690304+0j), (0.011773253076690304+0j), (3.1712640279078386+0j), (3.9227894281460634+0j), (3.9227894281460634+0j), (2.021378763363538+0j), (2.021378763363538+0j), (3.1628955174528253+0j), (3.1628955174528253+0j), (-15.521566031298962+0j), (-3.374483468227982+0j), (-11.446798974535538+0j), (-5.421178794452195+0j), (-3.8988259373859595+0j), (-3.8988259373859595+0j), (0.961161718174032+0j), (0.961161718174032+0j), (1.8783067934137296+0j), (1.8783067934137296+0j), (-15.529725005300707+0j), (-2.6138562107593493+0j), (-2.6138562107593493+0j), (-13.003410256953257+0j), (-13.003410256953257+0j)]\n",
      "<qiskit.transpiler.passmanager.StagedPassManager object at 0x17fed5ad0>\n",
      "<qiskit.transpiler.passmanager.StagedPassManager object at 0x17fc5d7d0>\n",
      "Time to prepare circuits: 9.608728885650635\n"
     ]
    },
    {
     "ename": "ValueError",
     "evalue": "('Jacobian is required for trust region ', 'exact minimization.')",
     "output_type": "error",
     "traceback": [
      "\u001b[0;31m---------------------------------------------------------------------------\u001b[0m",
      "\u001b[0;31mValueError\u001b[0m                                Traceback (most recent call last)",
      "Cell \u001b[0;32mIn[23], line 13\u001b[0m\n\u001b[1;32m     11\u001b[0m \u001b[39mfor\u001b[39;00m method \u001b[39min\u001b[39;00m methods:\n\u001b[1;32m     12\u001b[0m     \u001b[39mprint\u001b[39m(\u001b[39m\"\u001b[39m\u001b[39mMethod: \u001b[39m\u001b[39m\"\u001b[39m \u001b[39m+\u001b[39m method)\n\u001b[0;32m---> 13\u001b[0m     vqlssvmVectors\u001b[39m.\u001b[39;49mtrain(xTrain, yTrain, quantumSimulation\u001b[39m=\u001b[39;49m\u001b[39mFalse\u001b[39;49;00m, verbose\u001b[39m=\u001b[39;49m\u001b[39mTrue\u001b[39;49;00m, iterations \u001b[39m=\u001b[39;49m \u001b[39m200\u001b[39;49m, method\u001b[39m=\u001b[39;49mmethod)\n\u001b[1;32m     15\u001b[0m     vqlssvmVectors\u001b[39m.\u001b[39mplotCost()\n\u001b[1;32m     16\u001b[0m     cost \u001b[39m=\u001b[39m vqlssvmVectors\u001b[39m.\u001b[39mgetCostHistory()\n",
      "File \u001b[0;32m~/PS/KursinisSVM/VQLS-QSVM-Implementation/VQLSSVM.py:44\u001b[0m, in \u001b[0;36mVQLSSVM.train\u001b[0;34m(self, xTrain, yTrain, quantumSimulation, iterations, method, verbose)\u001b[0m\n\u001b[1;32m     41\u001b[0m \u001b[39mif\u001b[39;00m verbose:\n\u001b[1;32m     42\u001b[0m     \u001b[39mprint\u001b[39m(\u001b[39m\"\u001b[39m\u001b[39mPauli matrix coeffitients\u001b[39m\u001b[39m\"\u001b[39m, coefficientSet)\n\u001b[0;32m---> 44\u001b[0m outF: List[List[\u001b[39mfloat\u001b[39m]] \u001b[39m=\u001b[39m minimization(\n\u001b[1;32m     45\u001b[0m     paulis\u001b[39m=\u001b[39;49mpaulis,\n\u001b[1;32m     46\u001b[0m     coefficientSet\u001b[39m=\u001b[39;49mcoefficientSet,\n\u001b[1;32m     47\u001b[0m     totalNeededQubits\u001b[39m=\u001b[39;49mpauliOp\u001b[39m.\u001b[39;49mnum_qubits \u001b[39m+\u001b[39;49m \u001b[39m2\u001b[39;49m,\n\u001b[1;32m     48\u001b[0m     bVector\u001b[39m=\u001b[39;49myVector,\n\u001b[1;32m     49\u001b[0m     quantumSimulation\u001b[39m=\u001b[39;49mquantumSimulation,\n\u001b[1;32m     50\u001b[0m     shots\u001b[39m=\u001b[39;49m\u001b[39mself\u001b[39;49m\u001b[39m.\u001b[39;49mshots,\n\u001b[1;32m     51\u001b[0m     method\u001b[39m=\u001b[39;49mmethod,\n\u001b[1;32m     52\u001b[0m     iterations\u001b[39m=\u001b[39;49miterations,\n\u001b[1;32m     53\u001b[0m )\n\u001b[1;32m     54\u001b[0m \u001b[39mif\u001b[39;00m verbose:\n\u001b[1;32m     55\u001b[0m     \u001b[39mprint\u001b[39m(\u001b[39m\"\u001b[39m\u001b[39mOutput Vector:\u001b[39m\u001b[39m\"\u001b[39m, outF)\n",
      "File \u001b[0;32m~/PS/KursinisSVM/VQLS-QSVM-Implementation/VQLS.py:495\u001b[0m, in \u001b[0;36mminimization\u001b[0;34m(paulis, coefficientSet, totalNeededQubits, bVector, quantumSimulation, method, shots, iterations)\u001b[0m\n\u001b[1;32m    479\u001b[0m     out \u001b[39m=\u001b[39m minimize(\n\u001b[1;32m    480\u001b[0m         calculateCostFunctionQuantumSimulation,\n\u001b[1;32m    481\u001b[0m         x0\u001b[39m=\u001b[39mx,\n\u001b[0;32m   (...)\u001b[0m\n\u001b[1;32m    492\u001b[0m         options\u001b[39m=\u001b[39m{\u001b[39m\"\u001b[39m\u001b[39mmaxiter\u001b[39m\u001b[39m\"\u001b[39m: iterations},\n\u001b[1;32m    493\u001b[0m     )\n\u001b[1;32m    494\u001b[0m \u001b[39melse\u001b[39;00m:\n\u001b[0;32m--> 495\u001b[0m     out \u001b[39m=\u001b[39m minimize(\n\u001b[1;32m    496\u001b[0m         calculateCostFunctionMatrix,\n\u001b[1;32m    497\u001b[0m         x0\u001b[39m=\u001b[39;49mx,\n\u001b[1;32m    498\u001b[0m         args\u001b[39m=\u001b[39;49m[\n\u001b[1;32m    499\u001b[0m             coefficientSet,\n\u001b[1;32m    500\u001b[0m             transpiledHadamardCircuits,\n\u001b[1;32m    501\u001b[0m             parametersHadamard,\n\u001b[1;32m    502\u001b[0m             transpiledSpecialHadamardCircuits,\n\u001b[1;32m    503\u001b[0m             parametersSpecialHadamard,\n\u001b[1;32m    504\u001b[0m         ],\n\u001b[1;32m    505\u001b[0m         method\u001b[39m=\u001b[39;49mmethod,\n\u001b[1;32m    506\u001b[0m         options\u001b[39m=\u001b[39;49m{\u001b[39m\"\u001b[39;49m\u001b[39mmaxiter\u001b[39;49m\u001b[39m\"\u001b[39;49m: iterations},\n\u001b[1;32m    507\u001b[0m     )\n\u001b[1;32m    509\u001b[0m end \u001b[39m=\u001b[39m time\u001b[39m.\u001b[39mtime()\n\u001b[1;32m    510\u001b[0m \u001b[39mprint\u001b[39m(\u001b[39m\"\u001b[39m\u001b[39mTime to minimize:\u001b[39m\u001b[39m\"\u001b[39m, end \u001b[39m-\u001b[39m start)\n",
      "File \u001b[0;32m~/.pyenv/versions/3.11.4/lib/python3.11/site-packages/scipy/optimize/_minimize.py:732\u001b[0m, in \u001b[0;36mminimize\u001b[0;34m(fun, x0, args, method, jac, hess, hessp, bounds, constraints, tol, callback, options)\u001b[0m\n\u001b[1;32m    729\u001b[0m     res \u001b[39m=\u001b[39m _minimize_trust_ncg(fun, x0, args, jac, hess, hessp,\n\u001b[1;32m    730\u001b[0m                               callback\u001b[39m=\u001b[39mcallback, \u001b[39m*\u001b[39m\u001b[39m*\u001b[39moptions)\n\u001b[1;32m    731\u001b[0m \u001b[39melif\u001b[39;00m meth \u001b[39m==\u001b[39m \u001b[39m'\u001b[39m\u001b[39mtrust-krylov\u001b[39m\u001b[39m'\u001b[39m:\n\u001b[0;32m--> 732\u001b[0m     res \u001b[39m=\u001b[39m _minimize_trust_krylov(fun, x0, args, jac, hess, hessp,\n\u001b[1;32m    733\u001b[0m                                  callback\u001b[39m=\u001b[39;49mcallback, \u001b[39m*\u001b[39;49m\u001b[39m*\u001b[39;49moptions)\n\u001b[1;32m    734\u001b[0m \u001b[39melif\u001b[39;00m meth \u001b[39m==\u001b[39m \u001b[39m'\u001b[39m\u001b[39mtrust-exact\u001b[39m\u001b[39m'\u001b[39m:\n\u001b[1;32m    735\u001b[0m     res \u001b[39m=\u001b[39m _minimize_trustregion_exact(fun, x0, args, jac, hess,\n\u001b[1;32m    736\u001b[0m                                       callback\u001b[39m=\u001b[39mcallback, \u001b[39m*\u001b[39m\u001b[39m*\u001b[39moptions)\n",
      "File \u001b[0;32m~/.pyenv/versions/3.11.4/lib/python3.11/site-packages/scipy/optimize/_trustregion_krylov.py:23\u001b[0m, in \u001b[0;36m_minimize_trust_krylov\u001b[0;34m(fun, x0, args, jac, hess, hessp, inexact, **trust_region_options)\u001b[0m\n\u001b[1;32m      8\u001b[0m \u001b[39m\u001b[39m\u001b[39m\"\"\"\u001b[39;00m\n\u001b[1;32m      9\u001b[0m \u001b[39mMinimization of a scalar function of one or more variables using\u001b[39;00m\n\u001b[1;32m     10\u001b[0m \u001b[39ma nearly exact trust-region algorithm that only requires matrix\u001b[39;00m\n\u001b[0;32m   (...)\u001b[0m\n\u001b[1;32m     19\u001b[0m \u001b[39m    iterations, but more vector products.\u001b[39;00m\n\u001b[1;32m     20\u001b[0m \u001b[39m\"\"\"\u001b[39;00m\n\u001b[1;32m     22\u001b[0m \u001b[39mif\u001b[39;00m jac \u001b[39mis\u001b[39;00m \u001b[39mNone\u001b[39;00m:\n\u001b[0;32m---> 23\u001b[0m     \u001b[39mraise\u001b[39;00m \u001b[39mValueError\u001b[39;00m(\u001b[39m'\u001b[39m\u001b[39mJacobian is required for trust region \u001b[39m\u001b[39m'\u001b[39m,\n\u001b[1;32m     24\u001b[0m                      \u001b[39m'\u001b[39m\u001b[39mexact minimization.\u001b[39m\u001b[39m'\u001b[39m)\n\u001b[1;32m     25\u001b[0m \u001b[39mif\u001b[39;00m hess \u001b[39mis\u001b[39;00m \u001b[39mNone\u001b[39;00m \u001b[39mand\u001b[39;00m hessp \u001b[39mis\u001b[39;00m \u001b[39mNone\u001b[39;00m:\n\u001b[1;32m     26\u001b[0m     \u001b[39mraise\u001b[39;00m \u001b[39mValueError\u001b[39;00m(\u001b[39m'\u001b[39m\u001b[39mEither the Hessian or the Hessian-vector product \u001b[39m\u001b[39m'\u001b[39m\n\u001b[1;32m     27\u001b[0m                      \u001b[39m'\u001b[39m\u001b[39mis required for Krylov trust-region minimization\u001b[39m\u001b[39m'\u001b[39m)\n",
      "\u001b[0;31mValueError\u001b[0m: ('Jacobian is required for trust region ', 'exact minimization.')"
     ]
    }
   ],
   "source": [
    "vqlssvmVectors: VQLSSVM = VQLSSVM(gamma, shots)\n",
    "\n",
    "# methods = ['COBYLA', 'SLSQP',\n",
    "# slsqp does not stop\n",
    "           \n",
    "# methods = ['COBYLA', 'SLSQP','BFGS', 'Powell',\n",
    "# [ 'Nelder-Mead', 'L-BFGS-B', 'TNC', 'trust-constr', 'dogleg',\n",
    "methods =  ['trust-krylov']\n",
    "# methods = ['COBYLA', 'SLSQP']\n",
    "costs = []\n",
    "for method in methods:\n",
    "    print(\"Method: \" + method)\n",
    "    vqlssvmVectors.train(xTrain, yTrain, quantumSimulation=False, verbose=True, iterations = 200, method=method)\n",
    "\n",
    "    vqlssvmVectors.plotCost()\n",
    "    cost = vqlssvmVectors.getCostHistory()\n",
    "    print(\"Cost history:\")\n",
    "    print(cost)\n",
    "    costs.append(cost)"
   ]
  },
  {
   "cell_type": "code",
   "execution_count": null,
   "metadata": {},
   "outputs": [],
   "source": [
    "# methods = ['COBYLA', 'SLSQP','BFGS', 'Powell']#, 'Nelder-Mead', 'L-BFGS-B', 'TNC', 'trust-constr', 'dogleg', 'trust-ncg', 'trust-exact', 'trust-krylov']\n",
    "# methods = ['Nelder-Mead', 'L-BFGS-B', 'TNC', 'trust-constr']\n",
    "import csv\n",
    "# where one column is iteration number and the other is cost\n",
    "\n",
    "with open('costOptimizers2.csv', 'w', newline='') as csvfile:\n",
    "    writer = csv.writer(csvfile, delimiter=',')\n",
    "    writer.writerow(['Iteration'] + methods)\n",
    "    for i in range(200):\n",
    "        values = [i]\n",
    "        for j in range(len(costs)):\n",
    "            values.append(costs[j][i])\n",
    "        writer.writerow(values)"
   ]
  },
  {
   "cell_type": "code",
   "execution_count": 28,
   "metadata": {},
   "outputs": [],
   "source": [
    "import pandas as pd\n",
    "\n",
    "# Load the first CSV file\n",
    "df1 = pd.read_csv('costOptimizers1.csv')\n",
    "\n",
    "# Load the second CSV file and drop its first column\n",
    "df2 = pd.read_csv('costOptimizers2.csv')\n",
    "df2 = df2.iloc[:, 1:]  # Remove the first column\n",
    "\n",
    "# Combine the two DataFrames\n",
    "combined_df = pd.concat([df1, df2], ignore_index=False, axis=1)\n",
    "\n",
    "# Save the combined DataFrame to a new CSV file\n",
    "combined_df.to_csv('costOptimizers.csv', index=False)"
   ]
  }
 ],
 "metadata": {
  "kernelspec": {
   "display_name": "Python 3",
   "language": "python",
   "name": "python3"
  },
  "language_info": {
   "codemirror_mode": {
    "name": "ipython",
    "version": 3
   },
   "file_extension": ".py",
   "mimetype": "text/x-python",
   "name": "python",
   "nbconvert_exporter": "python",
   "pygments_lexer": "ipython3",
   "version": "3.11.4"
  },
  "orig_nbformat": 4
 },
 "nbformat": 4,
 "nbformat_minor": 2
}
