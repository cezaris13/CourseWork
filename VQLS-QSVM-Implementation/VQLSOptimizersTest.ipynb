{
 "cells": [
  {
   "cell_type": "code",
   "execution_count": 1,
   "metadata": {},
   "outputs": [],
   "source": [
    "import numpy as np\n",
    "from sklearn import datasets\n",
    "from sklearn.model_selection import train_test_split\n",
    "\n",
    "from VQLSSVM import VQLSSVM\n",
    "\n",
    "np.set_printoptions(precision=4, suppress=True)"
   ]
  },
  {
   "cell_type": "code",
   "execution_count": 2,
   "metadata": {},
   "outputs": [],
   "source": [
    "shots: int = 10000\n",
    "gamma: float = 0.01 # regularization parameter\n",
    "subsetSize: int = 7\n",
    "classToFilterOut: int = 2"
   ]
  },
  {
   "cell_type": "code",
   "execution_count": 3,
   "metadata": {},
   "outputs": [],
   "source": [
    "def prepareDataset(normalizeValues: bool = False, dataset: str = \"iris\") -> (np.ndarray, np.ndarray, np.array, np.array):\n",
    "    if dataset == \"iris\":\n",
    "        X,y = datasets.load_iris(return_X_y=True)\n",
    "        X = X[y!=classToFilterOut]\n",
    "        y = y[y!=classToFilterOut]\n",
    "    elif dataset == \"breastCancer\":\n",
    "        X,y = datasets.load_breast_cancer(return_X_y=True)\n",
    "    elif dataset == \"dummyData\":\n",
    "        X, y = datasets.make_classification(\n",
    "            n_samples=50, n_features=2, n_informative=2, n_redundant=0, random_state=45\n",
    "        )\n",
    "    else: \n",
    "        raise ValueError(\"Dataset not yet implemented\")\n",
    "    \n",
    "    y: np.array = np.where(y == 0, -1, 1) # might cause some problems in a future\n",
    "\n",
    "    if normalizeValues:\n",
    "        max = np.max(X, axis=0)\n",
    "        min = np.min(X, axis=0)\n",
    "        X = (2*X - min - max) / (max - min)\n",
    "    return train_test_split(X, y, test_size=(X.shape[0]-subsetSize)/(X.shape[0]))"
   ]
  },
  {
   "cell_type": "code",
   "execution_count": 4,
   "metadata": {},
   "outputs": [
    {
     "name": "stdout",
     "output_type": "stream",
     "text": [
      "[[-0.8519 -0.75   -0.8537 -0.7647]\n",
      " [-0.1852  0.5833 -0.6585 -0.6471]\n",
      " [-0.6296 -0.1667 -0.8049 -1.    ]\n",
      " [ 0.8519 -0.3333  0.8537  0.5294]\n",
      " [-1.     -0.1667 -0.9512 -1.    ]\n",
      " [-0.037  -0.1667  0.5122  0.4118]\n",
      " [ 1.      0.      0.8049  0.5294]]\n"
     ]
    }
   ],
   "source": [
    "xTrain, xTest, yTrain, yTest = prepareDataset(normalizeValues=True, dataset=\"iris\")\n",
    "print(xTrain)"
   ]
  },
  {
   "cell_type": "code",
   "execution_count": 5,
   "metadata": {},
   "outputs": [
    {
     "name": "stdout",
     "output_type": "stream",
     "text": [
      "Method: SLSQP\n",
      "<qiskit.transpiler.passmanager.StagedPassManager object at 0x16b38cd50>\n",
      "<qiskit.transpiler.passmanager.StagedPassManager object at 0x16a70b010>\n",
      "<qiskit.transpiler.passmanager.StagedPassManager object at 0x16a708c50>\n",
      "<qiskit.transpiler.passmanager.StagedPassManager object at 0x16b41b350>\n",
      "<qiskit.transpiler.passmanager.StagedPassManager object at 0x16a703250>\n",
      "<qiskit.transpiler.passmanager.StagedPassManager object at 0x16b41b590>\n",
      "<qiskit.transpiler.passmanager.StagedPassManager object at 0x16b8f50d0>\n",
      "<qiskit.transpiler.passmanager.StagedPassManager object at 0x16b3ceb90>\n",
      "<qiskit.transpiler.passmanager.StagedPassManager object at 0x16a6ddc90>\n",
      "<qiskit.transpiler.passmanager.StagedPassManager object at 0x16ba77b10>\n",
      "<qiskit.transpiler.passmanager.StagedPassManager object at 0x16b94cc50>\n",
      "<qiskit.transpiler.passmanager.StagedPassManager object at 0x16b8739d0>\n",
      "<qiskit.transpiler.passmanager.StagedPassManager object at 0x16b3f68d0>\n",
      "<qiskit.transpiler.passmanager.StagedPassManager object at 0x16b8a5990>\n",
      "<qiskit.transpiler.passmanager.StagedPassManager object at 0x16bca78d0>\n",
      "<qiskit.transpiler.passmanager.StagedPassManager object at 0x16b6bb890>\n",
      "<qiskit.transpiler.passmanager.StagedPassManager object at 0x16b845550>\n",
      "<qiskit.transpiler.passmanager.StagedPassManager object at 0x16bbef8d0>\n",
      "<qiskit.transpiler.passmanager.StagedPassManager object at 0x16b91f710>\n",
      "<qiskit.transpiler.passmanager.StagedPassManager object at 0x16bbef150>\n",
      "<qiskit.transpiler.passmanager.StagedPassManager object at 0x16b9ffd90>\n",
      "<qiskit.transpiler.passmanager.StagedPassManager object at 0x16b8fb410>\n",
      "<qiskit.transpiler.passmanager.StagedPassManager object at 0x16b881b50>\n",
      "<qiskit.transpiler.passmanager.StagedPassManager object at 0x16beb9890>\n",
      "<qiskit.transpiler.passmanager.StagedPassManager object at 0x16be26e10>\n",
      "<qiskit.transpiler.passmanager.StagedPassManager object at 0x16ba5fcd0>\n",
      "<qiskit.transpiler.passmanager.StagedPassManager object at 0x17fec7550>\n",
      "<qiskit.transpiler.passmanager.StagedPassManager object at 0x16bcb1510>\n",
      "<qiskit.transpiler.passmanager.StagedPassManager object at 0x17ff150d0>\n",
      "<qiskit.transpiler.passmanager.StagedPassManager object at 0x16bca6d10>\n",
      "<qiskit.transpiler.passmanager.StagedPassManager object at 0x16b4ced50>\n",
      "<qiskit.transpiler.passmanager.StagedPassManager object at 0x16bd2e450>\n",
      "<qiskit.transpiler.passmanager.StagedPassManager object at 0x16bbd1850>\n",
      "<qiskit.transpiler.passmanager.StagedPassManager object at 0x2867d8190>\n",
      "<qiskit.transpiler.passmanager.StagedPassManager object at 0x16b635b10>\n",
      "<qiskit.transpiler.passmanager.StagedPassManager object at 0x2866ff590>\n",
      "<qiskit.transpiler.passmanager.StagedPassManager object at 0x2868ac150>\n",
      "Time to prepare circuits: 6.287042617797852\n",
      "Iteration: 107 , cost: 0.0026737629581010673\r"
     ]
    },
    {
     "ename": "KeyboardInterrupt",
     "evalue": "",
     "output_type": "error",
     "traceback": [
      "\u001b[0;31m---------------------------------------------------------------------------\u001b[0m",
      "\u001b[0;31mKeyboardInterrupt\u001b[0m                         Traceback (most recent call last)",
      "Cell \u001b[0;32mIn[5], line 7\u001b[0m\n\u001b[1;32m      5\u001b[0m \u001b[39mfor\u001b[39;00m method \u001b[39min\u001b[39;00m methods:\n\u001b[1;32m      6\u001b[0m     \u001b[39mprint\u001b[39m(\u001b[39m\"\u001b[39m\u001b[39mMethod: \u001b[39m\u001b[39m\"\u001b[39m \u001b[39m+\u001b[39m method)\n\u001b[0;32m----> 7\u001b[0m     vqlssvmVectors\u001b[39m.\u001b[39;49mtrain(xTrain, yTrain, quantumSimulation\u001b[39m=\u001b[39;49m\u001b[39mFalse\u001b[39;49;00m, verbose\u001b[39m=\u001b[39;49m\u001b[39mFalse\u001b[39;49;00m, iterations \u001b[39m=\u001b[39;49m \u001b[39m200\u001b[39;49m, method\u001b[39m=\u001b[39;49mmethod)\n\u001b[1;32m      9\u001b[0m     vqlssvmVectors\u001b[39m.\u001b[39mplotCost()\n\u001b[1;32m     10\u001b[0m     cost \u001b[39m=\u001b[39m vqlssvmVectors\u001b[39m.\u001b[39mgetCostHistory()\n",
      "File \u001b[0;32m~/PS/KursinisSVM/VQLS-QSVM-Implementation/VQLSSVM.py:44\u001b[0m, in \u001b[0;36mVQLSSVM.train\u001b[0;34m(self, xTrain, yTrain, quantumSimulation, iterations, method, verbose)\u001b[0m\n\u001b[1;32m     41\u001b[0m \u001b[39mif\u001b[39;00m verbose:\n\u001b[1;32m     42\u001b[0m     \u001b[39mprint\u001b[39m(\u001b[39m\"\u001b[39m\u001b[39mPauli matrix coeffitients\u001b[39m\u001b[39m\"\u001b[39m, coefficientSet)\n\u001b[0;32m---> 44\u001b[0m outF: List[List[\u001b[39mfloat\u001b[39m]] \u001b[39m=\u001b[39m minimization(\n\u001b[1;32m     45\u001b[0m     paulis\u001b[39m=\u001b[39;49mpaulis,\n\u001b[1;32m     46\u001b[0m     coefficientSet\u001b[39m=\u001b[39;49mcoefficientSet,\n\u001b[1;32m     47\u001b[0m     totalNeededQubits\u001b[39m=\u001b[39;49mpauliOp\u001b[39m.\u001b[39;49mnum_qubits \u001b[39m+\u001b[39;49m \u001b[39m2\u001b[39;49m,\n\u001b[1;32m     48\u001b[0m     bVector\u001b[39m=\u001b[39;49myVector,\n\u001b[1;32m     49\u001b[0m     quantumSimulation\u001b[39m=\u001b[39;49mquantumSimulation,\n\u001b[1;32m     50\u001b[0m     shots\u001b[39m=\u001b[39;49m\u001b[39mself\u001b[39;49m\u001b[39m.\u001b[39;49mshots,\n\u001b[1;32m     51\u001b[0m     method\u001b[39m=\u001b[39;49mmethod,\n\u001b[1;32m     52\u001b[0m     iterations\u001b[39m=\u001b[39;49miterations,\n\u001b[1;32m     53\u001b[0m )\n\u001b[1;32m     54\u001b[0m \u001b[39mif\u001b[39;00m verbose:\n\u001b[1;32m     55\u001b[0m     \u001b[39mprint\u001b[39m(\u001b[39m\"\u001b[39m\u001b[39mOutput Vector:\u001b[39m\u001b[39m\"\u001b[39m, outF)\n",
      "File \u001b[0;32m~/PS/KursinisSVM/VQLS-QSVM-Implementation/VQLS.py:522\u001b[0m, in \u001b[0;36mminimization\u001b[0;34m(paulis, coefficientSet, totalNeededQubits, bVector, quantumSimulation, method, shots, iterations, fast)\u001b[0m\n\u001b[1;32m    519\u001b[0m     minimizationFunction \u001b[39m=\u001b[39m calculateCostFunction\n\u001b[1;32m    521\u001b[0m exc \u001b[39m=\u001b[39m ThreadPoolExecutor(max_workers\u001b[39m=\u001b[39m\u001b[39m4\u001b[39m)\n\u001b[0;32m--> 522\u001b[0m out \u001b[39m=\u001b[39m minimize(\n\u001b[1;32m    523\u001b[0m     minimizationFunction,\n\u001b[1;32m    524\u001b[0m     x0\u001b[39m=\u001b[39;49mx,\n\u001b[1;32m    525\u001b[0m     args\u001b[39m=\u001b[39;49m[\n\u001b[1;32m    526\u001b[0m         coefficientSet,\n\u001b[1;32m    527\u001b[0m         transpiledHadamardCircuits,\n\u001b[1;32m    528\u001b[0m         parametersHadamard,\n\u001b[1;32m    529\u001b[0m         transpiledSpecialHadamardCircuits,\n\u001b[1;32m    530\u001b[0m         parametersSpecialHadamard,\n\u001b[1;32m    531\u001b[0m         quantumSimulation,\n\u001b[1;32m    532\u001b[0m         shots,\n\u001b[1;32m    533\u001b[0m         exc,\n\u001b[1;32m    534\u001b[0m     ],\n\u001b[1;32m    535\u001b[0m     method\u001b[39m=\u001b[39;49mmethod,\n\u001b[1;32m    536\u001b[0m     options\u001b[39m=\u001b[39;49m{\u001b[39m\"\u001b[39;49m\u001b[39mmaxiter\u001b[39;49m\u001b[39m\"\u001b[39;49m: iterations},\n\u001b[1;32m    537\u001b[0m )\n\u001b[1;32m    539\u001b[0m end \u001b[39m=\u001b[39m time\u001b[39m.\u001b[39mtime()\n\u001b[1;32m    540\u001b[0m \u001b[39mprint\u001b[39m(\u001b[39m\"\u001b[39m\u001b[39mTime to minimize:\u001b[39m\u001b[39m\"\u001b[39m, end \u001b[39m-\u001b[39m start)\n",
      "File \u001b[0;32m~/.pyenv/versions/3.11.4/lib/python3.11/site-packages/scipy/optimize/_minimize.py:719\u001b[0m, in \u001b[0;36mminimize\u001b[0;34m(fun, x0, args, method, jac, hess, hessp, bounds, constraints, tol, callback, options)\u001b[0m\n\u001b[1;32m    716\u001b[0m     res \u001b[39m=\u001b[39m _minimize_cobyla(fun, x0, args, constraints, callback\u001b[39m=\u001b[39mcallback,\n\u001b[1;32m    717\u001b[0m                            bounds\u001b[39m=\u001b[39mbounds, \u001b[39m*\u001b[39m\u001b[39m*\u001b[39moptions)\n\u001b[1;32m    718\u001b[0m \u001b[39melif\u001b[39;00m meth \u001b[39m==\u001b[39m \u001b[39m'\u001b[39m\u001b[39mslsqp\u001b[39m\u001b[39m'\u001b[39m:\n\u001b[0;32m--> 719\u001b[0m     res \u001b[39m=\u001b[39m _minimize_slsqp(fun, x0, args, jac, bounds,\n\u001b[1;32m    720\u001b[0m                           constraints, callback\u001b[39m=\u001b[39;49mcallback, \u001b[39m*\u001b[39;49m\u001b[39m*\u001b[39;49moptions)\n\u001b[1;32m    721\u001b[0m \u001b[39melif\u001b[39;00m meth \u001b[39m==\u001b[39m \u001b[39m'\u001b[39m\u001b[39mtrust-constr\u001b[39m\u001b[39m'\u001b[39m:\n\u001b[1;32m    722\u001b[0m     res \u001b[39m=\u001b[39m _minimize_trustregion_constr(fun, x0, args, jac, hess, hessp,\n\u001b[1;32m    723\u001b[0m                                        bounds, constraints,\n\u001b[1;32m    724\u001b[0m                                        callback\u001b[39m=\u001b[39mcallback, \u001b[39m*\u001b[39m\u001b[39m*\u001b[39moptions)\n",
      "File \u001b[0;32m~/.pyenv/versions/3.11.4/lib/python3.11/site-packages/scipy/optimize/_slsqp_py.py:432\u001b[0m, in \u001b[0;36m_minimize_slsqp\u001b[0;34m(func, x0, args, jac, bounds, constraints, maxiter, ftol, iprint, disp, eps, callback, finite_diff_rel_step, **unknown_options)\u001b[0m\n\u001b[1;32m    429\u001b[0m     c \u001b[39m=\u001b[39m _eval_constraint(x, cons)\n\u001b[1;32m    431\u001b[0m \u001b[39mif\u001b[39;00m mode \u001b[39m==\u001b[39m \u001b[39m-\u001b[39m\u001b[39m1\u001b[39m:  \u001b[39m# gradient evaluation required\u001b[39;00m\n\u001b[0;32m--> 432\u001b[0m     g \u001b[39m=\u001b[39m append(wrapped_grad(x), \u001b[39m0.0\u001b[39m)\n\u001b[1;32m    433\u001b[0m     a \u001b[39m=\u001b[39m _eval_con_normals(x, cons, la, n, m, meq, mieq)\n\u001b[1;32m    435\u001b[0m \u001b[39mif\u001b[39;00m majiter \u001b[39m>\u001b[39m majiter_prev:\n\u001b[1;32m    436\u001b[0m     \u001b[39m# call callback if major iteration has incremented\u001b[39;00m\n",
      "File \u001b[0;32m~/.pyenv/versions/3.11.4/lib/python3.11/site-packages/scipy/optimize/_optimize.py:397\u001b[0m, in \u001b[0;36m_clip_x_for_func.<locals>.eval\u001b[0;34m(x)\u001b[0m\n\u001b[1;32m    395\u001b[0m \u001b[39mdef\u001b[39;00m \u001b[39meval\u001b[39m(x):\n\u001b[1;32m    396\u001b[0m     x \u001b[39m=\u001b[39m _check_clip_x(x, bounds)\n\u001b[0;32m--> 397\u001b[0m     \u001b[39mreturn\u001b[39;00m func(x)\n",
      "File \u001b[0;32m~/.pyenv/versions/3.11.4/lib/python3.11/site-packages/scipy/optimize/_differentiable_functions.py:273\u001b[0m, in \u001b[0;36mScalarFunction.grad\u001b[0;34m(self, x)\u001b[0m\n\u001b[1;32m    271\u001b[0m \u001b[39mif\u001b[39;00m \u001b[39mnot\u001b[39;00m np\u001b[39m.\u001b[39marray_equal(x, \u001b[39mself\u001b[39m\u001b[39m.\u001b[39mx):\n\u001b[1;32m    272\u001b[0m     \u001b[39mself\u001b[39m\u001b[39m.\u001b[39m_update_x_impl(x)\n\u001b[0;32m--> 273\u001b[0m \u001b[39mself\u001b[39;49m\u001b[39m.\u001b[39;49m_update_grad()\n\u001b[1;32m    274\u001b[0m \u001b[39mreturn\u001b[39;00m \u001b[39mself\u001b[39m\u001b[39m.\u001b[39mg\n",
      "File \u001b[0;32m~/.pyenv/versions/3.11.4/lib/python3.11/site-packages/scipy/optimize/_differentiable_functions.py:256\u001b[0m, in \u001b[0;36mScalarFunction._update_grad\u001b[0;34m(self)\u001b[0m\n\u001b[1;32m    254\u001b[0m \u001b[39mdef\u001b[39;00m \u001b[39m_update_grad\u001b[39m(\u001b[39mself\u001b[39m):\n\u001b[1;32m    255\u001b[0m     \u001b[39mif\u001b[39;00m \u001b[39mnot\u001b[39;00m \u001b[39mself\u001b[39m\u001b[39m.\u001b[39mg_updated:\n\u001b[0;32m--> 256\u001b[0m         \u001b[39mself\u001b[39;49m\u001b[39m.\u001b[39;49m_update_grad_impl()\n\u001b[1;32m    257\u001b[0m         \u001b[39mself\u001b[39m\u001b[39m.\u001b[39mg_updated \u001b[39m=\u001b[39m \u001b[39mTrue\u001b[39;00m\n",
      "File \u001b[0;32m~/.pyenv/versions/3.11.4/lib/python3.11/site-packages/scipy/optimize/_differentiable_functions.py:173\u001b[0m, in \u001b[0;36mScalarFunction.__init__.<locals>.update_grad\u001b[0;34m()\u001b[0m\n\u001b[1;32m    171\u001b[0m \u001b[39mself\u001b[39m\u001b[39m.\u001b[39m_update_fun()\n\u001b[1;32m    172\u001b[0m \u001b[39mself\u001b[39m\u001b[39m.\u001b[39mngev \u001b[39m+\u001b[39m\u001b[39m=\u001b[39m \u001b[39m1\u001b[39m\n\u001b[0;32m--> 173\u001b[0m \u001b[39mself\u001b[39m\u001b[39m.\u001b[39mg \u001b[39m=\u001b[39m approx_derivative(fun_wrapped, \u001b[39mself\u001b[39;49m\u001b[39m.\u001b[39;49mx, f0\u001b[39m=\u001b[39;49m\u001b[39mself\u001b[39;49m\u001b[39m.\u001b[39;49mf,\n\u001b[1;32m    174\u001b[0m                            \u001b[39m*\u001b[39;49m\u001b[39m*\u001b[39;49mfinite_diff_options)\n",
      "File \u001b[0;32m~/.pyenv/versions/3.11.4/lib/python3.11/site-packages/scipy/optimize/_numdiff.py:505\u001b[0m, in \u001b[0;36mapprox_derivative\u001b[0;34m(fun, x0, method, rel_step, abs_step, f0, bounds, sparsity, as_linear_operator, args, kwargs)\u001b[0m\n\u001b[1;32m    502\u001b[0m     use_one_sided \u001b[39m=\u001b[39m \u001b[39mFalse\u001b[39;00m\n\u001b[1;32m    504\u001b[0m \u001b[39mif\u001b[39;00m sparsity \u001b[39mis\u001b[39;00m \u001b[39mNone\u001b[39;00m:\n\u001b[0;32m--> 505\u001b[0m     \u001b[39mreturn\u001b[39;00m _dense_difference(fun_wrapped, x0, f0, h,\n\u001b[1;32m    506\u001b[0m                              use_one_sided, method)\n\u001b[1;32m    507\u001b[0m \u001b[39melse\u001b[39;00m:\n\u001b[1;32m    508\u001b[0m     \u001b[39mif\u001b[39;00m \u001b[39mnot\u001b[39;00m issparse(sparsity) \u001b[39mand\u001b[39;00m \u001b[39mlen\u001b[39m(sparsity) \u001b[39m==\u001b[39m \u001b[39m2\u001b[39m:\n",
      "File \u001b[0;32m~/.pyenv/versions/3.11.4/lib/python3.11/site-packages/scipy/optimize/_numdiff.py:576\u001b[0m, in \u001b[0;36m_dense_difference\u001b[0;34m(fun, x0, f0, h, use_one_sided, method)\u001b[0m\n\u001b[1;32m    574\u001b[0m     x \u001b[39m=\u001b[39m x0 \u001b[39m+\u001b[39m h_vecs[i]\n\u001b[1;32m    575\u001b[0m     dx \u001b[39m=\u001b[39m x[i] \u001b[39m-\u001b[39m x0[i]  \u001b[39m# Recompute dx as exactly representable number.\u001b[39;00m\n\u001b[0;32m--> 576\u001b[0m     df \u001b[39m=\u001b[39m fun(x) \u001b[39m-\u001b[39m f0\n\u001b[1;32m    577\u001b[0m \u001b[39melif\u001b[39;00m method \u001b[39m==\u001b[39m \u001b[39m'\u001b[39m\u001b[39m3-point\u001b[39m\u001b[39m'\u001b[39m \u001b[39mand\u001b[39;00m use_one_sided[i]:\n\u001b[1;32m    578\u001b[0m     x1 \u001b[39m=\u001b[39m x0 \u001b[39m+\u001b[39m h_vecs[i]\n",
      "File \u001b[0;32m~/.pyenv/versions/3.11.4/lib/python3.11/site-packages/scipy/optimize/_numdiff.py:456\u001b[0m, in \u001b[0;36mapprox_derivative.<locals>.fun_wrapped\u001b[0;34m(x)\u001b[0m\n\u001b[1;32m    455\u001b[0m \u001b[39mdef\u001b[39;00m \u001b[39mfun_wrapped\u001b[39m(x):\n\u001b[0;32m--> 456\u001b[0m     f \u001b[39m=\u001b[39m np\u001b[39m.\u001b[39matleast_1d(fun(x, \u001b[39m*\u001b[39;49margs, \u001b[39m*\u001b[39;49m\u001b[39m*\u001b[39;49mkwargs))\n\u001b[1;32m    457\u001b[0m     \u001b[39mif\u001b[39;00m f\u001b[39m.\u001b[39mndim \u001b[39m>\u001b[39m \u001b[39m1\u001b[39m:\n\u001b[1;32m    458\u001b[0m         \u001b[39mraise\u001b[39;00m \u001b[39mRuntimeError\u001b[39;00m(\u001b[39m\"\u001b[39m\u001b[39m`fun` return value has \u001b[39m\u001b[39m\"\u001b[39m\n\u001b[1;32m    459\u001b[0m                            \u001b[39m\"\u001b[39m\u001b[39mmore than 1 dimension.\u001b[39m\u001b[39m\"\u001b[39m)\n",
      "File \u001b[0;32m~/.pyenv/versions/3.11.4/lib/python3.11/site-packages/scipy/optimize/_differentiable_functions.py:137\u001b[0m, in \u001b[0;36mScalarFunction.__init__.<locals>.fun_wrapped\u001b[0;34m(x)\u001b[0m\n\u001b[1;32m    133\u001b[0m \u001b[39mself\u001b[39m\u001b[39m.\u001b[39mnfev \u001b[39m+\u001b[39m\u001b[39m=\u001b[39m \u001b[39m1\u001b[39m\n\u001b[1;32m    134\u001b[0m \u001b[39m# Send a copy because the user may overwrite it.\u001b[39;00m\n\u001b[1;32m    135\u001b[0m \u001b[39m# Overwriting results in undefined behaviour because\u001b[39;00m\n\u001b[1;32m    136\u001b[0m \u001b[39m# fun(self.x) will change self.x, with the two no longer linked.\u001b[39;00m\n\u001b[0;32m--> 137\u001b[0m fx \u001b[39m=\u001b[39m fun(np\u001b[39m.\u001b[39;49mcopy(x), \u001b[39m*\u001b[39;49margs)\n\u001b[1;32m    138\u001b[0m \u001b[39m# Make sure the function returns a true scalar\u001b[39;00m\n\u001b[1;32m    139\u001b[0m \u001b[39mif\u001b[39;00m \u001b[39mnot\u001b[39;00m np\u001b[39m.\u001b[39misscalar(fx):\n",
      "File \u001b[0;32m~/PS/KursinisSVM/VQLS-QSVM-Implementation/VQLS.py:265\u001b[0m, in \u001b[0;36mcalculateCostFunctionFast\u001b[0;34m(parameters, args)\u001b[0m\n\u001b[1;32m    262\u001b[0m bindedHadamardGates \u001b[39m=\u001b[39m []\n\u001b[1;32m    263\u001b[0m \u001b[39mfor\u001b[39;00m i \u001b[39min\u001b[39;00m \u001b[39mrange\u001b[39m(\u001b[39mlen\u001b[39m(transpiledHadamardCircuits)):\n\u001b[1;32m    264\u001b[0m     bindedHadamardGates\u001b[39m.\u001b[39mappend(\n\u001b[0;32m--> 265\u001b[0m         [\n\u001b[1;32m    266\u001b[0m             j\u001b[39m.\u001b[39;49mbind_parameters({parametersHadamard: parameters})\n\u001b[1;32m    267\u001b[0m             \u001b[39mfor\u001b[39;49;00m j \u001b[39min\u001b[39;49;00m transpiledHadamardCircuits[i]\n\u001b[1;32m    268\u001b[0m         ]\n\u001b[1;32m    269\u001b[0m     )\n\u001b[1;32m    270\u001b[0m bindedSpecHadamardGates \u001b[39m=\u001b[39m [\n\u001b[1;32m    271\u001b[0m     i\u001b[39m.\u001b[39mbind_parameters({parametersSpecialHadamard: parameters})\n\u001b[1;32m    272\u001b[0m     \u001b[39mfor\u001b[39;00m i \u001b[39min\u001b[39;00m transpiledSpecialHadamardCircuits\n\u001b[1;32m    273\u001b[0m ]\n\u001b[1;32m    274\u001b[0m lenPaulis \u001b[39m=\u001b[39m \u001b[39mlen\u001b[39m(bindedSpecHadamardGates)\n",
      "File \u001b[0;32m~/PS/KursinisSVM/VQLS-QSVM-Implementation/VQLS.py:266\u001b[0m, in \u001b[0;36m<listcomp>\u001b[0;34m(.0)\u001b[0m\n\u001b[1;32m    262\u001b[0m bindedHadamardGates \u001b[39m=\u001b[39m []\n\u001b[1;32m    263\u001b[0m \u001b[39mfor\u001b[39;00m i \u001b[39min\u001b[39;00m \u001b[39mrange\u001b[39m(\u001b[39mlen\u001b[39m(transpiledHadamardCircuits)):\n\u001b[1;32m    264\u001b[0m     bindedHadamardGates\u001b[39m.\u001b[39mappend(\n\u001b[1;32m    265\u001b[0m         [\n\u001b[0;32m--> 266\u001b[0m             j\u001b[39m.\u001b[39;49mbind_parameters({parametersHadamard: parameters})\n\u001b[1;32m    267\u001b[0m             \u001b[39mfor\u001b[39;00m j \u001b[39min\u001b[39;00m transpiledHadamardCircuits[i]\n\u001b[1;32m    268\u001b[0m         ]\n\u001b[1;32m    269\u001b[0m     )\n\u001b[1;32m    270\u001b[0m bindedSpecHadamardGates \u001b[39m=\u001b[39m [\n\u001b[1;32m    271\u001b[0m     i\u001b[39m.\u001b[39mbind_parameters({parametersSpecialHadamard: parameters})\n\u001b[1;32m    272\u001b[0m     \u001b[39mfor\u001b[39;00m i \u001b[39min\u001b[39;00m transpiledSpecialHadamardCircuits\n\u001b[1;32m    273\u001b[0m ]\n\u001b[1;32m    274\u001b[0m lenPaulis \u001b[39m=\u001b[39m \u001b[39mlen\u001b[39m(bindedSpecHadamardGates)\n",
      "File \u001b[0;32m~/.pyenv/versions/3.11.4/lib/python3.11/site-packages/qiskit/utils/deprecation.py:96\u001b[0m, in \u001b[0;36mdeprecate_func.<locals>.decorator.<locals>.wrapper\u001b[0;34m(*args, **kwargs)\u001b[0m\n\u001b[1;32m     93\u001b[0m \u001b[39m@functools\u001b[39m\u001b[39m.\u001b[39mwraps(func)\n\u001b[1;32m     94\u001b[0m \u001b[39mdef\u001b[39;00m \u001b[39mwrapper\u001b[39m(\u001b[39m*\u001b[39margs, \u001b[39m*\u001b[39m\u001b[39m*\u001b[39mkwargs):\n\u001b[1;32m     95\u001b[0m     warnings\u001b[39m.\u001b[39mwarn(msg, category\u001b[39m=\u001b[39mcategory, stacklevel\u001b[39m=\u001b[39m\u001b[39m2\u001b[39m)\n\u001b[0;32m---> 96\u001b[0m     \u001b[39mreturn\u001b[39;00m func(\u001b[39m*\u001b[39;49margs, \u001b[39m*\u001b[39;49m\u001b[39m*\u001b[39;49mkwargs)\n",
      "File \u001b[0;32m~/.pyenv/versions/3.11.4/lib/python3.11/site-packages/qiskit/circuit/quantumcircuit.py:2832\u001b[0m, in \u001b[0;36mQuantumCircuit.bind_parameters\u001b[0;34m(self, values)\u001b[0m\n\u001b[1;32m   2828\u001b[0m     \u001b[39mif\u001b[39;00m \u001b[39many\u001b[39m(\u001b[39misinstance\u001b[39m(value, ParameterExpression) \u001b[39mfor\u001b[39;00m value \u001b[39min\u001b[39;00m values\u001b[39m.\u001b[39mvalues()):\n\u001b[1;32m   2829\u001b[0m         \u001b[39mraise\u001b[39;00m \u001b[39mTypeError\u001b[39;00m(\n\u001b[1;32m   2830\u001b[0m             \u001b[39m\"\u001b[39m\u001b[39mFound ParameterExpression in values; use assign_parameters() instead.\u001b[39m\u001b[39m\"\u001b[39m\n\u001b[1;32m   2831\u001b[0m         )\n\u001b[0;32m-> 2832\u001b[0m     \u001b[39mreturn\u001b[39;00m \u001b[39mself\u001b[39;49m\u001b[39m.\u001b[39;49massign_parameters(values)\n\u001b[1;32m   2833\u001b[0m \u001b[39melse\u001b[39;00m:\n\u001b[1;32m   2834\u001b[0m     \u001b[39mif\u001b[39;00m \u001b[39many\u001b[39m(\u001b[39misinstance\u001b[39m(value, ParameterExpression) \u001b[39mfor\u001b[39;00m value \u001b[39min\u001b[39;00m values):\n",
      "File \u001b[0;32m~/.pyenv/versions/3.11.4/lib/python3.11/site-packages/qiskit/circuit/quantumcircuit.py:2658\u001b[0m, in \u001b[0;36mQuantumCircuit.assign_parameters\u001b[0;34m(self, parameters, inplace, flat_input, strict)\u001b[0m\n\u001b[1;32m   2656\u001b[0m     target \u001b[39m=\u001b[39m \u001b[39mself\u001b[39m\n\u001b[1;32m   2657\u001b[0m \u001b[39melse\u001b[39;00m:\n\u001b[0;32m-> 2658\u001b[0m     target \u001b[39m=\u001b[39m \u001b[39mself\u001b[39;49m\u001b[39m.\u001b[39;49mcopy()\n\u001b[1;32m   2659\u001b[0m     target\u001b[39m.\u001b[39m_increment_instances()\n\u001b[1;32m   2660\u001b[0m     target\u001b[39m.\u001b[39m_name_update()\n",
      "File \u001b[0;32m~/.pyenv/versions/3.11.4/lib/python3.11/site-packages/qiskit/circuit/quantumcircuit.py:2099\u001b[0m, in \u001b[0;36mQuantumCircuit.copy\u001b[0;34m(self, name)\u001b[0m\n\u001b[1;32m   2085\u001b[0m operation_copies \u001b[39m=\u001b[39m {\n\u001b[1;32m   2086\u001b[0m     \u001b[39mid\u001b[39m(instruction\u001b[39m.\u001b[39moperation): instruction\u001b[39m.\u001b[39moperation\u001b[39m.\u001b[39mcopy() \u001b[39mfor\u001b[39;00m instruction \u001b[39min\u001b[39;00m \u001b[39mself\u001b[39m\u001b[39m.\u001b[39m_data\n\u001b[1;32m   2087\u001b[0m }\n\u001b[1;32m   2089\u001b[0m cpy\u001b[39m.\u001b[39m_parameter_table \u001b[39m=\u001b[39m ParameterTable(\n\u001b[1;32m   2090\u001b[0m     {\n\u001b[1;32m   2091\u001b[0m         param: ParameterReferences(\n\u001b[0;32m   (...)\u001b[0m\n\u001b[1;32m   2096\u001b[0m     }\n\u001b[1;32m   2097\u001b[0m )\n\u001b[0;32m-> 2099\u001b[0m cpy\u001b[39m.\u001b[39m_data \u001b[39m=\u001b[39m [\n\u001b[1;32m   2100\u001b[0m     instruction\u001b[39m.\u001b[39;49mreplace(operation\u001b[39m=\u001b[39;49moperation_copies[\u001b[39mid\u001b[39;49m(instruction\u001b[39m.\u001b[39;49moperation)])\n\u001b[1;32m   2101\u001b[0m     \u001b[39mfor\u001b[39;49;00m instruction \u001b[39min\u001b[39;49;00m \u001b[39mself\u001b[39;49m\u001b[39m.\u001b[39;49m_data\n\u001b[1;32m   2102\u001b[0m ]\n\u001b[1;32m   2104\u001b[0m \u001b[39mreturn\u001b[39;00m cpy\n",
      "File \u001b[0;32m~/.pyenv/versions/3.11.4/lib/python3.11/site-packages/qiskit/circuit/quantumcircuit.py:2100\u001b[0m, in \u001b[0;36m<listcomp>\u001b[0;34m(.0)\u001b[0m\n\u001b[1;32m   2085\u001b[0m operation_copies \u001b[39m=\u001b[39m {\n\u001b[1;32m   2086\u001b[0m     \u001b[39mid\u001b[39m(instruction\u001b[39m.\u001b[39moperation): instruction\u001b[39m.\u001b[39moperation\u001b[39m.\u001b[39mcopy() \u001b[39mfor\u001b[39;00m instruction \u001b[39min\u001b[39;00m \u001b[39mself\u001b[39m\u001b[39m.\u001b[39m_data\n\u001b[1;32m   2087\u001b[0m }\n\u001b[1;32m   2089\u001b[0m cpy\u001b[39m.\u001b[39m_parameter_table \u001b[39m=\u001b[39m ParameterTable(\n\u001b[1;32m   2090\u001b[0m     {\n\u001b[1;32m   2091\u001b[0m         param: ParameterReferences(\n\u001b[0;32m   (...)\u001b[0m\n\u001b[1;32m   2096\u001b[0m     }\n\u001b[1;32m   2097\u001b[0m )\n\u001b[1;32m   2099\u001b[0m cpy\u001b[39m.\u001b[39m_data \u001b[39m=\u001b[39m [\n\u001b[0;32m-> 2100\u001b[0m     instruction\u001b[39m.\u001b[39;49mreplace(operation\u001b[39m=\u001b[39;49moperation_copies[\u001b[39mid\u001b[39;49m(instruction\u001b[39m.\u001b[39;49moperation)])\n\u001b[1;32m   2101\u001b[0m     \u001b[39mfor\u001b[39;00m instruction \u001b[39min\u001b[39;00m \u001b[39mself\u001b[39m\u001b[39m.\u001b[39m_data\n\u001b[1;32m   2102\u001b[0m ]\n\u001b[1;32m   2104\u001b[0m \u001b[39mreturn\u001b[39;00m cpy\n",
      "File \u001b[0;32m~/.pyenv/versions/3.11.4/lib/python3.11/site-packages/qiskit/circuit/quantumcircuitdata.py:95\u001b[0m, in \u001b[0;36mCircuitInstruction.replace\u001b[0;34m(self, operation, qubits, clbits)\u001b[0m\n\u001b[1;32m     88\u001b[0m \u001b[39mdef\u001b[39;00m \u001b[39mreplace\u001b[39m(\n\u001b[1;32m     89\u001b[0m     \u001b[39mself\u001b[39m,\n\u001b[1;32m     90\u001b[0m     operation: Optional[Operation] \u001b[39m=\u001b[39m \u001b[39mNone\u001b[39;00m,\n\u001b[1;32m     91\u001b[0m     qubits: Optional[Iterable[Qubit]] \u001b[39m=\u001b[39m \u001b[39mNone\u001b[39;00m,\n\u001b[1;32m     92\u001b[0m     clbits: Optional[Iterable[Clbit]] \u001b[39m=\u001b[39m \u001b[39mNone\u001b[39;00m,\n\u001b[1;32m     93\u001b[0m ) \u001b[39m-\u001b[39m\u001b[39m>\u001b[39m \u001b[39m\"\u001b[39m\u001b[39mCircuitInstruction\u001b[39m\u001b[39m\"\u001b[39m:\n\u001b[1;32m     94\u001b[0m \u001b[39m    \u001b[39m\u001b[39m\"\"\"Return a new :class:`CircuitInstruction` with the given fields replaced.\"\"\"\u001b[39;00m\n\u001b[0;32m---> 95\u001b[0m     \u001b[39mreturn\u001b[39;00m \u001b[39mself\u001b[39;49m\u001b[39m.\u001b[39;49m\u001b[39m__class__\u001b[39;49m(\n\u001b[1;32m     96\u001b[0m         operation\u001b[39m=\u001b[39;49m\u001b[39mself\u001b[39;49m\u001b[39m.\u001b[39;49moperation \u001b[39mif\u001b[39;49;00m operation \u001b[39mis\u001b[39;49;00m \u001b[39mNone\u001b[39;49;00m \u001b[39melse\u001b[39;49;00m operation,\n\u001b[1;32m     97\u001b[0m         qubits\u001b[39m=\u001b[39;49m\u001b[39mself\u001b[39;49m\u001b[39m.\u001b[39;49mqubits \u001b[39mif\u001b[39;49;00m qubits \u001b[39mis\u001b[39;49;00m \u001b[39mNone\u001b[39;49;00m \u001b[39melse\u001b[39;49;00m qubits,\n\u001b[1;32m     98\u001b[0m         clbits\u001b[39m=\u001b[39;49m\u001b[39mself\u001b[39;49m\u001b[39m.\u001b[39;49mclbits \u001b[39mif\u001b[39;49;00m clbits \u001b[39mis\u001b[39;49;00m \u001b[39mNone\u001b[39;49;00m \u001b[39melse\u001b[39;49;00m clbits,\n\u001b[1;32m     99\u001b[0m     )\n",
      "File \u001b[0;32m~/.pyenv/versions/3.11.4/lib/python3.11/site-packages/qiskit/circuit/quantumcircuitdata.py:70\u001b[0m, in \u001b[0;36mCircuitInstruction.__init__\u001b[0;34m(self, operation, qubits, clbits)\u001b[0m\n\u001b[1;32m     67\u001b[0m clbits: Tuple[Clbit, \u001b[39m.\u001b[39m\u001b[39m.\u001b[39m\u001b[39m.\u001b[39m]\n\u001b[1;32m     68\u001b[0m \u001b[39m\u001b[39m\u001b[39m\"\"\"A sequence of the classical bits that this operation reads from or writes to.\"\"\"\u001b[39;00m\n\u001b[0;32m---> 70\u001b[0m \u001b[39mdef\u001b[39;00m \u001b[39m__init__\u001b[39m(\n\u001b[1;32m     71\u001b[0m     \u001b[39mself\u001b[39m,\n\u001b[1;32m     72\u001b[0m     operation: Operation,\n\u001b[1;32m     73\u001b[0m     qubits: Iterable[Qubit] \u001b[39m=\u001b[39m (),\n\u001b[1;32m     74\u001b[0m     clbits: Iterable[Clbit] \u001b[39m=\u001b[39m (),\n\u001b[1;32m     75\u001b[0m ):\n\u001b[1;32m     76\u001b[0m     \u001b[39mself\u001b[39m\u001b[39m.\u001b[39moperation \u001b[39m=\u001b[39m operation\n\u001b[1;32m     77\u001b[0m     \u001b[39mself\u001b[39m\u001b[39m.\u001b[39mqubits \u001b[39m=\u001b[39m \u001b[39mtuple\u001b[39m(qubits)\n",
      "\u001b[0;31mKeyboardInterrupt\u001b[0m: "
     ]
    }
   ],
   "source": [
    "vqlssvmVectors: VQLSSVM = VQLSSVM(gamma, shots)\n",
    "\n",
    "methods = ['COBYLA','SLSQP', 'BFGS', 'L-BFGS-B', 'trust-constr']\n",
    "costs = []\n",
    "for method in methods:\n",
    "    print(\"Method: \" + method)\n",
    "    vqlssvmVectors.train(xTrain, yTrain, quantumSimulation=False, verbose=False, iterations = 200, method=method)\n",
    "\n",
    "    vqlssvmVectors.plotCost()\n",
    "    cost = vqlssvmVectors.getCostHistory()\n",
    "    print(\"Cost history:\")\n",
    "    print(cost)\n",
    "    costs.append(cost)"
   ]
  },
  {
   "cell_type": "code",
   "execution_count": null,
   "metadata": {},
   "outputs": [],
   "source": [
    "import csv\n",
    "# where one column is iteration number and the other is cost\n",
    "\n",
    "with open('costOptimizers3.csv', 'w', newline='') as csvfile:\n",
    "    writer = csv.writer(csvfile, delimiter=',')\n",
    "    writer.writerow(['Iteration'] + methods)\n",
    "    for i in range(200):\n",
    "        values = [i]\n",
    "        for j in range(len(costs)):\n",
    "            if i >= len(costs[j]):\n",
    "                values.append(costs[j][-1])\n",
    "            else:\n",
    "                values.append(costs[j][i])\n",
    "        writer.writerow(values)"
   ]
  },
  {
   "cell_type": "code",
   "execution_count": null,
   "metadata": {},
   "outputs": [],
   "source": [
    "# import pandas as pd\n",
    "\n",
    "# # Load the first CSV file\n",
    "# df1 = pd.read_csv('costOptimizers1.csv')\n",
    "\n",
    "# # Load the second CSV file and drop its first column\n",
    "# df2 = pd.read_csv('costOptimizers2.csv')\n",
    "# df2 = df2.iloc[:, 1:]  # Remove the first column\n",
    "\n",
    "# # Combine the two DataFrames\n",
    "# combined_df = pd.concat([df1, df2], ignore_index=False, axis=1)\n",
    "\n",
    "# # Save the combined DataFrame to a new CSV file\n",
    "# combined_df.to_csv('costOptimizers.csv', index=False)"
   ]
  }
 ],
 "metadata": {
  "kernelspec": {
   "display_name": "Python 3",
   "language": "python",
   "name": "python3"
  },
  "language_info": {
   "codemirror_mode": {
    "name": "ipython",
    "version": 3
   },
   "file_extension": ".py",
   "mimetype": "text/x-python",
   "name": "python",
   "nbconvert_exporter": "python",
   "pygments_lexer": "ipython3",
   "version": "3.11.4"
  },
  "orig_nbformat": 4
 },
 "nbformat": 4,
 "nbformat_minor": 2
}
