{
 "cells": [
  {
   "cell_type": "code",
   "execution_count": 1,
   "metadata": {},
   "outputs": [],
   "source": [
    "from qiskit import QuantumCircuit\n",
    "from qiskit.quantum_info import SparsePauliOp\n",
    "import numpy as np\n",
    "from sklearn import datasets\n",
    "from sklearn.model_selection import train_test_split\n",
    "\n",
    "from VQLS import QuantumSVM"
   ]
  },
  {
   "cell_type": "code",
   "execution_count": 2,
   "metadata": {},
   "outputs": [],
   "source": [
    "auxiliaryQubit = 0\n",
    "shots = 100000 # 100000\n",
    "gamma = 0.01 # regularization parameter\n",
    "testSize = 0.2"
   ]
  },
  {
   "cell_type": "code",
   "execution_count": 3,
   "metadata": {},
   "outputs": [],
   "source": [
    "svm = QuantumSVM(auxiliaryQubit=auxiliaryQubit, shots=shots)"
   ]
  },
  {
   "cell_type": "code",
   "execution_count": null,
   "metadata": {},
   "outputs": [],
   "source": [
    "X, y = datasets.make_classification(n_samples=50, n_features=2, n_informative=2, n_redundant=0, random_state=45)\n",
    "y = np.where(y == 0, -1, 1)\n",
    "X_train, X_test, y_train, y_test = train_test_split(X, y, test_size=testSize, random_state=42)\n",
    "subsetSize = 7\n",
    "subsetIndices = np.random.choice(np.arange(X_train.shape[0]), subsetSize, replace=False)\n",
    "xSubset = np.array([ X_train[i] for i in subsetIndices ])\n",
    "ySubset = np.array([ y_train[i] for i in subsetIndices ])\n",
    "\n",
    "lssvm = ClassicalLSSVM(xSubset,ySubset, gamma, \"linearKernel\")\n",
    "lssvm_matrix = lssvm.combineTopBottomMatrices(xSubset)\n",
    "yVector = lssvm.prepareLabels(ySubset)\n",
    "\n",
    "print (\"LS-SVM Matrix:\", lssvm_matrix)\n",
    "\n",
    "pauliOp = SparsePauliOp.from_operator(lssvm_matrix)\n",
    "paulis = pauliOp.paulis\n",
    "print(paulis)\n",
    "\n",
    "coefficientSet = svm.getMatrixCoeffitients(pauliOp)\n",
    "print (coefficientSet)\n",
    "\n",
    "out_f = svm.minimization(paulis=paulis, coefficientSet = coefficientSet, totalNeededQubits = pauliOp.num_qubits+2, bVector = yVector, quantumSimulation=True)\n",
    "circ = QuantumCircuit(pauliOp.num_qubits,pauliOp.num_qubits)\n",
    "o = svm.ansatzTest(circ, out_f)\n",
    "\n",
    "svm.getApproximationValue(lssvm_matrix, yVector, o)\n",
    "svm.plotCost()"
   ]
  },
  {
   "cell_type": "code",
   "execution_count": null,
   "metadata": {},
   "outputs": [],
   "source": [
    "print (o)\n",
    "print (lssvm_matrix.dot(o))\n",
    "\n",
    "svm.getApproximationValue(lssvm_matrix, yVector, o)\n",
    "svm.plotCost()"
   ]
  },
  {
   "cell_type": "code",
   "execution_count": null,
   "metadata": {},
   "outputs": [],
   "source": [
    "subsetIndicesTest = np.random.choice(np.arange(X_test.shape[0]), subsetSize, replace=False)\n",
    "xTestSubset = []\n",
    "yTestSubset = []\n",
    "for i in subsetIndicesTest:\n",
    "    xTestSubset.append(X_test[i])\n",
    "    yTestSubset.append(y_test[i])\n",
    "\n",
    "xTestSubset = np.array(xTestSubset)\n",
    "yTestSubset = np.array(yTestSubset)\n",
    "print(o)\n",
    "b = o[0]\n",
    "print(b)\n",
    "w = []\n",
    "for i in range (len(o)):\n",
    "    if (i != 0):\n",
    "        w.append(o[i])\n",
    "print (w)\n",
    "predictions = lssvm.predict(xSubset, xTestSubset, w, b)\n",
    "print(\"Predictions:\", predictions)\n",
    "print(\"Accuracy:\", lssvm.accuracy(yTestSubset, predictions))"
   ]
  }
 ],
 "metadata": {
  "kernelspec": {
   "display_name": "Python 3",
   "language": "python",
   "name": "python3"
  },
  "language_info": {
   "codemirror_mode": {
    "name": "ipython",
    "version": 3
   },
   "file_extension": ".py",
   "mimetype": "text/x-python",
   "name": "python",
   "nbconvert_exporter": "python",
   "pygments_lexer": "ipython3",
   "version": "3.11.4"
  },
  "orig_nbformat": 4
 },
 "nbformat": 4,
 "nbformat_minor": 2
}
