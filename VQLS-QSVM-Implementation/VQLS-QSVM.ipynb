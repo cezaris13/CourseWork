{
 "cells": [
  {
   "cell_type": "code",
   "execution_count": 1,
   "metadata": {},
   "outputs": [],
   "source": [
    "from qiskit import QuantumCircuit\n",
    "from qiskit.quantum_info import SparsePauliOp\n",
    "import numpy as np\n",
    "from sklearn import datasets\n",
    "from sklearn.model_selection import train_test_split\n",
    "\n",
    "from VQLS import getApproximationValue, plotCost, minimization, getMatrixCoeffitients, ansatzTest\n",
    "from LSSVM import predict, lssvmMatrix, prepareLabels, accuracy"
   ]
  },
  {
   "cell_type": "code",
   "execution_count": 2,
   "metadata": {},
   "outputs": [],
   "source": [
    "auxiliaryQubit = 0\n",
    "shots = 10000 # 100000\n",
    "gamma = 0.01 # regularization parameter\n",
    "testSize = 0.2"
   ]
  },
  {
   "cell_type": "code",
   "execution_count": 3,
   "metadata": {},
   "outputs": [
    {
     "name": "stdout",
     "output_type": "stream",
     "text": [
      "LS-SVM Matrix: [[ 0.00000000e+00  1.00000000e+00  1.00000000e+00  1.00000000e+00\n",
      "   1.00000000e+00  1.00000000e+00  1.00000000e+00  1.00000000e+00]\n",
      " [ 1.00000000e+00  1.01875017e+02  5.38214142e-02  4.39809693e-01\n",
      "   1.73882042e+00  3.90872973e-02  3.43590655e-01  7.11363596e-01]\n",
      " [ 1.00000000e+00  5.38214142e-02  1.01715282e+02  1.16699852e+00\n",
      "  -1.79954494e-01 -2.68690672e+00  1.98189378e+00 -2.63972072e+00]\n",
      " [ 1.00000000e+00  4.39809693e-01  1.16699852e+00  1.00880750e+02\n",
      "   2.53024805e-01 -1.80148896e+00  1.40895479e+00 -1.62501200e+00]\n",
      " [ 1.00000000e+00  1.73882042e+00 -1.79954494e-01  2.53024805e-01\n",
      "   1.01643349e+02  3.96797944e-01  5.41211460e-02  1.01650092e+00]\n",
      " [ 1.00000000e+00  3.90872973e-02 -2.68690672e+00 -1.80148896e+00\n",
      "   3.96797944e-01  1.04217039e+02 -3.08600547e+00  4.18730916e+00]\n",
      " [ 1.00000000e+00  3.43590655e-01  1.98189378e+00  1.40895479e+00\n",
      "   5.41211460e-02 -3.08600547e+00  1.02332217e+02 -2.93072105e+00]\n",
      " [ 1.00000000e+00  7.11363596e-01 -2.63972072e+00 -1.62501200e+00\n",
      "   1.01650092e+00  4.18730916e+00 -2.93072105e+00  1.04399074e+02]]\n",
      "['III', 'IIX', 'IIZ', 'IXI', 'IXX', 'IXZ', 'IYY', 'IZI', 'IZX', 'IZZ',\n",
      " 'XII', 'XIX', 'XIZ', 'XXI', 'XXX', 'XXZ', 'XYY', 'XZI', 'XZX', 'XZZ',\n",
      " 'YIY', 'YXY', 'YYI', 'YYX', 'YYZ', 'YZY', 'ZII', 'ZIX', 'ZIZ', 'ZXI',\n",
      " 'ZXX', 'ZXZ', 'ZYY', 'ZZI', 'ZZX', 'ZZZ']\n",
      "[(89.63284102880688+0j), (-0.09173114614445466+0j), (-13.210128985163289+0j), (1.4203099987500614+0j), (-0.2539207833484063+0j), (-0.8932494257331252+0j), (-1.262171243678396+0j), (-12.6989898398909+0j), (0.7901301179191255+0j), (-12.902047717771717+0j), (0.3489922698071319+0j), (0.37701362241510694+0j), (1.1419546192484127+0j), (-0.06751996433312651+0j), (-0.27257281542838485+0j), (-0.27257281542838485+0j), (0.4775427173479901+0j), (0.4775427173479901+0j), (-0.899085217915744+0j), (-0.899085217915744+0j), (0.1705513788347482+0j), (0.9923965878752038+0j), (0.9923965878752038+0j), (-0.6614982678902929+0j), (-0.6614982678902929+0j), (1.1968739816330296+0j), (0.5708805455684298+0j), (0.5708805455684298+0j), (-0.9232017624595021+0j), (-0.9443681430810706+0j), (-0.9443681430810706+0j), (0.33322451547436566+0j), (0.33322451547436566+0j), (-0.8274637713427189+0j), (-0.8274637713427189+0j), (-13.515078757621557+0j), (1.1752304071644408+0j), (-12.049992355378622+0j), (-0.7004051521355859+0j), (0.7808314904654532+0j), (0.7808314904654532+0j), (1.1733445791186496+0j), (1.1733445791186496+0j), (0.789081950795443+0j), (0.789081950795443+0j), (-12.481263798985024+0j), (-0.8736293789391117+0j), (-0.8736293789391117+0j), (-12.775339573995767+0j), (-12.775339573995767+0j)]\n",
      "Iteration: 1\r"
     ]
    },
    {
     "ename": "KeyboardInterrupt",
     "evalue": "",
     "output_type": "error",
     "traceback": [
      "\u001b[0;31m---------------------------------------------------------------------------\u001b[0m",
      "\u001b[0;31mKeyboardInterrupt\u001b[0m                         Traceback (most recent call last)",
      "Cell \u001b[0;32mIn[3], line 25\u001b[0m\n\u001b[1;32m     22\u001b[0m coefficientSet \u001b[39m=\u001b[39m getMatrixCoeffitients(pauliOp)\n\u001b[1;32m     23\u001b[0m \u001b[39mprint\u001b[39m(coefficientSet)\n\u001b[0;32m---> 25\u001b[0m out_f \u001b[39m=\u001b[39m minimization(\n\u001b[1;32m     26\u001b[0m     paulis\u001b[39m=\u001b[39;49mpaulis,\n\u001b[1;32m     27\u001b[0m     coefficientSet\u001b[39m=\u001b[39;49mcoefficientSet,\n\u001b[1;32m     28\u001b[0m     totalNeededQubits\u001b[39m=\u001b[39;49mpauliOp\u001b[39m.\u001b[39;49mnum_qubits \u001b[39m+\u001b[39;49m \u001b[39m2\u001b[39;49m,\n\u001b[1;32m     29\u001b[0m     bVector\u001b[39m=\u001b[39;49myVector,\n\u001b[1;32m     30\u001b[0m     quantumSimulation\u001b[39m=\u001b[39;49m\u001b[39mTrue\u001b[39;49;00m,\n\u001b[1;32m     31\u001b[0m )\n\u001b[1;32m     32\u001b[0m circ \u001b[39m=\u001b[39m QuantumCircuit(pauliOp\u001b[39m.\u001b[39mnum_qubits, pauliOp\u001b[39m.\u001b[39mnum_qubits)\n\u001b[1;32m     33\u001b[0m o \u001b[39m=\u001b[39m ansatzTest(circ, out_f)\n",
      "File \u001b[0;32m~/PS/KursinisSVM/VQLS-QSVM-Implementation/VQLS.py:389\u001b[0m, in \u001b[0;36mminimization\u001b[0;34m(paulis, coefficientSet, totalNeededQubits, bVector, quantumSimulation, method, shots)\u001b[0m\n\u001b[1;32m    387\u001b[0m x \u001b[39m=\u001b[39m x \u001b[39m/\u001b[39m np\u001b[39m.\u001b[39mlinalg\u001b[39m.\u001b[39mnorm(x)\n\u001b[1;32m    388\u001b[0m \u001b[39mif\u001b[39;00m quantumSimulation:\n\u001b[0;32m--> 389\u001b[0m     out \u001b[39m=\u001b[39m minimize(\n\u001b[1;32m    390\u001b[0m         calculateCostFunctionQuantumSimulation,\n\u001b[1;32m    391\u001b[0m         x0\u001b[39m=\u001b[39;49mx,\n\u001b[1;32m    392\u001b[0m         args\u001b[39m=\u001b[39;49m[paulis, coefficientSet, bVector, totalNeededQubits, shots],\n\u001b[1;32m    393\u001b[0m         method\u001b[39m=\u001b[39;49mmethod,\n\u001b[1;32m    394\u001b[0m         options\u001b[39m=\u001b[39;49m{\u001b[39m\"\u001b[39;49m\u001b[39mmaxiter\u001b[39;49m\u001b[39m\"\u001b[39;49m: \u001b[39m200\u001b[39;49m},\n\u001b[1;32m    395\u001b[0m     )\n\u001b[1;32m    396\u001b[0m \u001b[39melse\u001b[39;00m:\n\u001b[1;32m    397\u001b[0m     out \u001b[39m=\u001b[39m minimize(\n\u001b[1;32m    398\u001b[0m         calculateCostFunctionMatrix,\n\u001b[1;32m    399\u001b[0m         x0\u001b[39m=\u001b[39mx,\n\u001b[0;32m   (...)\u001b[0m\n\u001b[1;32m    402\u001b[0m         options\u001b[39m=\u001b[39m{\u001b[39m\"\u001b[39m\u001b[39mmaxiter\u001b[39m\u001b[39m\"\u001b[39m: \u001b[39m200\u001b[39m},\n\u001b[1;32m    403\u001b[0m     )\n",
      "File \u001b[0;32m~/.pyenv/versions/3.11.4/lib/python3.11/site-packages/scipy/optimize/_minimize.py:716\u001b[0m, in \u001b[0;36mminimize\u001b[0;34m(fun, x0, args, method, jac, hess, hessp, bounds, constraints, tol, callback, options)\u001b[0m\n\u001b[1;32m    713\u001b[0m     res \u001b[39m=\u001b[39m _minimize_tnc(fun, x0, args, jac, bounds, callback\u001b[39m=\u001b[39mcallback,\n\u001b[1;32m    714\u001b[0m                         \u001b[39m*\u001b[39m\u001b[39m*\u001b[39moptions)\n\u001b[1;32m    715\u001b[0m \u001b[39melif\u001b[39;00m meth \u001b[39m==\u001b[39m \u001b[39m'\u001b[39m\u001b[39mcobyla\u001b[39m\u001b[39m'\u001b[39m:\n\u001b[0;32m--> 716\u001b[0m     res \u001b[39m=\u001b[39m _minimize_cobyla(fun, x0, args, constraints, callback\u001b[39m=\u001b[39;49mcallback,\n\u001b[1;32m    717\u001b[0m                            bounds\u001b[39m=\u001b[39;49mbounds, \u001b[39m*\u001b[39;49m\u001b[39m*\u001b[39;49moptions)\n\u001b[1;32m    718\u001b[0m \u001b[39melif\u001b[39;00m meth \u001b[39m==\u001b[39m \u001b[39m'\u001b[39m\u001b[39mslsqp\u001b[39m\u001b[39m'\u001b[39m:\n\u001b[1;32m    719\u001b[0m     res \u001b[39m=\u001b[39m _minimize_slsqp(fun, x0, args, jac, bounds,\n\u001b[1;32m    720\u001b[0m                           constraints, callback\u001b[39m=\u001b[39mcallback, \u001b[39m*\u001b[39m\u001b[39m*\u001b[39moptions)\n",
      "File \u001b[0;32m~/.pyenv/versions/3.11.4/lib/python3.11/site-packages/scipy/optimize/_cobyla_py.py:35\u001b[0m, in \u001b[0;36msynchronized.<locals>.wrapper\u001b[0;34m(*args, **kwargs)\u001b[0m\n\u001b[1;32m     32\u001b[0m \u001b[39m@functools\u001b[39m\u001b[39m.\u001b[39mwraps(func)\n\u001b[1;32m     33\u001b[0m \u001b[39mdef\u001b[39;00m \u001b[39mwrapper\u001b[39m(\u001b[39m*\u001b[39margs, \u001b[39m*\u001b[39m\u001b[39m*\u001b[39mkwargs):\n\u001b[1;32m     34\u001b[0m     \u001b[39mwith\u001b[39;00m _module_lock:\n\u001b[0;32m---> 35\u001b[0m         \u001b[39mreturn\u001b[39;00m func(\u001b[39m*\u001b[39;49margs, \u001b[39m*\u001b[39;49m\u001b[39m*\u001b[39;49mkwargs)\n",
      "File \u001b[0;32m~/.pyenv/versions/3.11.4/lib/python3.11/site-packages/scipy/optimize/_cobyla_py.py:278\u001b[0m, in \u001b[0;36m_minimize_cobyla\u001b[0;34m(fun, x0, args, constraints, rhobeg, tol, maxiter, disp, catol, callback, bounds, **unknown_options)\u001b[0m\n\u001b[1;32m    275\u001b[0m \u001b[39mdef\u001b[39;00m \u001b[39m_jac\u001b[39m(x, \u001b[39m*\u001b[39margs):\n\u001b[1;32m    276\u001b[0m     \u001b[39mreturn\u001b[39;00m \u001b[39mNone\u001b[39;00m\n\u001b[0;32m--> 278\u001b[0m sf \u001b[39m=\u001b[39m _prepare_scalar_function(fun, x0, args\u001b[39m=\u001b[39;49margs, jac\u001b[39m=\u001b[39;49m_jac)\n\u001b[1;32m    280\u001b[0m \u001b[39mdef\u001b[39;00m \u001b[39mcalcfc\u001b[39m(x, con):\n\u001b[1;32m    281\u001b[0m     f \u001b[39m=\u001b[39m sf\u001b[39m.\u001b[39mfun(x)\n",
      "File \u001b[0;32m~/.pyenv/versions/3.11.4/lib/python3.11/site-packages/scipy/optimize/_optimize.py:383\u001b[0m, in \u001b[0;36m_prepare_scalar_function\u001b[0;34m(fun, x0, jac, args, bounds, epsilon, finite_diff_rel_step, hess)\u001b[0m\n\u001b[1;32m    379\u001b[0m     bounds \u001b[39m=\u001b[39m (\u001b[39m-\u001b[39mnp\u001b[39m.\u001b[39minf, np\u001b[39m.\u001b[39minf)\n\u001b[1;32m    381\u001b[0m \u001b[39m# ScalarFunction caches. Reuse of fun(x) during grad\u001b[39;00m\n\u001b[1;32m    382\u001b[0m \u001b[39m# calculation reduces overall function evaluations.\u001b[39;00m\n\u001b[0;32m--> 383\u001b[0m sf \u001b[39m=\u001b[39m ScalarFunction(fun, x0, args, grad, hess,\n\u001b[1;32m    384\u001b[0m                     finite_diff_rel_step, bounds, epsilon\u001b[39m=\u001b[39;49mepsilon)\n\u001b[1;32m    386\u001b[0m \u001b[39mreturn\u001b[39;00m sf\n",
      "File \u001b[0;32m~/.pyenv/versions/3.11.4/lib/python3.11/site-packages/scipy/optimize/_differentiable_functions.py:158\u001b[0m, in \u001b[0;36mScalarFunction.__init__\u001b[0;34m(self, fun, x0, args, grad, hess, finite_diff_rel_step, finite_diff_bounds, epsilon)\u001b[0m\n\u001b[1;32m    155\u001b[0m     \u001b[39mself\u001b[39m\u001b[39m.\u001b[39mf \u001b[39m=\u001b[39m fun_wrapped(\u001b[39mself\u001b[39m\u001b[39m.\u001b[39mx)\n\u001b[1;32m    157\u001b[0m \u001b[39mself\u001b[39m\u001b[39m.\u001b[39m_update_fun_impl \u001b[39m=\u001b[39m update_fun\n\u001b[0;32m--> 158\u001b[0m \u001b[39mself\u001b[39;49m\u001b[39m.\u001b[39;49m_update_fun()\n\u001b[1;32m    160\u001b[0m \u001b[39m# Gradient evaluation\u001b[39;00m\n\u001b[1;32m    161\u001b[0m \u001b[39mif\u001b[39;00m \u001b[39mcallable\u001b[39m(grad):\n",
      "File \u001b[0;32m~/.pyenv/versions/3.11.4/lib/python3.11/site-packages/scipy/optimize/_differentiable_functions.py:251\u001b[0m, in \u001b[0;36mScalarFunction._update_fun\u001b[0;34m(self)\u001b[0m\n\u001b[1;32m    249\u001b[0m \u001b[39mdef\u001b[39;00m \u001b[39m_update_fun\u001b[39m(\u001b[39mself\u001b[39m):\n\u001b[1;32m    250\u001b[0m     \u001b[39mif\u001b[39;00m \u001b[39mnot\u001b[39;00m \u001b[39mself\u001b[39m\u001b[39m.\u001b[39mf_updated:\n\u001b[0;32m--> 251\u001b[0m         \u001b[39mself\u001b[39;49m\u001b[39m.\u001b[39;49m_update_fun_impl()\n\u001b[1;32m    252\u001b[0m         \u001b[39mself\u001b[39m\u001b[39m.\u001b[39mf_updated \u001b[39m=\u001b[39m \u001b[39mTrue\u001b[39;00m\n",
      "File \u001b[0;32m~/.pyenv/versions/3.11.4/lib/python3.11/site-packages/scipy/optimize/_differentiable_functions.py:155\u001b[0m, in \u001b[0;36mScalarFunction.__init__.<locals>.update_fun\u001b[0;34m()\u001b[0m\n\u001b[1;32m    154\u001b[0m \u001b[39mdef\u001b[39;00m \u001b[39mupdate_fun\u001b[39m():\n\u001b[0;32m--> 155\u001b[0m     \u001b[39mself\u001b[39m\u001b[39m.\u001b[39mf \u001b[39m=\u001b[39m fun_wrapped(\u001b[39mself\u001b[39;49m\u001b[39m.\u001b[39;49mx)\n",
      "File \u001b[0;32m~/.pyenv/versions/3.11.4/lib/python3.11/site-packages/scipy/optimize/_differentiable_functions.py:137\u001b[0m, in \u001b[0;36mScalarFunction.__init__.<locals>.fun_wrapped\u001b[0;34m(x)\u001b[0m\n\u001b[1;32m    133\u001b[0m \u001b[39mself\u001b[39m\u001b[39m.\u001b[39mnfev \u001b[39m+\u001b[39m\u001b[39m=\u001b[39m \u001b[39m1\u001b[39m\n\u001b[1;32m    134\u001b[0m \u001b[39m# Send a copy because the user may overwrite it.\u001b[39;00m\n\u001b[1;32m    135\u001b[0m \u001b[39m# Overwriting results in undefined behaviour because\u001b[39;00m\n\u001b[1;32m    136\u001b[0m \u001b[39m# fun(self.x) will change self.x, with the two no longer linked.\u001b[39;00m\n\u001b[0;32m--> 137\u001b[0m fx \u001b[39m=\u001b[39m fun(np\u001b[39m.\u001b[39;49mcopy(x), \u001b[39m*\u001b[39;49margs)\n\u001b[1;32m    138\u001b[0m \u001b[39m# Make sure the function returns a true scalar\u001b[39;00m\n\u001b[1;32m    139\u001b[0m \u001b[39mif\u001b[39;00m \u001b[39mnot\u001b[39;00m np\u001b[39m.\u001b[39misscalar(fx):\n",
      "File \u001b[0;32m~/PS/KursinisSVM/VQLS-QSVM-Implementation/VQLS.py:317\u001b[0m, in \u001b[0;36mcalculateCostFunctionQuantumSimulation\u001b[0;34m(parameters, args)\u001b[0m\n\u001b[1;32m    314\u001b[0m t_circ \u001b[39m=\u001b[39m transpile(circ, backend)\n\u001b[1;32m    315\u001b[0m job \u001b[39m=\u001b[39m backend\u001b[39m.\u001b[39mrun(t_circ, shots\u001b[39m=\u001b[39mshots)\n\u001b[0;32m--> 317\u001b[0m result \u001b[39m=\u001b[39m job\u001b[39m.\u001b[39;49mresult()\n\u001b[1;32m    318\u001b[0m outputstate \u001b[39m=\u001b[39m result\u001b[39m.\u001b[39mget_counts(circ)\n\u001b[1;32m    320\u001b[0m \u001b[39mif\u001b[39;00m \u001b[39m\"\u001b[39m\u001b[39m1\u001b[39m\u001b[39m\"\u001b[39m \u001b[39min\u001b[39;00m outputstate\u001b[39m.\u001b[39mkeys():\n",
      "File \u001b[0;32m~/.pyenv/versions/3.11.4/lib/python3.11/site-packages/qiskit_aer/jobs/utils.py:42\u001b[0m, in \u001b[0;36mrequires_submit.<locals>._wrapper\u001b[0;34m(self, *args, **kwargs)\u001b[0m\n\u001b[1;32m     40\u001b[0m \u001b[39mif\u001b[39;00m \u001b[39mself\u001b[39m\u001b[39m.\u001b[39m_future \u001b[39mis\u001b[39;00m \u001b[39mNone\u001b[39;00m:\n\u001b[1;32m     41\u001b[0m     \u001b[39mraise\u001b[39;00m JobError(\u001b[39m\"\u001b[39m\u001b[39mJob not submitted yet!. You have to .submit() first!\u001b[39m\u001b[39m\"\u001b[39m)\n\u001b[0;32m---> 42\u001b[0m \u001b[39mreturn\u001b[39;00m func(\u001b[39mself\u001b[39;49m, \u001b[39m*\u001b[39;49margs, \u001b[39m*\u001b[39;49m\u001b[39m*\u001b[39;49mkwargs)\n",
      "File \u001b[0;32m~/.pyenv/versions/3.11.4/lib/python3.11/site-packages/qiskit_aer/jobs/aerjob.py:114\u001b[0m, in \u001b[0;36mAerJob.result\u001b[0;34m(self, timeout)\u001b[0m\n\u001b[1;32m     96\u001b[0m \u001b[39m@requires_submit\u001b[39m\n\u001b[1;32m     97\u001b[0m \u001b[39mdef\u001b[39;00m \u001b[39mresult\u001b[39m(\u001b[39mself\u001b[39m, timeout\u001b[39m=\u001b[39m\u001b[39mNone\u001b[39;00m):\n\u001b[1;32m     98\u001b[0m     \u001b[39m# pylint: disable=arguments-differ\u001b[39;00m\n\u001b[1;32m     99\u001b[0m \u001b[39m    \u001b[39m\u001b[39m\"\"\"Get job result. The behavior is the same as the underlying\u001b[39;00m\n\u001b[1;32m    100\u001b[0m \u001b[39m    concurrent Future objects,\u001b[39;00m\n\u001b[1;32m    101\u001b[0m \n\u001b[0;32m   (...)\u001b[0m\n\u001b[1;32m    112\u001b[0m \u001b[39m        concurrent.futures.CancelledError: if job cancelled before completed.\u001b[39;00m\n\u001b[1;32m    113\u001b[0m \u001b[39m    \"\"\"\u001b[39;00m\n\u001b[0;32m--> 114\u001b[0m     \u001b[39mreturn\u001b[39;00m \u001b[39mself\u001b[39;49m\u001b[39m.\u001b[39;49m_future\u001b[39m.\u001b[39;49mresult(timeout\u001b[39m=\u001b[39;49mtimeout)\n",
      "File \u001b[0;32m~/.pyenv/versions/3.11.4/lib/python3.11/concurrent/futures/_base.py:451\u001b[0m, in \u001b[0;36mFuture.result\u001b[0;34m(self, timeout)\u001b[0m\n\u001b[1;32m    448\u001b[0m \u001b[39melif\u001b[39;00m \u001b[39mself\u001b[39m\u001b[39m.\u001b[39m_state \u001b[39m==\u001b[39m FINISHED:\n\u001b[1;32m    449\u001b[0m     \u001b[39mreturn\u001b[39;00m \u001b[39mself\u001b[39m\u001b[39m.\u001b[39m__get_result()\n\u001b[0;32m--> 451\u001b[0m \u001b[39mself\u001b[39;49m\u001b[39m.\u001b[39;49m_condition\u001b[39m.\u001b[39;49mwait(timeout)\n\u001b[1;32m    453\u001b[0m \u001b[39mif\u001b[39;00m \u001b[39mself\u001b[39m\u001b[39m.\u001b[39m_state \u001b[39min\u001b[39;00m [CANCELLED, CANCELLED_AND_NOTIFIED]:\n\u001b[1;32m    454\u001b[0m     \u001b[39mraise\u001b[39;00m CancelledError()\n",
      "File \u001b[0;32m~/.pyenv/versions/3.11.4/lib/python3.11/threading.py:320\u001b[0m, in \u001b[0;36mCondition.wait\u001b[0;34m(self, timeout)\u001b[0m\n\u001b[1;32m    318\u001b[0m \u001b[39mtry\u001b[39;00m:    \u001b[39m# restore state no matter what (e.g., KeyboardInterrupt)\u001b[39;00m\n\u001b[1;32m    319\u001b[0m     \u001b[39mif\u001b[39;00m timeout \u001b[39mis\u001b[39;00m \u001b[39mNone\u001b[39;00m:\n\u001b[0;32m--> 320\u001b[0m         waiter\u001b[39m.\u001b[39;49macquire()\n\u001b[1;32m    321\u001b[0m         gotit \u001b[39m=\u001b[39m \u001b[39mTrue\u001b[39;00m\n\u001b[1;32m    322\u001b[0m     \u001b[39melse\u001b[39;00m:\n",
      "\u001b[0;31mKeyboardInterrupt\u001b[0m: "
     ]
    }
   ],
   "source": [
    "X, y = datasets.make_classification(\n",
    "    n_samples=50, n_features=2, n_informative=2, n_redundant=0, random_state=45\n",
    ")\n",
    "y = np.where(y == 0, -1, 1)\n",
    "X_train, X_test, y_train, y_test = train_test_split(\n",
    "    X, y, test_size=testSize, random_state=42\n",
    ")\n",
    "subsetSize = 7\n",
    "subsetIndices = np.random.choice(np.arange(X_train.shape[0]), subsetSize, replace=False)\n",
    "xSubset = np.array([X_train[i] for i in subsetIndices])\n",
    "ySubset = np.array([y_train[i] for i in subsetIndices])\n",
    "\n",
    "inputMatrix = lssvmMatrix(xSubset, gamma, \"linearKernel\")\n",
    "yVector = prepareLabels(ySubset)\n",
    "\n",
    "print(\"LS-SVM Matrix:\", inputMatrix)\n",
    "\n",
    "pauliOp = SparsePauliOp.from_operator(inputMatrix)\n",
    "paulis = pauliOp.paulis\n",
    "print(paulis)\n",
    "\n",
    "coefficientSet = getMatrixCoeffitients(pauliOp)\n",
    "print(coefficientSet)\n",
    "\n",
    "outF = minimization(\n",
    "    paulis=paulis,\n",
    "    coefficientSet=coefficientSet,\n",
    "    totalNeededQubits=pauliOp.num_qubits + 2,\n",
    "    bVector=yVector,\n",
    "    quantumSimulation=True,\n",
    ")\n",
    "circ = QuantumCircuit(pauliOp.num_qubits, pauliOp.num_qubits)\n",
    "o = ansatzTest(circ, outF)\n",
    "\n",
    "getApproximationValue(inputMatrix, yVector, o)\n",
    "plotCost()"
   ]
  },
  {
   "cell_type": "code",
   "execution_count": 4,
   "metadata": {},
   "outputs": [
    {
     "ename": "NameError",
     "evalue": "name 'o' is not defined",
     "output_type": "error",
     "traceback": [
      "\u001b[0;31m---------------------------------------------------------------------------\u001b[0m",
      "\u001b[0;31mNameError\u001b[0m                                 Traceback (most recent call last)",
      "Cell \u001b[0;32mIn[4], line 1\u001b[0m\n\u001b[0;32m----> 1\u001b[0m \u001b[39mprint\u001b[39m(o)\n\u001b[1;32m      2\u001b[0m \u001b[39mprint\u001b[39m(lssvm_matrix\u001b[39m.\u001b[39mdot(o))\n\u001b[1;32m      4\u001b[0m getApproximationValue(lssvm_matrix, yVector, o)\n",
      "\u001b[0;31mNameError\u001b[0m: name 'o' is not defined"
     ]
    }
   ],
   "source": [
    "print(o)\n",
    "print(lssvm_matrix.dot(o))\n",
    "\n",
    "getApproximationValue(lssvm_matrix, yVector, o)\n",
    "plotCost()"
   ]
  },
  {
   "cell_type": "code",
   "execution_count": null,
   "metadata": {},
   "outputs": [],
   "source": [
    "subsetIndicesTest = np.random.choice(\n",
    "    np.arange(X_test.shape[0]), subsetSize, replace=False\n",
    ")\n",
    "xTestSubset = []\n",
    "yTestSubset = []\n",
    "for i in subsetIndicesTest:\n",
    "    xTestSubset.append(X_test[i])\n",
    "    yTestSubset.append(y_test[i])\n",
    "\n",
    "xTestSubset = np.array(xTestSubset)\n",
    "yTestSubset = np.array(yTestSubset)\n",
    "print(o)\n",
    "b = o[0]\n",
    "print(b)\n",
    "w = []\n",
    "for i in range(len(o)):\n",
    "    if i != 0:\n",
    "        w.append(o[i])\n",
    "print(w)\n",
    "predictions = predict(xSubset, xTestSubset, w, b)\n",
    "print(\"Predictions:\", predictions)\n",
    "print(\"Accuracy:\", accuracy(yTestSubset, predictions))"
   ]
  }
 ],
 "metadata": {
  "kernelspec": {
   "display_name": "Python 3",
   "language": "python",
   "name": "python3"
  },
  "language_info": {
   "codemirror_mode": {
    "name": "ipython",
    "version": 3
   },
   "file_extension": ".py",
   "mimetype": "text/x-python",
   "name": "python",
   "nbconvert_exporter": "python",
   "pygments_lexer": "ipython3",
   "version": "3.11.4"
  },
  "orig_nbformat": 4
 },
 "nbformat": 4,
 "nbformat_minor": 2
}
