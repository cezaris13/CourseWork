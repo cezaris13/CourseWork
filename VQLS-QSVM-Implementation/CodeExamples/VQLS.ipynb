{
 "cells": [
  {
   "cell_type": "markdown",
   "metadata": {
    "tags": [
     "remove_cell"
    ]
   },
   "source": [
    "# The Variational Quantum Linear Solver"
   ]
  },
  {
   "cell_type": "code",
   "execution_count": 1,
   "metadata": {},
   "outputs": [],
   "source": [
    "from qiskit import QuantumCircuit\n",
    "import numpy as np\n",
    "from typing import List\n",
    "import sys\n",
    "sys.path.append(\"..\")\n",
    "\n",
    "from Code.VQLS.Circuits import getSolutionVector, specialHadamardTest,hadamardTest\n",
    "from Code.VQLS.NormEstimation import estimateNorm\n",
    "from Code.VQLS.Ansatz import fixedAnsatz, controlledFixedAnsatz\n",
    "from Code.VQLS.LCU import convertMatrixIntoCircuit, getLCU\n",
    "from Code.VQLS.LabelVector import labelVectorCircuit,controlledLabelVectorCircuit, getPaddedLabelVector\n",
    "from Code.VQLS.Minimization import minimization, getApproximationValue, plotCost\n",
    "from Code.Utils import createMatrixFromParameters, generateParams, appendMatrices"
   ]
  },
  {
   "cell_type": "code",
   "execution_count": 2,
   "metadata": {},
   "outputs": [],
   "source": [
    "qubits = 3 # 3\n",
    "iterations = 2000\n",
    "layers = 3\n",
    "shots: int = 10000"
   ]
  },
  {
   "cell_type": "markdown",
   "metadata": {},
   "source": [
    "## 1. Introduction\n",
    "\n",
    "The Variational Quantum Linear Solver, or the VQLS is a variational quantum algorithm that utilizes VQE in order to solve systems of linear equations more efficiently than classical computational algorithms. Specifically, if we are given some matrix $\\textbf{A}$, such that $\\textbf{A} |\\textbf{x}\\rangle \\ = \\ |\\textbf{b}\\rangle$, where $|\\textbf{b}\\rangle$ is some known vector, the VQLS algorithm is theoretically able to find a normalized $|x\\rangle$ that is proportional to $|\\textbf{x}\\rangle$, which makes the above relationship true.\n",
    "\n",
    "The output of this algorithm is identical to that of the HHL Quantum Linear-Solving Algorithm, except, while HHL provides a much more favourable computation speedup over VQLS, the variational nature of our algorithm allows for it to be performed on NISQ quantum computers, while HHL would require much more robust quantum hardware, and many more qubits.\n"
   ]
  },
  {
   "cell_type": "markdown",
   "metadata": {},
   "source": [
    "## 2. The Algorithm\n",
    "\n",
    "To begin, the inputs into this algorithm are evidently the matrix $\\textbf{A}$, which we have to decompose into a linear combination of unitaries with complex coefficients:\n",
    "\n",
    "\n",
    "\n",
    "$$A \\ = \\ \\displaystyle\\sum_{n} c_n \\ A_n$$\n",
    "\n",
    "\n",
    "\n",
    "Where each $A_n$ is some unitary, and some unitary $U$ that prepares state $|\\textbf{b}\\rangle$ from $|0\\rangle$. Now, recall the general structure of a variational quantum algorithm. We have to construct a quantum cost function, which can be evaluated with a low-depth parameterized quantum circuit, then output to the classical optimizer. This allows us to search a parameter space for some set of parameters $\\alpha$, such that $|\\psi(\\alpha)\\rangle \\ = \\ \\frac{|\\textbf{x}\\rangle}{|| \\textbf{x} ||}$, where $|\\psi(k)\\rangle$ is the output of out quantum circuit corresponding to some parameter set $k$.\n",
    "\n",
    "Before we actually begin constructing the cost function, let's take a look at a \"high level\" overview of the sub-routines within this algorithm, as illustrated in this image from the original paper:\n",
    "\n",
    "![alt text](images/bro.png)"
   ]
  },
  {
   "cell_type": "markdown",
   "metadata": {},
   "source": [
    "So essentially, we start off with a qubit register, with each qubit initialized to $|0\\rangle$. Our algorithm takes its inputs, then prepares and evaluates the cost function, starting with the creation of some ansatz $V(\\alpha)$. If the computed cost is greater than some parameter $\\gamma$, the algorithm is run again with updated parameters, and if not, the algorithm terminates, and the ansatz is calculated with the optimal parameters (determined at termination). This gives us the state vector that minimizes our cost function, and therefore the normalized form of $|\\textbf{x}\\rangle$."
   ]
  },
  {
   "cell_type": "markdown",
   "metadata": {},
   "source": [
    "## 3. Qiskit Implementation\n",
    "\n",
    "### Fixed Hardware Ansatz\n",
    "Let's start off by considering the ansatz $V(\\alpha)$, which is just a circuit that prepares some arbitrary state $|\\psi(k)\\rangle$. This allows us to \"search\" the state space by varying some set of parameters, $k$. Anyways, the ansatz that we will use for this implementation is given as follows:"
   ]
  },
  {
   "cell_type": "code",
   "execution_count": 3,
   "metadata": {},
   "outputs": [
    {
     "data": {
      "image/png": "[encoded data removed]",
      "text/plain": [
       "<Figure size 1123.61x284.278 with 1 Axes>"
      ]
     },
     "execution_count": 3,
     "metadata": {},
     "output_type": "execute_result"
    }
   ],
   "source": [
    "circ: QuantumCircuit = QuantumCircuit(qubits)\n",
    "params = generateParams(qubits,layers)\n",
    "fixedAnsatz(circ, qubits, params,layers=layers, barrier=True)\n",
    "circ.draw(output=\"mpl\", style=\"clifford\")"
   ]
  },
  {
   "cell_type": "markdown",
   "metadata": {},
   "source": [
    "This is called a **fixed hardware ansatz**: the configuration of quantum gates remains the same for each run of the circuit, all that changes are the parameters. Unlike the QAOA ansatz, it is not composed solely of Trotterized Hamiltonians. The applications of $Ry$ gates allow us to search the state space, while the $CZ$ gates create \"interference\" between the different qubit states. \n",
    "\n",
    "Now, it makes sense for us to consider the actual **cost function**. The goal of our algorithm will be to minimize cost, so when $|\\Phi\\rangle \\ = \\ \\textbf{A} |\\psi(k)\\rangle$ is very close to $|\\textbf{b}\\rangle$, we want our cost function's output to be very small, and when the vectors are close to being orthogonal, we want the cost function to be very large. Thus, we introduce the \"projection\" Hamiltonian:\n",
    "\n",
    "\n",
    "\n",
    "$$H_P \\ = \\ \\mathbb{I} \\ - \\ |b\\rangle \\langle b|$$\n",
    "\n",
    "\n",
    "\n",
    "Where we have:\n",
    "\n",
    "\n",
    "\n",
    "$$C_P \\ = \\ \\langle \\Phi | H_P | \\Phi \\rangle \\ = \\ \\langle \\Phi | (\\mathbb{I} \\ - \\ |b\\rangle \\langle b|) |\\Phi \\rangle \\ = \\ \\langle \\Phi | \\Phi \\rangle \\ - \\ \\langle \\Phi |b\\rangle \\langle b | \\Phi \\rangle$$\n",
    "\n",
    "\n",
    "\n",
    "Notice how the second term tells us \"how much\" of $|\\Phi\\rangle$ lies along $|b\\rangle$. We then subtract this from another number to get the desired low number when the inner product of $|\\Phi\\rangle$ and $|b\\rangle$ is greater (they agree more), and the opposite for when they are close to being orthogonal. This is looking good so far! However, there is still one more thing we can do to increase the accuracy of the algorithm: normalizing the cost function. This is due to the fact that if $|\\Phi\\rangle$ has a small norm, then the cost function will still be low, even if it does not agree with $|\\textbf{b}\\rangle$. Thus, we replace $|\\Phi\\rangle$ with $\\frac{|\\Phi\\rangle}{\\sqrt{\\langle \\Phi | \\Phi \\rangle}}$:\n",
    "\n",
    "\n",
    "\n",
    "$$\\hat{C}_P \\ = \\ \\frac{\\langle \\Phi | \\Phi \\rangle}{\\langle \\Phi | \\Phi \\rangle} \\ - \\ \\frac{\\langle \\Phi |b\\rangle \\langle b | \\Phi \\rangle}{\\langle \\Phi | \\Phi \\rangle} \\ = \\ 1 \\ - \\ \\frac{\\langle \\Phi |b\\rangle \\langle b | \\Phi \\rangle}{\\langle \\Phi | \\Phi \\rangle} \\ = \\ 1 \\ - \\ \\frac{|\\langle b | \\Phi \\rangle|^2}{\\langle \\Phi | \\Phi \\rangle}$$\n",
    "\n",
    "\n",
    "\n",
    "Ok, so, we have prepared our state $|\\psi(k)\\rangle$ with the ansatz. Now, we have two values to calculate in order to evaluate the cost function, namely $|\\langle b | \\Phi \\rangle|^2$ and $\\langle \\Phi | \\Phi \\rangle$. Luckily, a nifty little quantum subroutine called the **Hadamard Test** allows us to do this! Essentially, if we have some unitary $U$ and some state $|\\phi\\rangle$, and we want to find the expectation value of $U$ with respect to the state, $\\langle \\phi | U | \\phi \\rangle$, then we can evaluate the following circuit:\n",
    "\n",
    "<br><br>\n",
    "\n",
    "![image1](images/h.png)\n",
    "\n",
    "<br><br>\n",
    "\n",
    "Then, the probability of measuring the first qubit to be $0$ is equal to $\\frac{1}{2} (1 \\ + \\ \\text{Re}\\langle U \\rangle)$ and the probability of measuring $1$ is $\\frac{1}{2} (1 \\ - \\ \\text{Re}\\langle U \\rangle)$, so subtracting the two probabilities gives us $\\text{Re} \\langle U \\rangle$. Luckily, the matrices we will be dealing with when we test this algorithm are completely real, so $\\text{Re} \\langle U \\rangle \\ = \\ \\langle U \\rangle$, for this specific implementation. Here is how the Hadamard test works. By the circuit diagram, we have as our general state vector:\n",
    "\n",
    "<br>\n",
    "\n",
    "\n",
    "\n",
    "$$\\frac{|0\\rangle \\ + \\ |1\\rangle}{\\sqrt{2}} \\ \\otimes \\ |\\psi\\rangle \\ = \\ \\frac{|0\\rangle \\ \\otimes \\ |\\psi\\rangle \\ + \\ |1\\rangle \\ \\otimes \\ |\\psi\\rangle}{\\sqrt{2}}$$\n",
    "\n",
    "\n",
    "\n",
    "<br>\n",
    "\n",
    "Applying our controlled unitary:\n",
    "\n",
    "<br>\n",
    "\n",
    "\n",
    "\n",
    "$$\\frac{|0\\rangle \\ \\otimes \\ |\\psi\\rangle \\ + \\ |1\\rangle \\ \\otimes \\ |\\psi\\rangle}{\\sqrt{2}} \\ \\rightarrow \\ \\frac{|0\\rangle \\ \\otimes \\ |\\psi\\rangle \\ + \\ |1\\rangle \\ \\otimes \\ U|\\psi\\rangle}{\\sqrt{2}}$$\n",
    "\n",
    "\n",
    "\n",
    "<br>\n",
    "\n",
    "Then applying the Hadamard gate to the first qubit:\n",
    "\n",
    "<br>\n",
    "\n",
    "\n",
    "\n",
    "$$\\frac{|0\\rangle \\ \\otimes \\ |\\psi\\rangle \\ + \\ |1\\rangle \\ \\otimes \\ U|\\psi\\rangle}{\\sqrt{2}} \\ \\rightarrow \\ \\frac{1}{2} \\ \\big[ |0\\rangle \\ \\otimes \\ |\\psi\\rangle \\ + \\ |1\\rangle \\ \\otimes \\ |\\psi\\rangle \\ + \\ |0\\rangle \\ \\otimes \\ U|\\psi\\rangle \\ - \\ |1\\rangle \\ \\otimes \\ U|\\psi\\rangle \\big]$$\n",
    "\n",
    "\n",
    "\n",
    "<br>\n",
    "\n",
    "\n",
    "\n",
    "$$\\Rightarrow \\ \\frac{1}{2} |0\\rangle \\ \\otimes \\ (\\mathbb{I} \\ + \\ U)|\\psi\\rangle \\ + \\ \\frac{1}{2} |1\\rangle \\ \\otimes \\ (\\mathbb{I} \\ - \\ U)|\\psi\\rangle$$\n",
    "\n",
    "\n",
    "\n",
    "<br>\n",
    "\n",
    "When we take a measurement of the first qubit, remember that in order to find the probability of measuring $0$, we must take the inner product of the state vector with $|0\\rangle$, then multiply by its complex conjugate (see the quantum mechanics section if you are not familiar with this). The same follows for the probability of measuring $1$. Thus, we have:\n",
    "\n",
    "<br>\n",
    "\n",
    "\n",
    "\n",
    "$$P(0) \\ = \\ \\frac{1}{4} \\ \\langle \\psi | (\\mathbb{I} \\ + \\ U) (\\mathbb{I} \\ + \\ U^{\\dagger}) |\\psi\\rangle \\ = \\ \\frac{1}{4} \\ \\langle \\psi | (\\mathbb{I}^2 \\ + U \\ + \\ U^{\\dagger} \\ + U U^{\\dagger}) |\\psi\\rangle \\ = \\ \\frac{1}{4} \\ \\langle \\psi | (2\\mathbb{I} \\ + U \\ + \\ U^{\\dagger}) |\\psi\\rangle$$\n",
    "\n",
    "\n",
    "\n",
    "<br>\n",
    "\n",
    "\n",
    "\n",
    "$$\\Rightarrow \\ \\frac{1}{4} \\Big[ 2 \\ + \\ \\langle \\psi | U^{\\dagger} | \\psi \\rangle \\ + \\ \\langle \\psi | U | \\psi \\rangle \\Big] \\ = \\ \\frac{1}{4} \\Big[ 2 \\ + \\ (\\langle \\psi | U | \\psi \\rangle)^{*} \\ + \\ \\langle \\psi | U | \\psi \\rangle \\Big] \\ = \\ \\frac{1}{2} (1 \\ + \\ \\text{Re} \\ \\langle \\psi | U | \\psi \\rangle)$$\n",
    "\n",
    "\n",
    "\n",
    "<br>\n",
    "\n",
    "By a similar procedure, we get:\n",
    "\n",
    "<br>\n",
    "\n",
    "\n",
    "\n",
    "$$P(1) \\ = \\ \\frac{1}{2} \\ (1 \\ - \\ \\text{Re} \\ \\langle \\psi | U | \\psi \\rangle)$$\n",
    "\n",
    "\n",
    "\n",
    "<br>\n",
    "\n",
    "And so, by taking the difference:\n",
    "\n",
    "<br>\n",
    "\n",
    "\n",
    "\n",
    "$$P(0) \\ - \\ P(1) \\ = \\ \\text{Re} \\ \\langle \\psi | U | \\psi \\rangle$$\n",
    "\n",
    "\n",
    "\n",
    "<br>\n",
    "\n",
    "Cool! Now, we can actually implement this for the two values we have to compute. Starting with $\\langle \\Phi | \\Phi \\rangle$, we have:\n",
    "\n",
    "<br>\n",
    "\n",
    "\n",
    "\n",
    "$$\\langle \\Phi | \\Phi \\rangle \\ = \\ \\langle \\psi(k) | A^{\\dagger} A |\\psi(k) \\rangle \\ = \\ \\langle 0 | V(k)^{\\dagger} A^{\\dagger} A V(k) |0\\rangle \\ = \\ \\langle 0 | V(k)^{\\dagger} \\Big( \\displaystyle\\sum_{n} c_n \\ A_n \\Big)^{\\dagger} \\Big( \\displaystyle\\sum_{n} c_n \\ A_n \\Big) V(k) |0\\rangle$$\n",
    "\n",
    "\n",
    "\n",
    "<br>\n",
    "\n",
    "\n",
    "\n",
    "$$\\Rightarrow \\ \\langle \\Phi | \\Phi \\rangle \\ = \\ \\displaystyle\\sum_{m} \\displaystyle\\sum_{n} c_m^{*} c_n \\langle 0 | V(k)^{\\dagger} A_m^{\\dagger} A_n V(k) |0\\rangle$$\n",
    "\n",
    "\n",
    "\n",
    "<br>\n",
    "\n",
    "and so our task becomes computing every possible term $\\langle 0 | V(k)^{\\dagger} A_m^{\\dagger} A_n V(k) |0\\rangle$ using the Hadamard test. This requires us to prepare the state $V(k) |0\\rangle$, and then perform controlled operations with some control-auxiliary qubits for the unitary matrices $A_m^{\\dagger}$ and $A_n$. We can implement this in code:\n"
   ]
  },
  {
   "cell_type": "code",
   "execution_count": 4,
   "metadata": {},
   "outputs": [
    {
     "data": {
      "image/png": "[encoded data removed]",
      "text/plain": [
       "<Figure size 1792.5x367.889 with 1 Axes>"
      ]
     },
     "execution_count": 4,
     "metadata": {},
     "output_type": "execute_result"
    }
   ],
   "source": [
    "circ: QuantumCircuit = QuantumCircuit(qubits+1)\n",
    "matrices = [\"ZII\"]\n",
    "matrices = appendMatrices(matrices, qubits)\n",
    "matrix: np.ndarray  = createMatrixFromParameters([1], matrices)\n",
    "paulis, coefficientSet = getLCU(matrix)\n",
    "params = generateParams(qubits, layers=layers)\n",
    "\n",
    "fixedAnsatzCircuit = QuantumCircuit(qubits+1)\n",
    "fixedAnsatz(fixedAnsatzCircuit, qubits, params,layers=layers, barrier=True,offset=1)\n",
    "\n",
    "\n",
    "hadamardTest(circ,paulis, fixedAnsatzCircuit)\n",
    "circ.draw(output=\"mpl\", style=\"clifford\")\n",
    "circ.decompose().draw(output=\"mpl\", style=\"clifford\")"
   ]
  },
  {
   "cell_type": "markdown",
   "metadata": {},
   "source": [
    "The reason why we are applying two different \"gate_types\" is because this represents the pairs of gates shown in the expanded form of $\\langle \\Phi | \\Phi \\rangle$.\n",
    "\n",
    "It is also important to note that for the purposes of this implementation (the systems of equations we will actually be solving, we are only concerned with the gates $Z$ and $\\mathbb{I}$, so I only include support for these gates (The code includes number \"identifiers\" that signify the application of different gates, $0$ for $\\mathbb{I}$ and $1$ for $Z$).\n",
    "\n",
    "Now, we can move on to the second value we must calculate, which is $|\\langle b | \\Phi \\rangle|^2$. We get:\n",
    "\n",
    "<br>\n",
    "\n",
    "\n",
    "\n",
    "$$|\\langle b | \\Phi \\rangle|^2 \\ = \\ |\\langle b | A V(k) | 0 \\rangle|^2 \\ = \\ |\\langle 0 | U^{\\dagger} A V(k) | 0 \\rangle|^2 \\ = \\ \\langle 0 | U^{\\dagger} A V(k) | 0 \\rangle \\langle 0 | V(k)^{\\dagger} A^{\\dagger} U |0\\rangle$$\n",
    "\n",
    "\n",
    "\n",
    "<br>\n",
    "\n",
    "All we have to do now is the same expansion as before for the product $\\langle 0 | U^{\\dagger} A V(k) | 0 \\rangle \\langle 0 | V(k)^{\\dagger} A^{\\dagger} U |0\\rangle$:\n",
    "\n",
    "<br>\n",
    "\n",
    "\n",
    "\n",
    "$$\\langle 0 | U^{\\dagger} A V(k) | 0 \\rangle^2 \\ = \\ \\displaystyle\\sum_{m} \\displaystyle\\sum_{n} c_m^{*} c_n \\langle 0 | U^{\\dagger} A_n V(k) | 0 \\rangle \\langle 0 | V(k)^{\\dagger} A_m^{\\dagger} U |0\\rangle$$\n",
    "\n",
    "\n",
    "\n",
    "<br>\n",
    "\n",
    "Now, again, for the purposes of this demonstration, we will soon see that all the outputs/expectation values of our implementation will be real, so we have:\n",
    "<br>\n",
    "\n",
    "\n",
    "\n",
    "$$\\Rightarrow \\ \\langle 0 | U^{\\dagger} A V(k) | 0 \\rangle \\ = \\ (\\langle 0 | U^{\\dagger} A V(k) | 0 \\rangle)^{*} \\ = \\ \\langle 0 | V(k)^{\\dagger} A^{\\dagger} U |0\\rangle$$\n",
    "\n",
    "\n",
    "\n",
    "<br>\n",
    "\n",
    "Thus, in this particular implementation:\n",
    "\n",
    "<br>\n",
    "\n",
    "\n",
    "\n",
    "$$|\\langle b | \\Phi \\rangle|^2 \\ = \\ \\displaystyle\\sum_{m} \\displaystyle\\sum_{n} c_m c_n \\langle 0 | U^{\\dagger} A_n V(k) | 0 \\rangle \\langle 0 | U^{\\dagger} A_m V(k) | 0 \\rangle$$\n",
    "\n",
    "\n",
    "\n",
    "<br>\n",
    "\n",
    "There is a sophisticated way of solving for this value, using a newly-proposed subroutine called the **Hadamard Overlap Test** (see cited paper), but for this tutorial, we will just be using a standard Hadamard Test, where we control each matrix. This unfortunately requires the use of an extra auxiliary qubit. We essentially just place a control on each of the gates involved in the auxiliary, the $|b\\rangle$ preparation unitary, and the $A_n$ unitaries. We get something like this for the controlled-ansatz:\n"
   ]
  },
  {
   "cell_type": "code",
   "execution_count": 5,
   "metadata": {},
   "outputs": [
    {
     "data": {
      "image/png": "[encoded data removed]",
      "text/plain": [
       "<Figure size 1876.11x451.5 with 1 Axes>"
      ]
     },
     "execution_count": 5,
     "metadata": {},
     "output_type": "execute_result"
    }
   ],
   "source": [
    "circ: QuantumCircuit = QuantumCircuit(qubits+2)\n",
    "params = generateParams(qubits, layers)\n",
    "controlledFixedAnsatz(circ, qubits, params)\n",
    "circ.draw(output=\"mpl\", style=\"clifford\")"
   ]
  },
  {
   "cell_type": "markdown",
   "metadata": {},
   "source": [
    "Notice the extra qubit, `q0_4`. This is an auxiliary, and allows us to create a $CCZ$ gate, as is shown in the circuit. Now, we also have to create the circuit for $U$. In our implementation, we will pick $U$ as:\n",
    "\n",
    "<br>\n",
    "\n",
    "\n",
    "\n",
    "In this function we encode the vector with the amplitude encoding:\n",
    "\n",
    "\n",
    "\n",
    "<br>\n",
    "\n",
    "Thus, we have:"
   ]
  },
  {
   "cell_type": "code",
   "execution_count": 6,
   "metadata": {},
   "outputs": [
    {
     "name": "stdout",
     "output_type": "stream",
     "text": [
      "[0.57735027 0.57735027 0.57735027 0.        ]\n"
     ]
    },
    {
     "data": {
      "image/png": "[encoded data removed]",
      "text/plain": [
       "<Figure size 287.496x367.889 with 1 Axes>"
      ]
     },
     "execution_count": 6,
     "metadata": {},
     "output_type": "execute_result"
    }
   ],
   "source": [
    "print(getPaddedLabelVector([1, 1, 1]))\n",
    "\n",
    "circ: QuantumCircuit = labelVectorCircuit([1, 1, 1])\n",
    "circ.draw(output=\"mpl\", style=\"clifford\")\n",
    "\n",
    "circ: QuantumCircuit = QuantumCircuit(qubits+1)\n",
    "controlledLabelVectorCircuit(circ, 0, qubits, [1 for _ in range(2**qubits)])\n",
    "circ.draw(output=\"mpl\", style=\"clifford\")"
   ]
  },
  {
   "cell_type": "markdown",
   "metadata": {},
   "source": [
    "# Matrix decomposition and gate creation\n",
    "\n",
    "We use sparseMatrixOP to get the linear combination of unitary matrices with their coeffitiens."
   ]
  },
  {
   "cell_type": "code",
   "execution_count": 7,
   "metadata": {},
   "outputs": [
    {
     "data": {
      "image/png": "[encoded data removed]",
      "text/plain": [
       "<Figure size 1207.22x284.278 with 1 Axes>"
      ]
     },
     "execution_count": 7,
     "metadata": {},
     "output_type": "execute_result"
    }
   ],
   "source": [
    "A: np.ndarray = np.array([[1, 0, 0, 0],\n",
    "              [0, 0, 0, 1],\n",
    "              [0, 0, 1, 0],\n",
    "              [0, 3, 0, 0]])\n",
    "paulis, coefficientSet = getLCU(A)\n",
    "circ: QuantumCircuit = QuantumCircuit(len(paulis[0])+1)\n",
    "convertMatrixIntoCircuit(circ, paulis, controlled=True, auxiliaryQubit=0)\n",
    "circ.draw(output=\"mpl\", style=\"clifford\")"
   ]
  },
  {
   "cell_type": "code",
   "execution_count": 8,
   "metadata": {},
   "outputs": [
    {
     "data": {
      "image/png": "[encoded data removed]",
      "text/plain": [
       "<Figure size 454.517x200.667 with 1 Axes>"
      ]
     },
     "execution_count": 8,
     "metadata": {},
     "output_type": "execute_result"
    }
   ],
   "source": [
    "A: np.ndarray = np.array([[1, 0, 0, 0],\n",
    "              [0, 0, 0, 1],\n",
    "              [0, 0, 1, 0],\n",
    "              [0, 3, 0, 0]])\n",
    "\n",
    "paulis, coefficientSet = getLCU(A)\n",
    "circ: QuantumCircuit = QuantumCircuit(len(paulis[0]))\n",
    "convertMatrixIntoCircuit(circ, paulis,showBarriers=False)\n",
    "circ.draw(output=\"mpl\", style=\"clifford\")"
   ]
  },
  {
   "cell_type": "markdown",
   "metadata": {},
   "source": [
    "Finally, we construct our new Hadamard test:"
   ]
  },
  {
   "cell_type": "code",
   "execution_count": 9,
   "metadata": {},
   "outputs": [
    {
     "data": {
      "image/png": "[encoded data removed]",
      "text/plain": [
       "<Figure size 2210.55x953.167 with 1 Axes>"
      ]
     },
     "execution_count": 9,
     "metadata": {},
     "output_type": "execute_result"
    }
   ],
   "source": [
    "matrices = [\"ZII\"]\n",
    "matrices = appendMatrices(matrices, qubits)\n",
    "matrix: np.ndarray = createMatrixFromParameters([1], matrices)\n",
    "circ: QuantumCircuit = QuantumCircuit(qubits+2)\n",
    "paulis, _ = getLCU(matrix)\n",
    "params = generateParams(qubits, layers=layers)\n",
    "\n",
    "labelVectorCircuit = QuantumCircuit(qubits + 1)\n",
    "controlledLabelVectorCircuit(labelVectorCircuit, 0, qubits, [1 for _ in range(2**qubits)])\n",
    "\n",
    "controlledFixedAnsatzCircuit = QuantumCircuit(qubits + 2)\n",
    "controlledFixedAnsatz(\n",
    "    controlledFixedAnsatzCircuit, qubits, params\n",
    ")\n",
    "\n",
    "specialHadamardTest(\n",
    "    circ,\n",
    "    paulis,\n",
    "    controlledFixedAnsatzCircuit,\n",
    "    labelVectorCircuit\n",
    ")\n",
    "circ.draw(output=\"mpl\", style=\"clifford\")\n",
    "circ.decompose().draw(output=\"mpl\", style=\"clifford\")"
   ]
  },
  {
   "cell_type": "markdown",
   "metadata": {},
   "source": [
    "The final step is to actually use this code to solve a real linear system. We will first be looking at the example:\n",
    "\n",
    "<br>\n",
    "\n",
    "\n",
    "\n",
    "$$A \\ = \\ 0.45 Z_3 \\ + \\ 0.55 \\mathbb{I}$$\n",
    "\n",
    "\n",
    "\n",
    "<br>\n",
    "\n",
    "In order to minimize the cost function, we use the COBYLA optimizer method, which we repeatedly applying. Our search space for parameters is determined by $\\frac{k}{1000} \\ k \\ \\in \\ \\{0, \\ 3000\\}$, which is initially chosen randomly. We will run the optimizer for $200$ steps, then terminate and apply the ansatz for our optimal parameters, to get our optimized state vector! In addition, we will compute some post-processing, to see if our algorithm actually works! In order to do this, we will apply $A$ to our optimal vector $|\\psi\\rangle_o$, normalize it, then calculate the inner product squared of this vector and the solution vector, $|b\\rangle$! We can put this all into code as:"
   ]
  },
  {
   "cell_type": "code",
   "execution_count": 10,
   "metadata": {
    "scrolled": false,
    "tags": [
     "output_scroll"
    ]
   },
   "outputs": [
    {
     "name": "stdout",
     "output_type": "stream",
     "text": [
      "Time to prepare circuits: 0.2998619079589844\n",
      "Time to minimize: 6.012039899826051411386e-065\n",
      " message: Optimization terminated successfully.\n",
      " success: True\n",
      "  status: 1\n",
      "     fun: 8.367263886754905e-06\n",
      "       x: [ 3.438e-03  8.142e-01  1.581e+00  1.738e+00  1.422e+00\n",
      "            1.559e+00 -1.204e+00  6.648e-01  1.563e+00]\n",
      "    nfev: 1750\n",
      "   maxcv: 0.0\n",
      "Statevector([-0.04979889+0.j,  0.49655223+0.j,  0.04970339+0.j,\n",
      "             -0.49492918+0.j,  0.04973171+0.j, -0.4983608 +0.j,\n",
      "             -0.04982287+0.j,  0.50021154+0.j],\n",
      "            dims=(2, 2, 2))\n",
      "[-0.04979889+0.j  0.04965522+0.j  0.04970339+0.j -0.04949292+0.j\n",
      "  0.04973171+0.j -0.04983608+0.j -0.04982287+0.j  0.05002115+0.j]\n",
      "[-0.35384399+0.j  0.35282321+0.j  0.35316548+0.j -0.35166995+0.j\n",
      "  0.3533667 +0.j -0.35410827+0.j -0.35401438+0.j  0.35542331+0.j]\n",
      "1.6305131056942352e-07\n"
     ]
    },
    {
     "data": {
      "image/png": "[encoded data removed]",
      "text/plain": [
       "<Figure size 800x550 with 1 Axes>"
      ]
     },
     "metadata": {},
     "output_type": "display_data"
    }
   ],
   "source": [
    "b = [1 for _ in range(2**qubits)]\n",
    "\n",
    "bVector: np.array = getPaddedLabelVector(b)\n",
    "matrices = [\"ZII\", \"III\"]\n",
    "matrices = appendMatrices(matrices,qubits)\n",
    "A: np.ndarray = createMatrixFromParameters([0.45, 0.55], matrices)\n",
    "\n",
    "paulis, coefficientSet = getLCU(A)\n",
    "\n",
    "outF: List[List[float]] = minimization(\n",
    "    paulis=paulis,\n",
    "    coefficientSet=coefficientSet,\n",
    "    qubits=qubits,\n",
    "    bVector=bVector,\n",
    "    quantumSimulation=False,\n",
    "    method=\"COBYLA\",\n",
    "    iterations= iterations,\n",
    ")\n",
    "circ: QuantumCircuit = QuantumCircuit(qubits, qubits)\n",
    "o: List[complex] = getSolutionVector(circ, qubits, outF)\n",
    "\n",
    "print(o)\n",
    "print(A.dot(o))\n",
    "print((A.dot(o) / (np.linalg.norm(A.dot(o)))))\n",
    "print(getApproximationValue(A, bVector, o))\n",
    "plotCost()"
   ]
  },
  {
   "cell_type": "code",
   "execution_count": 11,
   "metadata": {},
   "outputs": [
    {
     "name": "stdout",
     "output_type": "stream",
     "text": [
      "(7.105489755863321+0j)\n",
      "[(0.3538454679314646+0j), (3.5282468140696936+0j), (0.3531669611619323+0j), (3.516714224052225+0j), (0.3533681815263286+0j), (3.541097552728908+0j), (0.3540158604180061+0j), (3.554247946233755+0j)]\n",
      "[0.35355339+0.j 3.53553391+0.j 0.35355339+0.j 3.53553391+0.j\n",
      " 0.35355339+0.j 3.53553391+0.j 0.35355339+0.j 3.53553391+0.j]\n",
      "7.106335201775944\n"
     ]
    }
   ],
   "source": [
    "estimatedNorm, estimatedNormVector = estimateNorm(A, o, bVector)\n",
    "\n",
    "print (estimatedNorm)\n",
    "print (list(estimatedNormVector*estimatedNorm))\n",
    "x: np.array = np.linalg.solve(A, bVector)\n",
    "print(x)\n",
    "print (np.linalg.norm(x))"
   ]
  },
  {
   "cell_type": "markdown",
   "metadata": {},
   "source": [
    "As you can see, our cost function has achieved a fairly low value of `0.03273673575407443`, and when we calculate our classical cost function, we get `0.96776862579723`, which agrees perfectly with what we measured, the vectors $|\\psi\\rangle_o$ and $|b\\rangle$ are very similar!\n",
    "\n",
    "Let's do another test! This time, we will keep $|b\\rangle$ the same, but we will have:\n",
    "\n",
    "<br>\n",
    "\n",
    "\n",
    "\n",
    "$$A \\ = \\ 0.55 \\mathbb{I} \\ + \\ 0.225 Z_2 \\ + \\ 0.225 Z_3$$\n",
    "\n",
    "\n",
    "\n",
    "Again, we run our optimization code:"
   ]
  },
  {
   "cell_type": "code",
   "execution_count": 12,
   "metadata": {
    "scrolled": false,
    "tags": [
     "output_scroll"
    ]
   },
   "outputs": [
    {
     "name": "stdout",
     "output_type": "stream",
     "text": [
      "Time to prepare circuits: 0.31482505798339844\n",
      "Time to minimize: 17.3866207599639983427e-0505\n",
      "2.763865693356017e-08\n"
     ]
    },
    {
     "data": {
      "image/png": "[encoded data removed]",
      "text/plain": [
       "<Figure size 800x550 with 1 Axes>"
      ]
     },
     "metadata": {},
     "output_type": "display_data"
    }
   ],
   "source": [
    "b = [1 for _ in range(2**qubits)]\n",
    "# b = np.array([1, 1, 1, -1, 1, 1, 1, 1])\n",
    "bVector: np.array = getPaddedLabelVector(b)\n",
    "matrices = [\"ZII\", \"IZI\", \"III\"]\n",
    "matrices = appendMatrices(matrices, qubits)\n",
    "A: np.ndarray = createMatrixFromParameters([0.225, 0.225, 0.55], matrices)\n",
    "\n",
    "paulis, coefficientSet = getLCU(A)\n",
    "\n",
    "outF: List[List[float]] = minimization(\n",
    "    paulis=paulis,\n",
    "    coefficientSet=coefficientSet,\n",
    "    qubits=qubits,\n",
    "    bVector=bVector,\n",
    "    quantumSimulation=False,\n",
    "    method=\"ADAM\",\n",
    "    options={\"lr\": 0.35},\n",
    "    # method=\"SPSA\",\n",
    "    # options={\"learnin_rate\": 0.35, \"perturbation\": 0.1},\n",
    "    # method=\"GD\",\n",
    "    # options={\"learnin_rate\": 0.2},\n",
    ")\n",
    "circ: QuantumCircuit = QuantumCircuit(qubits, qubits)\n",
    "o: List[complex] = getSolutionVector(circ,qubits, outF)\n",
    "\n",
    "print(getApproximationValue(A, bVector, o))\n",
    "plotCost()"
   ]
  },
  {
   "cell_type": "code",
   "execution_count": 13,
   "metadata": {},
   "outputs": [
    {
     "name": "stdout",
     "output_type": "stream",
     "text": [
      "(5.154973293038249+0j)\n",
      "[(0.3531595301168919+0j), (0.6463065638439112+0j), (0.6438362217707958+0j), (3.51436918414874+0j), (0.35357078099877726+0j), (0.6465666879202564+0j), (0.6440737258243313+0j), (3.5082913556803437+0j)]\n",
      "[0.35355339+0.j 0.64282435+0.j 0.64282435+0.j 3.53553391+0.j\n",
      " 0.35355339+0.j 0.64282435+0.j 0.64282435+0.j 3.53553391+0.j]\n",
      "5.186799838241635\n"
     ]
    }
   ],
   "source": [
    "estimatedNorm, estimatedNormVector = estimateNorm(A, o, bVector)\n",
    "\n",
    "print (estimatedNorm)\n",
    "print (list(estimatedNormVector*estimatedNorm))\n",
    "x: np.array = np.linalg.solve(A, bVector)\n",
    "print(x)\n",
    "print (np.linalg.norm(x))"
   ]
  },
  {
   "cell_type": "markdown",
   "metadata": {},
   "source": [
    "\n",
    "Again, very low error, and the classical cost function agrees! Great, so it works!\n",
    "\n",
    "\n",
    "Let's try our sampling for our second value of $A$, with the same matrix $U$ and quantum simulation:\n"
   ]
  },
  {
   "cell_type": "code",
   "execution_count": 14,
   "metadata": {
    "scrolled": false,
    "tags": []
   },
   "outputs": [
    {
     "name": "stdout",
     "output_type": "stream",
     "text": [
      "[[1.  +0.j 0.  +0.j 0.  +0.j 0.  +0.j 0.  +0.j 0.  +0.j 0.  +0.j 0.  +0.j]\n",
      " [0.  +0.j 0.55+0.j 0.  +0.j 0.  +0.j 0.  +0.j 0.  +0.j 0.  +0.j 0.  +0.j]\n",
      " [0.  +0.j 0.  +0.j 0.55+0.j 0.  +0.j 0.  +0.j 0.  +0.j 0.  +0.j 0.  +0.j]\n",
      " [0.  +0.j 0.  +0.j 0.  +0.j 0.1 +0.j 0.  +0.j 0.  +0.j 0.  +0.j 0.  +0.j]\n",
      " [0.  +0.j 0.  +0.j 0.  +0.j 0.  +0.j 1.  +0.j 0.  +0.j 0.  +0.j 0.  +0.j]\n",
      " [0.  +0.j 0.  +0.j 0.  +0.j 0.  +0.j 0.  +0.j 0.55+0.j 0.  +0.j 0.  +0.j]\n",
      " [0.  +0.j 0.  +0.j 0.  +0.j 0.  +0.j 0.  +0.j 0.  +0.j 0.55+0.j 0.  +0.j]\n",
      " [0.  +0.j 0.  +0.j 0.  +0.j 0.  +0.j 0.  +0.j 0.  +0.j 0.  +0.j 0.1 +0.j]]\n",
      "Time to prepare circuits: 0.31764912605285645\n",
      "Time to minimize: 64.26769995689392321173\n",
      " message: Optimization terminated successfully.\n",
      " success: True\n",
      "  status: 1\n",
      "     fun: 0.21810726406854597\n",
      "       x: [ 3.052e-01  9.715e-01  1.081e+00  1.932e+00  1.633e+00\n",
      "            1.533e+00 -2.793e-01  1.027e-01  4.661e-01]\n",
      "    nfev: 92\n",
      "   maxcv: 0.0\n",
      "0.0217426275332399\n"
     ]
    },
    {
     "data": {
      "image/png": "[encoded data removed]",
      "text/plain": [
       "<Figure size 800x550 with 1 Axes>"
      ]
     },
     "metadata": {},
     "output_type": "display_data"
    }
   ],
   "source": [
    "b = [1 * (-1)**(i) for i in range(2**qubits)]\n",
    "# b = np.array([1, 1, 1, 1, 1, 1, 1, 1, 1, 1, -1 ,1,1,1,1,1])\n",
    "bVector: np.array = getPaddedLabelVector(b)\n",
    "matrices = [\"ZII\", \"IZI\", \"III\"]\n",
    "matrices = appendMatrices(matrices, qubits)\n",
    "A: np.ndarray = createMatrixFromParameters([0.225, 0.225, 0.55], matrices)\n",
    "print (A)\n",
    "\n",
    "paulis, coefficientSet = getLCU(A)\n",
    "\n",
    "outF: List[List[float]] = minimization(\n",
    "    paulis=paulis,\n",
    "    coefficientSet=coefficientSet,\n",
    "    qubits=qubits,\n",
    "    bVector=bVector,\n",
    "    iterations= iterations,\n",
    ")\n",
    "circ: QuantumCircuit = QuantumCircuit(qubits, qubits)\n",
    "o: List[complex] = getSolutionVector(circ,qubits, outF)\n",
    "\n",
    "print(getApproximationValue(A, bVector, o))\n",
    "\n",
    "plotCost()"
   ]
  },
  {
   "cell_type": "code",
   "execution_count": 15,
   "metadata": {},
   "outputs": [
    {
     "name": "stdout",
     "output_type": "stream",
     "text": [
      "(3.451713241093999+0j)\n",
      "[(0.2971124427371676+0j), (-0.6755571727649066+0j), (0.7529945388952871+0j), (-0.09837336242540538+0j), (0.302979184425896+0j), (-0.8436890633367736+0j), (1.2322093277470425+0j), (-2.910506048313799+0j)]\n",
      "[ 0.35355339+0.j -0.64282435+0.j  0.64282435+0.j -3.53553391+0.j\n",
      "  0.35355339+0.j -0.64282435+0.j  0.64282435+0.j -3.53553391+0.j]\n",
      "5.186799838241635\n"
     ]
    }
   ],
   "source": [
    "estimatedNorm, estimatedNormVector = estimateNorm( A, o, bVector)\n",
    "\n",
    "print (estimatedNorm)\n",
    "print (list(estimatedNormVector*estimatedNorm))\n",
    "x: np.array = np.linalg.solve(A, bVector)\n",
    "print(x)\n",
    "print (np.linalg.norm(x))"
   ]
  },
  {
   "cell_type": "code",
   "execution_count": 58,
   "metadata": {},
   "outputs": [],
   "source": [
    "import qiskit\n",
    "from qiskit import Aer\n",
    "from concurrent.futures import ThreadPoolExecutor\n",
    "from math import pi\n",
    "import time\n",
    "\n",
    "def circuitTest(circ_list, parallel:bool,shots:int, workers = 2, jobSize = 1):\n",
    "    backend = Aer.get_backend(\"aer_simulator\")\n",
    "    if parallel:\n",
    "        exc = ThreadPoolExecutor(max_workers=workers)\n",
    "        backend.set_options(executor=exc)\n",
    "        backend.set_options(max_job_size=jobSize)\n",
    "    \n",
    "    totalTimes = 0\n",
    "    for _ in range(5):\n",
    "        start = time.time()\n",
    "        backend.run(circ_list,shots = shots).result()\n",
    "        end = time.time()\n",
    "        totalTimes += end - start\n",
    "\n",
    "    \n",
    "    if parallel != True:\n",
    "        print(\"parallel: \", parallel)\n",
    "        print(\"Time taken: \", totalTimes/5)\n",
    "    return totalTimes/5"
   ]
  },
  {
   "cell_type": "code",
   "execution_count": 61,
   "metadata": {},
   "outputs": [
    {
     "name": "stdout",
     "output_type": "stream",
     "text": [
      "<qiskit.transpiler.passmanager.StagedPassManager object at 0x2ca769a50>\n",
      "parallel:  False\n",
      "Time taken:  0.5363733768463135\n",
      "worker sizes\n",
      "best time:  1.7478483200073243\n",
      "best workers:  2\n",
      "best job size:  2\n"
     ]
    }
   ],
   "source": [
    "from qiskit.compiler import transpile\n",
    "circuits= 3000\n",
    "shots = 1\n",
    "\n",
    "circ_list = []\n",
    "for _ in range(circuits):\n",
    "    circ = qiskit.QuantumCircuit(15, 15)\n",
    "    circ.h(0)\n",
    "    circ.cx(0, 1)\n",
    "    circ.cx(1, 2)\n",
    "    circ.p(pi/2, 2)\n",
    "    circ.measure([0, 1, 2], [0, 1 ,2])\n",
    "    circ_list.append(circ)\n",
    "\n",
    "circ_list = transpile(circ_list, backend = Aer.get_backend(\"aer_simulator\"))\n",
    "circuitTest(circ_list,False,shots)\n",
    "\n",
    "print(\"worker sizes\")\n",
    "\n",
    "bestTime = time.time()\n",
    "bestWorkers = 0\n",
    "bestJobSize = 0\n",
    "for i in range (0,2):#10\n",
    "    for j in range (0,2):#10\n",
    "        timeCirc = circuitTest(circ_list,True,shots,workers=2**i,jobSize=2**j)\n",
    "        if timeCirc < bestTime:\n",
    "            bestTime = timeCirc\n",
    "            bestWorkers = 2**i\n",
    "            bestJobSize = 2**j\n",
    "\n",
    "print(\"best time: \", bestTime)\n",
    "print (\"best workers: \", bestWorkers)\n",
    "print (\"best job size: \", bestJobSize)\n"
   ]
  },
  {
   "cell_type": "markdown",
   "metadata": {},
   "source": [
    "So as you can see, not amazing, our solution is still off by a fairly significant margin ($~3\\%$ error isn't awful, but ideally, we want it to be **much** closer to 0). Again, I think this is due to the optimizer itself, not the actual quantum circuit. I will be making an update to this Notebook once I figure out how to correct this problem (likely with the introduction of a noisy optimizer, as I previously mentioned)."
   ]
  }
 ],
 "metadata": {
  "kernelspec": {
   "display_name": "Python 3 (ipykernel)",
   "language": "python",
   "name": "python3"
  },
  "language_info": {
   "codemirror_mode": {
    "name": "ipython",
    "version": 3
   },
   "file_extension": ".py",
   "mimetype": "text/x-python",
   "name": "python",
   "nbconvert_exporter": "python",
   "pygments_lexer": "ipython3",
   "version": "3.11.4"
  },
  "widgets": {
   "application/vnd.jupyter.widget-state+json": {
    "state": {
     "17046f96803d48aa8c63b99a5c89e6f3": {
      "model_module": "@jupyter-widgets/controls",
      "model_module_version": "1.5.0",
      "model_name": "DescriptionStyleModel",
      "state": {
       "_model_module": "@jupyter-widgets/controls",
       "_model_module_version": "1.5.0",
       "_model_name": "DescriptionStyleModel",
       "_view_count": null,
       "_view_module": "@jupyter-widgets/base",
       "_view_module_version": "1.2.0",
       "_view_name": "StyleView",
       "description_width": ""
      }
     },
     "1a46e33438a648dd839fe5fd43b9582b": {
      "model_module": "@jupyter-widgets/controls",
      "model_module_version": "1.5.0",
      "model_name": "DescriptionStyleModel",
      "state": {
       "_model_module": "@jupyter-widgets/controls",
       "_model_module_version": "1.5.0",
       "_model_name": "DescriptionStyleModel",
       "_view_count": null,
       "_view_module": "@jupyter-widgets/base",
       "_view_module_version": "1.2.0",
       "_view_name": "StyleView",
       "description_width": ""
      }
     },
     "1f812fe9a02b41b885f01e3190957acf": {
      "model_module": "@jupyter-widgets/base",
      "model_module_version": "1.2.0",
      "model_name": "LayoutModel",
      "state": {
       "_model_module": "@jupyter-widgets/base",
       "_model_module_version": "1.2.0",
       "_model_name": "LayoutModel",
       "_view_count": null,
       "_view_module": "@jupyter-widgets/base",
       "_view_module_version": "1.2.0",
       "_view_name": "LayoutView",
       "align_content": null,
       "align_items": null,
       "align_self": null,
       "border": null,
       "bottom": null,
       "display": null,
       "flex": null,
       "flex_flow": null,
       "grid_area": null,
       "grid_auto_columns": null,
       "grid_auto_flow": null,
       "grid_auto_rows": null,
       "grid_column": null,
       "grid_gap": null,
       "grid_row": null,
       "grid_template_areas": "\n                                       \". . . . right \"\n                                        ",
       "grid_template_columns": "20% 20% 20% 20% 20%",
       "grid_template_rows": null,
       "height": null,
       "justify_content": null,
       "justify_items": null,
       "left": null,
       "margin": null,
       "max_height": null,
       "max_width": null,
       "min_height": null,
       "min_width": null,
       "object_fit": null,
       "object_position": null,
       "order": null,
       "overflow": null,
       "overflow_x": null,
       "overflow_y": null,
       "padding": null,
       "right": null,
       "top": null,
       "visibility": null,
       "width": "100%"
      }
     },
     "20439ee3a84741dc9a137f7964898fc3": {
      "model_module": "@jupyter-widgets/controls",
      "model_module_version": "1.5.0",
      "model_name": "HTMLModel",
      "state": {
       "_dom_classes": [],
       "_model_module": "@jupyter-widgets/controls",
       "_model_module_version": "1.5.0",
       "_model_name": "HTMLModel",
       "_view_count": null,
       "_view_module": "@jupyter-widgets/controls",
       "_view_module_version": "1.5.0",
       "_view_name": "HTMLView",
       "description": "",
       "description_tooltip": null,
       "layout": "IPY_MODEL_f0e6a746eff140269e915ef65de640c7",
       "placeholder": "​",
       "style": "IPY_MODEL_96316857896d44328b3898d849594ae7",
       "value": "<h5>Status</h5>"
      }
     },
     "246d39f98fdb4892bc1d5bfb88d2f1cd": {
      "model_module": "@jupyter-widgets/controls",
      "model_module_version": "1.5.0",
      "model_name": "DescriptionStyleModel",
      "state": {
       "_model_module": "@jupyter-widgets/controls",
       "_model_module_version": "1.5.0",
       "_model_name": "DescriptionStyleModel",
       "_view_count": null,
       "_view_module": "@jupyter-widgets/base",
       "_view_module_version": "1.2.0",
       "_view_name": "StyleView",
       "description_width": ""
      }
     },
     "27e0478b2a9c4533b2e67eac937cbebc": {
      "model_module": "@jupyter-widgets/controls",
      "model_module_version": "1.5.0",
      "model_name": "HBoxModel",
      "state": {
       "_dom_classes": [],
       "_model_module": "@jupyter-widgets/controls",
       "_model_module_version": "1.5.0",
       "_model_name": "HBoxModel",
       "_view_count": null,
       "_view_module": "@jupyter-widgets/controls",
       "_view_module_version": "1.5.0",
       "_view_name": "HBoxView",
       "box_style": "",
       "children": [
        "IPY_MODEL_ac5a0f78ef8140a2abdf035fd1751936",
        "IPY_MODEL_5ff6f36eaa894a339210fc29fdbeedcf",
        "IPY_MODEL_20439ee3a84741dc9a137f7964898fc3",
        "IPY_MODEL_eef64edafd8f47c885da65fa3ca0ab8a",
        "IPY_MODEL_a38db3ffdfc848c0b0150e42b3509be5"
       ],
       "layout": "IPY_MODEL_fc018f99fbb44aa9beb54a8e6be5209e"
      }
     },
     "2f981df37e914685992f4564103ef872": {
      "model_module": "@jupyter-widgets/base",
      "model_module_version": "1.2.0",
      "model_name": "LayoutModel",
      "state": {
       "_model_module": "@jupyter-widgets/base",
       "_model_module_version": "1.2.0",
       "_model_name": "LayoutModel",
       "_view_count": null,
       "_view_module": "@jupyter-widgets/base",
       "_view_module_version": "1.2.0",
       "_view_name": "LayoutView",
       "align_content": null,
       "align_items": null,
       "align_self": null,
       "border": null,
       "bottom": null,
       "display": null,
       "flex": null,
       "flex_flow": null,
       "grid_area": null,
       "grid_auto_columns": null,
       "grid_auto_flow": null,
       "grid_auto_rows": null,
       "grid_column": null,
       "grid_gap": null,
       "grid_row": null,
       "grid_template_areas": null,
       "grid_template_columns": null,
       "grid_template_rows": null,
       "height": null,
       "justify_content": null,
       "justify_items": null,
       "left": null,
       "margin": null,
       "max_height": null,
       "max_width": null,
       "min_height": null,
       "min_width": null,
       "object_fit": null,
       "object_position": null,
       "order": null,
       "overflow": null,
       "overflow_x": null,
       "overflow_y": null,
       "padding": null,
       "right": null,
       "top": null,
       "visibility": null,
       "width": null
      }
     },
     "3aa67247d1a9433f87b13ce1370c8b1c": {
      "model_module": "@jupyter-widgets/base",
      "model_module_version": "1.2.0",
      "model_name": "LayoutModel",
      "state": {
       "_model_module": "@jupyter-widgets/base",
       "_model_module_version": "1.2.0",
       "_model_name": "LayoutModel",
       "_view_count": null,
       "_view_module": "@jupyter-widgets/base",
       "_view_module_version": "1.2.0",
       "_view_name": "LayoutView",
       "align_content": null,
       "align_items": null,
       "align_self": null,
       "border": null,
       "bottom": null,
       "display": null,
       "flex": null,
       "flex_flow": null,
       "grid_area": null,
       "grid_auto_columns": null,
       "grid_auto_flow": null,
       "grid_auto_rows": null,
       "grid_column": null,
       "grid_gap": null,
       "grid_row": null,
       "grid_template_areas": null,
       "grid_template_columns": null,
       "grid_template_rows": null,
       "height": null,
       "justify_content": null,
       "justify_items": null,
       "left": null,
       "margin": null,
       "max_height": null,
       "max_width": null,
       "min_height": null,
       "min_width": null,
       "object_fit": null,
       "object_position": null,
       "order": null,
       "overflow": null,
       "overflow_x": null,
       "overflow_y": null,
       "padding": null,
       "right": null,
       "top": null,
       "visibility": null,
       "width": "190px"
      }
     },
     "40a8f99fef5b4aad89f533edcb091c3f": {
      "model_module": "@jupyter-widgets/controls",
      "model_module_version": "1.5.0",
      "model_name": "ButtonStyleModel",
      "state": {
       "_model_module": "@jupyter-widgets/controls",
       "_model_module_version": "1.5.0",
       "_model_name": "ButtonStyleModel",
       "_view_count": null,
       "_view_module": "@jupyter-widgets/base",
       "_view_module_version": "1.2.0",
       "_view_name": "StyleView",
       "button_color": null,
       "font_weight": ""
      }
     },
     "46f75da5f7ab4f33b4df8618ccffde6b": {
      "model_module": "@jupyter-widgets/controls",
      "model_module_version": "1.5.0",
      "model_name": "DescriptionStyleModel",
      "state": {
       "_model_module": "@jupyter-widgets/controls",
       "_model_module_version": "1.5.0",
       "_model_name": "DescriptionStyleModel",
       "_view_count": null,
       "_view_module": "@jupyter-widgets/base",
       "_view_module_version": "1.2.0",
       "_view_name": "StyleView",
       "description_width": ""
      }
     },
     "5ff6f36eaa894a339210fc29fdbeedcf": {
      "model_module": "@jupyter-widgets/controls",
      "model_module_version": "1.5.0",
      "model_name": "HTMLModel",
      "state": {
       "_dom_classes": [],
       "_model_module": "@jupyter-widgets/controls",
       "_model_module_version": "1.5.0",
       "_model_name": "HTMLModel",
       "_view_count": null,
       "_view_module": "@jupyter-widgets/controls",
       "_view_module_version": "1.5.0",
       "_view_name": "HTMLView",
       "description": "",
       "description_tooltip": null,
       "layout": "IPY_MODEL_9e036ff6f31e4efb9471d371db06f533",
       "placeholder": "​",
       "style": "IPY_MODEL_1a46e33438a648dd839fe5fd43b9582b",
       "value": "<h5>Backend</h5>"
      }
     },
     "608e06da96f840e890006ad286afc34b": {
      "model_module": "@jupyter-widgets/controls",
      "model_module_version": "1.5.0",
      "model_name": "HTMLModel",
      "state": {
       "_dom_classes": [],
       "_model_module": "@jupyter-widgets/controls",
       "_model_module_version": "1.5.0",
       "_model_name": "HTMLModel",
       "_view_count": null,
       "_view_module": "@jupyter-widgets/controls",
       "_view_module_version": "1.5.0",
       "_view_name": "HTMLView",
       "description": "",
       "description_tooltip": null,
       "layout": "IPY_MODEL_74038cd5fbe8491ba5457f6cc81f7b5a",
       "placeholder": "​",
       "style": "IPY_MODEL_8569084253df4279b752a85c0b99027b",
       "value": "<p style='font-family: IBM Plex Sans, Arial, Helvetica, sans-serif; font-size: 20px; font-weight: medium;'>Circuit Properties</p>"
      }
     },
     "74038cd5fbe8491ba5457f6cc81f7b5a": {
      "model_module": "@jupyter-widgets/base",
      "model_module_version": "1.2.0",
      "model_name": "LayoutModel",
      "state": {
       "_model_module": "@jupyter-widgets/base",
       "_model_module_version": "1.2.0",
       "_model_name": "LayoutModel",
       "_view_count": null,
       "_view_module": "@jupyter-widgets/base",
       "_view_module_version": "1.2.0",
       "_view_name": "LayoutView",
       "align_content": null,
       "align_items": null,
       "align_self": null,
       "border": null,
       "bottom": null,
       "display": null,
       "flex": null,
       "flex_flow": null,
       "grid_area": null,
       "grid_auto_columns": null,
       "grid_auto_flow": null,
       "grid_auto_rows": null,
       "grid_column": null,
       "grid_gap": null,
       "grid_row": null,
       "grid_template_areas": null,
       "grid_template_columns": null,
       "grid_template_rows": null,
       "height": null,
       "justify_content": null,
       "justify_items": null,
       "left": null,
       "margin": "0px 0px 10px 0px",
       "max_height": null,
       "max_width": null,
       "min_height": null,
       "min_width": null,
       "object_fit": null,
       "object_position": null,
       "order": null,
       "overflow": null,
       "overflow_x": null,
       "overflow_y": null,
       "padding": null,
       "right": null,
       "top": null,
       "visibility": null,
       "width": null
      }
     },
     "8569084253df4279b752a85c0b99027b": {
      "model_module": "@jupyter-widgets/controls",
      "model_module_version": "1.5.0",
      "model_name": "DescriptionStyleModel",
      "state": {
       "_model_module": "@jupyter-widgets/controls",
       "_model_module_version": "1.5.0",
       "_model_name": "DescriptionStyleModel",
       "_view_count": null,
       "_view_module": "@jupyter-widgets/base",
       "_view_module_version": "1.2.0",
       "_view_name": "StyleView",
       "description_width": ""
      }
     },
     "917c693fd8d84f2e99f59d75cd5062c2": {
      "model_module": "@jupyter-widgets/controls",
      "model_module_version": "1.5.0",
      "model_name": "GridBoxModel",
      "state": {
       "_dom_classes": [],
       "_model_module": "@jupyter-widgets/controls",
       "_model_module_version": "1.5.0",
       "_model_name": "GridBoxModel",
       "_view_count": null,
       "_view_module": "@jupyter-widgets/controls",
       "_view_module_version": "1.5.0",
       "_view_name": "GridBoxView",
       "box_style": "",
       "children": [
        "IPY_MODEL_b7e87c3bbc404502ab1550d64f86c473"
       ],
       "layout": "IPY_MODEL_1f812fe9a02b41b885f01e3190957acf"
      }
     },
     "96316857896d44328b3898d849594ae7": {
      "model_module": "@jupyter-widgets/controls",
      "model_module_version": "1.5.0",
      "model_name": "DescriptionStyleModel",
      "state": {
       "_model_module": "@jupyter-widgets/controls",
       "_model_module_version": "1.5.0",
       "_model_name": "DescriptionStyleModel",
       "_view_count": null,
       "_view_module": "@jupyter-widgets/base",
       "_view_module_version": "1.2.0",
       "_view_name": "StyleView",
       "description_width": ""
      }
     },
     "9e036ff6f31e4efb9471d371db06f533": {
      "model_module": "@jupyter-widgets/base",
      "model_module_version": "1.2.0",
      "model_name": "LayoutModel",
      "state": {
       "_model_module": "@jupyter-widgets/base",
       "_model_module_version": "1.2.0",
       "_model_name": "LayoutModel",
       "_view_count": null,
       "_view_module": "@jupyter-widgets/base",
       "_view_module_version": "1.2.0",
       "_view_name": "LayoutView",
       "align_content": null,
       "align_items": null,
       "align_self": null,
       "border": null,
       "bottom": null,
       "display": null,
       "flex": null,
       "flex_flow": null,
       "grid_area": null,
       "grid_auto_columns": null,
       "grid_auto_flow": null,
       "grid_auto_rows": null,
       "grid_column": null,
       "grid_gap": null,
       "grid_row": null,
       "grid_template_areas": null,
       "grid_template_columns": null,
       "grid_template_rows": null,
       "height": null,
       "justify_content": null,
       "justify_items": null,
       "left": null,
       "margin": null,
       "max_height": null,
       "max_width": null,
       "min_height": null,
       "min_width": null,
       "object_fit": null,
       "object_position": null,
       "order": null,
       "overflow": null,
       "overflow_x": null,
       "overflow_y": null,
       "padding": null,
       "right": null,
       "top": null,
       "visibility": null,
       "width": "145px"
      }
     },
     "a38db3ffdfc848c0b0150e42b3509be5": {
      "model_module": "@jupyter-widgets/controls",
      "model_module_version": "1.5.0",
      "model_name": "HTMLModel",
      "state": {
       "_dom_classes": [],
       "_model_module": "@jupyter-widgets/controls",
       "_model_module_version": "1.5.0",
       "_model_name": "HTMLModel",
       "_view_count": null,
       "_view_module": "@jupyter-widgets/controls",
       "_view_module_version": "1.5.0",
       "_view_name": "HTMLView",
       "description": "",
       "description_tooltip": null,
       "layout": "IPY_MODEL_2f981df37e914685992f4564103ef872",
       "placeholder": "​",
       "style": "IPY_MODEL_246d39f98fdb4892bc1d5bfb88d2f1cd",
       "value": "<h5>Message</h5>"
      }
     },
     "ac5a0f78ef8140a2abdf035fd1751936": {
      "model_module": "@jupyter-widgets/controls",
      "model_module_version": "1.5.0",
      "model_name": "HTMLModel",
      "state": {
       "_dom_classes": [],
       "_model_module": "@jupyter-widgets/controls",
       "_model_module_version": "1.5.0",
       "_model_name": "HTMLModel",
       "_view_count": null,
       "_view_module": "@jupyter-widgets/controls",
       "_view_module_version": "1.5.0",
       "_view_name": "HTMLView",
       "description": "",
       "description_tooltip": null,
       "layout": "IPY_MODEL_3aa67247d1a9433f87b13ce1370c8b1c",
       "placeholder": "​",
       "style": "IPY_MODEL_46f75da5f7ab4f33b4df8618ccffde6b",
       "value": "<h5>Job ID</h5>"
      }
     },
     "b7e87c3bbc404502ab1550d64f86c473": {
      "model_module": "@jupyter-widgets/controls",
      "model_module_version": "1.5.0",
      "model_name": "ButtonModel",
      "state": {
       "_dom_classes": [],
       "_model_module": "@jupyter-widgets/controls",
       "_model_module_version": "1.5.0",
       "_model_name": "ButtonModel",
       "_view_count": null,
       "_view_module": "@jupyter-widgets/controls",
       "_view_module_version": "1.5.0",
       "_view_name": "ButtonView",
       "button_style": "primary",
       "description": "Clear",
       "disabled": false,
       "icon": "",
       "layout": "IPY_MODEL_f6a39516121743099bece32bc0c3c696",
       "style": "IPY_MODEL_40a8f99fef5b4aad89f533edcb091c3f",
       "tooltip": ""
      }
     },
     "eef64edafd8f47c885da65fa3ca0ab8a": {
      "model_module": "@jupyter-widgets/controls",
      "model_module_version": "1.5.0",
      "model_name": "HTMLModel",
      "state": {
       "_dom_classes": [],
       "_model_module": "@jupyter-widgets/controls",
       "_model_module_version": "1.5.0",
       "_model_name": "HTMLModel",
       "_view_count": null,
       "_view_module": "@jupyter-widgets/controls",
       "_view_module_version": "1.5.0",
       "_view_name": "HTMLView",
       "description": "",
       "description_tooltip": null,
       "layout": "IPY_MODEL_ef270ca07615429ab689824b66fdb1ff",
       "placeholder": "​",
       "style": "IPY_MODEL_17046f96803d48aa8c63b99a5c89e6f3",
       "value": "<h5>Queue</h5>"
      }
     },
     "ef270ca07615429ab689824b66fdb1ff": {
      "model_module": "@jupyter-widgets/base",
      "model_module_version": "1.2.0",
      "model_name": "LayoutModel",
      "state": {
       "_model_module": "@jupyter-widgets/base",
       "_model_module_version": "1.2.0",
       "_model_name": "LayoutModel",
       "_view_count": null,
       "_view_module": "@jupyter-widgets/base",
       "_view_module_version": "1.2.0",
       "_view_name": "LayoutView",
       "align_content": null,
       "align_items": null,
       "align_self": null,
       "border": null,
       "bottom": null,
       "display": null,
       "flex": null,
       "flex_flow": null,
       "grid_area": null,
       "grid_auto_columns": null,
       "grid_auto_flow": null,
       "grid_auto_rows": null,
       "grid_column": null,
       "grid_gap": null,
       "grid_row": null,
       "grid_template_areas": null,
       "grid_template_columns": null,
       "grid_template_rows": null,
       "height": null,
       "justify_content": null,
       "justify_items": null,
       "left": null,
       "margin": null,
       "max_height": null,
       "max_width": null,
       "min_height": null,
       "min_width": null,
       "object_fit": null,
       "object_position": null,
       "order": null,
       "overflow": null,
       "overflow_x": null,
       "overflow_y": null,
       "padding": null,
       "right": null,
       "top": null,
       "visibility": null,
       "width": "70px"
      }
     },
     "f0e6a746eff140269e915ef65de640c7": {
      "model_module": "@jupyter-widgets/base",
      "model_module_version": "1.2.0",
      "model_name": "LayoutModel",
      "state": {
       "_model_module": "@jupyter-widgets/base",
       "_model_module_version": "1.2.0",
       "_model_name": "LayoutModel",
       "_view_count": null,
       "_view_module": "@jupyter-widgets/base",
       "_view_module_version": "1.2.0",
       "_view_name": "LayoutView",
       "align_content": null,
       "align_items": null,
       "align_self": null,
       "border": null,
       "bottom": null,
       "display": null,
       "flex": null,
       "flex_flow": null,
       "grid_area": null,
       "grid_auto_columns": null,
       "grid_auto_flow": null,
       "grid_auto_rows": null,
       "grid_column": null,
       "grid_gap": null,
       "grid_row": null,
       "grid_template_areas": null,
       "grid_template_columns": null,
       "grid_template_rows": null,
       "height": null,
       "justify_content": null,
       "justify_items": null,
       "left": null,
       "margin": null,
       "max_height": null,
       "max_width": null,
       "min_height": null,
       "min_width": null,
       "object_fit": null,
       "object_position": null,
       "order": null,
       "overflow": null,
       "overflow_x": null,
       "overflow_y": null,
       "padding": null,
       "right": null,
       "top": null,
       "visibility": null,
       "width": "95px"
      }
     },
     "f6a39516121743099bece32bc0c3c696": {
      "model_module": "@jupyter-widgets/base",
      "model_module_version": "1.2.0",
      "model_name": "LayoutModel",
      "state": {
       "_model_module": "@jupyter-widgets/base",
       "_model_module_version": "1.2.0",
       "_model_name": "LayoutModel",
       "_view_count": null,
       "_view_module": "@jupyter-widgets/base",
       "_view_module_version": "1.2.0",
       "_view_name": "LayoutView",
       "align_content": null,
       "align_items": null,
       "align_self": null,
       "border": null,
       "bottom": null,
       "display": null,
       "flex": null,
       "flex_flow": null,
       "grid_area": "right",
       "grid_auto_columns": null,
       "grid_auto_flow": null,
       "grid_auto_rows": null,
       "grid_column": null,
       "grid_gap": null,
       "grid_row": null,
       "grid_template_areas": null,
       "grid_template_columns": null,
       "grid_template_rows": null,
       "height": null,
       "justify_content": null,
       "justify_items": null,
       "left": null,
       "margin": null,
       "max_height": null,
       "max_width": null,
       "min_height": null,
       "min_width": null,
       "object_fit": null,
       "object_position": null,
       "order": null,
       "overflow": null,
       "overflow_x": null,
       "overflow_y": null,
       "padding": "0px 0px 0px 0px",
       "right": null,
       "top": null,
       "visibility": null,
       "width": "70px"
      }
     },
     "fc018f99fbb44aa9beb54a8e6be5209e": {
      "model_module": "@jupyter-widgets/base",
      "model_module_version": "1.2.0",
      "model_name": "LayoutModel",
      "state": {
       "_model_module": "@jupyter-widgets/base",
       "_model_module_version": "1.2.0",
       "_model_name": "LayoutModel",
       "_view_count": null,
       "_view_module": "@jupyter-widgets/base",
       "_view_module_version": "1.2.0",
       "_view_name": "LayoutView",
       "align_content": null,
       "align_items": null,
       "align_self": null,
       "border": null,
       "bottom": null,
       "display": null,
       "flex": null,
       "flex_flow": null,
       "grid_area": null,
       "grid_auto_columns": null,
       "grid_auto_flow": null,
       "grid_auto_rows": null,
       "grid_column": null,
       "grid_gap": null,
       "grid_row": null,
       "grid_template_areas": null,
       "grid_template_columns": null,
       "grid_template_rows": null,
       "height": null,
       "justify_content": null,
       "justify_items": null,
       "left": null,
       "margin": "0px 0px 0px 37px",
       "max_height": null,
       "max_width": null,
       "min_height": null,
       "min_width": null,
       "object_fit": null,
       "object_position": null,
       "order": null,
       "overflow": null,
       "overflow_x": null,
       "overflow_y": null,
       "padding": null,
       "right": null,
       "top": null,
       "visibility": null,
       "width": "600px"
      }
     }
    },
    "version_major": 2,
    "version_minor": 0
   }
  }
 },
 "nbformat": 4,
 "nbformat_minor": 2
}
