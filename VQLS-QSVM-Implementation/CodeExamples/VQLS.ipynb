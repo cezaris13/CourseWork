{
 "cells": [
  {
   "cell_type": "markdown",
   "metadata": {
    "tags": [
     "remove_cell"
    ]
   },
   "source": [
    "# The Variational Quantum Linear Solver"
   ]
  },
  {
   "cell_type": "code",
   "execution_count": 1,
   "metadata": {},
   "outputs": [],
   "source": [
    "from qiskit import QuantumCircuit\n",
    "import numpy as np\n",
    "from typing import List\n",
    "import sys\n",
    "sys.path.append(\"..\")\n",
    "\n",
    "from Code.VQLS.Circuits import getSolutionVector, specialHadamardTest,hadamardTest\n",
    "from Code.VQLS.NormEstimation import estimateNorm\n",
    "from Code.VQLS.Ansatz import fixedAnsatz, controlledFixedAnsatz\n",
    "from Code.VQLS.LCU import convertMatrixIntoCircuit, getLCU\n",
    "from Code.VQLS.LabelVector import labelVectorCircuit,controlledLabelVectorCircuit, getPaddedLabelVector\n",
    "from Code.VQLS.Minimization import minimization, getApproximationValue, plotCost\n",
    "from Code.Utils import createMatrixFromParameters, generateParams, appendMatrices"
   ]
  },
  {
   "cell_type": "code",
   "execution_count": 2,
   "metadata": {},
   "outputs": [],
   "source": [
    "qubits = 3 # 3\n",
    "iterations = 2000\n",
    "layers = 3\n",
    "shots: int = 10000"
   ]
  },
  {
   "cell_type": "markdown",
   "metadata": {},
   "source": [
    "## 1. Introduction\n",
    "\n",
    "The Variational Quantum Linear Solver, or the VQLS is a variational quantum algorithm that utilizes VQE in order to solve systems of linear equations more efficiently than classical computational algorithms. Specifically, if we are given some matrix $\\textbf{A}$, such that $\\textbf{A} |\\textbf{x}\\rangle \\ = \\ |\\textbf{b}\\rangle$, where $|\\textbf{b}\\rangle$ is some known vector, the VQLS algorithm is theoretically able to find a normalized $|x\\rangle$ that is proportional to $|\\textbf{x}\\rangle$, which makes the above relationship true.\n",
    "\n",
    "The output of this algorithm is identical to that of the HHL Quantum Linear-Solving Algorithm, except, while HHL provides a much more favourable computation speedup over VQLS, the variational nature of our algorithm allows for it to be performed on NISQ quantum computers, while HHL would require much more robust quantum hardware, and many more qubits.\n"
   ]
  },
  {
   "cell_type": "markdown",
   "metadata": {},
   "source": [
    "## 2. The Algorithm\n",
    "\n",
    "To begin, the inputs into this algorithm are evidently the matrix $\\textbf{A}$, which we have to decompose into a linear combination of unitaries with complex coefficients:\n",
    "\n",
    "\n",
    "\n",
    "$$A \\ = \\ \\displaystyle\\sum_{n} c_n \\ A_n$$\n",
    "\n",
    "\n",
    "\n",
    "Where each $A_n$ is some unitary, and some unitary $U$ that prepares state $|\\textbf{b}\\rangle$ from $|0\\rangle$. Now, recall the general structure of a variational quantum algorithm. We have to construct a quantum cost function, which can be evaluated with a low-depth parameterized quantum circuit, then output to the classical optimizer. This allows us to search a parameter space for some set of parameters $\\alpha$, such that $|\\psi(\\alpha)\\rangle \\ = \\ \\frac{|\\textbf{x}\\rangle}{|| \\textbf{x} ||}$, where $|\\psi(k)\\rangle$ is the output of out quantum circuit corresponding to some parameter set $k$.\n",
    "\n",
    "Before we actually begin constructing the cost function, let's take a look at a \"high level\" overview of the sub-routines within this algorithm, as illustrated in this image from the original paper:\n",
    "\n",
    "![alt text](images/bro.png)"
   ]
  },
  {
   "cell_type": "markdown",
   "metadata": {},
   "source": [
    "So essentially, we start off with a qubit register, with each qubit initialized to $|0\\rangle$. Our algorithm takes its inputs, then prepares and evaluates the cost function, starting with the creation of some ansatz $V(\\alpha)$. If the computed cost is greater than some parameter $\\gamma$, the algorithm is run again with updated parameters, and if not, the algorithm terminates, and the ansatz is calculated with the optimal parameters (determined at termination). This gives us the state vector that minimizes our cost function, and therefore the normalized form of $|\\textbf{x}\\rangle$."
   ]
  },
  {
   "cell_type": "markdown",
   "metadata": {},
   "source": [
    "## 3. Qiskit Implementation\n",
    "\n",
    "### Fixed Hardware Ansatz\n",
    "Let's start off by considering the ansatz $V(\\alpha)$, which is just a circuit that prepares some arbitrary state $|\\psi(k)\\rangle$. This allows us to \"search\" the state space by varying some set of parameters, $k$. Anyways, the ansatz that we will use for this implementation is given as follows:"
   ]
  },
  {
   "cell_type": "code",
   "execution_count": 3,
   "metadata": {},
   "outputs": [
    {
     "data": {
      "image/png": "[encoded data removed]",
      "text/plain": [
       "<Figure size 1123.61x284.278 with 1 Axes>"
      ]
     },
     "execution_count": 3,
     "metadata": {},
     "output_type": "execute_result"
    }
   ],
   "source": [
    "circ: QuantumCircuit = QuantumCircuit(qubits)\n",
    "params = generateParams(qubits,layers)\n",
    "fixedAnsatz(circ, qubits, params,layers=layers, barrier=True)\n",
    "circ.draw(output=\"mpl\", style=\"clifford\")"
   ]
  },
  {
   "cell_type": "markdown",
   "metadata": {},
   "source": [
    "This is called a **fixed hardware ansatz**: the configuration of quantum gates remains the same for each run of the circuit, all that changes are the parameters. Unlike the QAOA ansatz, it is not composed solely of Trotterized Hamiltonians. The applications of $Ry$ gates allow us to search the state space, while the $CZ$ gates create \"interference\" between the different qubit states. \n",
    "\n",
    "Now, it makes sense for us to consider the actual **cost function**. The goal of our algorithm will be to minimize cost, so when $|\\Phi\\rangle \\ = \\ \\textbf{A} |\\psi(k)\\rangle$ is very close to $|\\textbf{b}\\rangle$, we want our cost function's output to be very small, and when the vectors are close to being orthogonal, we want the cost function to be very large. Thus, we introduce the \"projection\" Hamiltonian:\n",
    "\n",
    "\n",
    "\n",
    "$$H_P \\ = \\ \\mathbb{I} \\ - \\ |b\\rangle \\langle b|$$\n",
    "\n",
    "\n",
    "\n",
    "Where we have:\n",
    "\n",
    "\n",
    "\n",
    "$$C_P \\ = \\ \\langle \\Phi | H_P | \\Phi \\rangle \\ = \\ \\langle \\Phi | (\\mathbb{I} \\ - \\ |b\\rangle \\langle b|) |\\Phi \\rangle \\ = \\ \\langle \\Phi | \\Phi \\rangle \\ - \\ \\langle \\Phi |b\\rangle \\langle b | \\Phi \\rangle$$\n",
    "\n",
    "\n",
    "\n",
    "Notice how the second term tells us \"how much\" of $|\\Phi\\rangle$ lies along $|b\\rangle$. We then subtract this from another number to get the desired low number when the inner product of $|\\Phi\\rangle$ and $|b\\rangle$ is greater (they agree more), and the opposite for when they are close to being orthogonal. This is looking good so far! However, there is still one more thing we can do to increase the accuracy of the algorithm: normalizing the cost function. This is due to the fact that if $|\\Phi\\rangle$ has a small norm, then the cost function will still be low, even if it does not agree with $|\\textbf{b}\\rangle$. Thus, we replace $|\\Phi\\rangle$ with $\\frac{|\\Phi\\rangle}{\\sqrt{\\langle \\Phi | \\Phi \\rangle}}$:\n",
    "\n",
    "\n",
    "\n",
    "$$\\hat{C}_P \\ = \\ \\frac{\\langle \\Phi | \\Phi \\rangle}{\\langle \\Phi | \\Phi \\rangle} \\ - \\ \\frac{\\langle \\Phi |b\\rangle \\langle b | \\Phi \\rangle}{\\langle \\Phi | \\Phi \\rangle} \\ = \\ 1 \\ - \\ \\frac{\\langle \\Phi |b\\rangle \\langle b | \\Phi \\rangle}{\\langle \\Phi | \\Phi \\rangle} \\ = \\ 1 \\ - \\ \\frac{|\\langle b | \\Phi \\rangle|^2}{\\langle \\Phi | \\Phi \\rangle}$$\n",
    "\n",
    "\n",
    "\n",
    "Ok, so, we have prepared our state $|\\psi(k)\\rangle$ with the ansatz. Now, we have two values to calculate in order to evaluate the cost function, namely $|\\langle b | \\Phi \\rangle|^2$ and $\\langle \\Phi | \\Phi \\rangle$. Luckily, a nifty little quantum subroutine called the **Hadamard Test** allows us to do this! Essentially, if we have some unitary $U$ and some state $|\\phi\\rangle$, and we want to find the expectation value of $U$ with respect to the state, $\\langle \\phi | U | \\phi \\rangle$, then we can evaluate the following circuit:\n",
    "\n",
    "<br><br>\n",
    "\n",
    "![image1](images/h.png)\n",
    "\n",
    "<br><br>\n",
    "\n",
    "Then, the probability of measuring the first qubit to be $0$ is equal to $\\frac{1}{2} (1 \\ + \\ \\text{Re}\\langle U \\rangle)$ and the probability of measuring $1$ is $\\frac{1}{2} (1 \\ - \\ \\text{Re}\\langle U \\rangle)$, so subtracting the two probabilities gives us $\\text{Re} \\langle U \\rangle$. Luckily, the matrices we will be dealing with when we test this algorithm are completely real, so $\\text{Re} \\langle U \\rangle \\ = \\ \\langle U \\rangle$, for this specific implementation. Here is how the Hadamard test works. By the circuit diagram, we have as our general state vector:\n",
    "\n",
    "<br>\n",
    "\n",
    "\n",
    "\n",
    "$$\\frac{|0\\rangle \\ + \\ |1\\rangle}{\\sqrt{2}} \\ \\otimes \\ |\\psi\\rangle \\ = \\ \\frac{|0\\rangle \\ \\otimes \\ |\\psi\\rangle \\ + \\ |1\\rangle \\ \\otimes \\ |\\psi\\rangle}{\\sqrt{2}}$$\n",
    "\n",
    "\n",
    "\n",
    "<br>\n",
    "\n",
    "Applying our controlled unitary:\n",
    "\n",
    "<br>\n",
    "\n",
    "\n",
    "\n",
    "$$\\frac{|0\\rangle \\ \\otimes \\ |\\psi\\rangle \\ + \\ |1\\rangle \\ \\otimes \\ |\\psi\\rangle}{\\sqrt{2}} \\ \\rightarrow \\ \\frac{|0\\rangle \\ \\otimes \\ |\\psi\\rangle \\ + \\ |1\\rangle \\ \\otimes \\ U|\\psi\\rangle}{\\sqrt{2}}$$\n",
    "\n",
    "\n",
    "\n",
    "<br>\n",
    "\n",
    "Then applying the Hadamard gate to the first qubit:\n",
    "\n",
    "<br>\n",
    "\n",
    "\n",
    "\n",
    "$$\\frac{|0\\rangle \\ \\otimes \\ |\\psi\\rangle \\ + \\ |1\\rangle \\ \\otimes \\ U|\\psi\\rangle}{\\sqrt{2}} \\ \\rightarrow \\ \\frac{1}{2} \\ \\big[ |0\\rangle \\ \\otimes \\ |\\psi\\rangle \\ + \\ |1\\rangle \\ \\otimes \\ |\\psi\\rangle \\ + \\ |0\\rangle \\ \\otimes \\ U|\\psi\\rangle \\ - \\ |1\\rangle \\ \\otimes \\ U|\\psi\\rangle \\big]$$\n",
    "\n",
    "\n",
    "\n",
    "<br>\n",
    "\n",
    "\n",
    "\n",
    "$$\\Rightarrow \\ \\frac{1}{2} |0\\rangle \\ \\otimes \\ (\\mathbb{I} \\ + \\ U)|\\psi\\rangle \\ + \\ \\frac{1}{2} |1\\rangle \\ \\otimes \\ (\\mathbb{I} \\ - \\ U)|\\psi\\rangle$$\n",
    "\n",
    "\n",
    "\n",
    "<br>\n",
    "\n",
    "When we take a measurement of the first qubit, remember that in order to find the probability of measuring $0$, we must take the inner product of the state vector with $|0\\rangle$, then multiply by its complex conjugate (see the quantum mechanics section if you are not familiar with this). The same follows for the probability of measuring $1$. Thus, we have:\n",
    "\n",
    "<br>\n",
    "\n",
    "\n",
    "\n",
    "$$P(0) \\ = \\ \\frac{1}{4} \\ \\langle \\psi | (\\mathbb{I} \\ + \\ U) (\\mathbb{I} \\ + \\ U^{\\dagger}) |\\psi\\rangle \\ = \\ \\frac{1}{4} \\ \\langle \\psi | (\\mathbb{I}^2 \\ + U \\ + \\ U^{\\dagger} \\ + U U^{\\dagger}) |\\psi\\rangle \\ = \\ \\frac{1}{4} \\ \\langle \\psi | (2\\mathbb{I} \\ + U \\ + \\ U^{\\dagger}) |\\psi\\rangle$$\n",
    "\n",
    "\n",
    "\n",
    "<br>\n",
    "\n",
    "\n",
    "\n",
    "$$\\Rightarrow \\ \\frac{1}{4} \\Big[ 2 \\ + \\ \\langle \\psi | U^{\\dagger} | \\psi \\rangle \\ + \\ \\langle \\psi | U | \\psi \\rangle \\Big] \\ = \\ \\frac{1}{4} \\Big[ 2 \\ + \\ (\\langle \\psi | U | \\psi \\rangle)^{*} \\ + \\ \\langle \\psi | U | \\psi \\rangle \\Big] \\ = \\ \\frac{1}{2} (1 \\ + \\ \\text{Re} \\ \\langle \\psi | U | \\psi \\rangle)$$\n",
    "\n",
    "\n",
    "\n",
    "<br>\n",
    "\n",
    "By a similar procedure, we get:\n",
    "\n",
    "<br>\n",
    "\n",
    "\n",
    "\n",
    "$$P(1) \\ = \\ \\frac{1}{2} \\ (1 \\ - \\ \\text{Re} \\ \\langle \\psi | U | \\psi \\rangle)$$\n",
    "\n",
    "\n",
    "\n",
    "<br>\n",
    "\n",
    "And so, by taking the difference:\n",
    "\n",
    "<br>\n",
    "\n",
    "\n",
    "\n",
    "$$P(0) \\ - \\ P(1) \\ = \\ \\text{Re} \\ \\langle \\psi | U | \\psi \\rangle$$\n",
    "\n",
    "\n",
    "\n",
    "<br>\n",
    "\n",
    "Cool! Now, we can actually implement this for the two values we have to compute. Starting with $\\langle \\Phi | \\Phi \\rangle$, we have:\n",
    "\n",
    "<br>\n",
    "\n",
    "\n",
    "\n",
    "$$\\langle \\Phi | \\Phi \\rangle \\ = \\ \\langle \\psi(k) | A^{\\dagger} A |\\psi(k) \\rangle \\ = \\ \\langle 0 | V(k)^{\\dagger} A^{\\dagger} A V(k) |0\\rangle \\ = \\ \\langle 0 | V(k)^{\\dagger} \\Big( \\displaystyle\\sum_{n} c_n \\ A_n \\Big)^{\\dagger} \\Big( \\displaystyle\\sum_{n} c_n \\ A_n \\Big) V(k) |0\\rangle$$\n",
    "\n",
    "\n",
    "\n",
    "<br>\n",
    "\n",
    "\n",
    "\n",
    "$$\\Rightarrow \\ \\langle \\Phi | \\Phi \\rangle \\ = \\ \\displaystyle\\sum_{m} \\displaystyle\\sum_{n} c_m^{*} c_n \\langle 0 | V(k)^{\\dagger} A_m^{\\dagger} A_n V(k) |0\\rangle$$\n",
    "\n",
    "\n",
    "\n",
    "<br>\n",
    "\n",
    "and so our task becomes computing every possible term $\\langle 0 | V(k)^{\\dagger} A_m^{\\dagger} A_n V(k) |0\\rangle$ using the Hadamard test. This requires us to prepare the state $V(k) |0\\rangle$, and then perform controlled operations with some control-auxiliary qubits for the unitary matrices $A_m^{\\dagger}$ and $A_n$. We can implement this in code:\n"
   ]
  },
  {
   "cell_type": "code",
   "execution_count": 4,
   "metadata": {},
   "outputs": [
    {
     "data": {
      "image/png": "[encoded data removed]",
      "text/plain": [
       "<Figure size 1792.5x367.889 with 1 Axes>"
      ]
     },
     "execution_count": 4,
     "metadata": {},
     "output_type": "execute_result"
    }
   ],
   "source": [
    "circ: QuantumCircuit = QuantumCircuit(qubits+1)\n",
    "matrices = [\"ZII\"]\n",
    "matrices = appendMatrices(matrices, qubits)\n",
    "matrix: np.ndarray  = createMatrixFromParameters([1], matrices)\n",
    "paulis, coefficientSet = getLCU(matrix)\n",
    "params = generateParams(qubits, layers=layers)\n",
    "\n",
    "fixedAnsatzCircuit = QuantumCircuit(qubits+1)\n",
    "fixedAnsatz(fixedAnsatzCircuit, qubits, params,layers=layers, barrier=True,offset=1)\n",
    "\n",
    "\n",
    "hadamardTest(circ,paulis, fixedAnsatzCircuit)\n",
    "circ.draw(output=\"mpl\", style=\"clifford\")\n",
    "circ.decompose().draw(output=\"mpl\", style=\"clifford\")"
   ]
  },
  {
   "cell_type": "markdown",
   "metadata": {},
   "source": [
    "The reason why we are applying two different \"gate_types\" is because this represents the pairs of gates shown in the expanded form of $\\langle \\Phi | \\Phi \\rangle$.\n",
    "\n",
    "It is also important to note that for the purposes of this implementation (the systems of equations we will actually be solving, we are only concerned with the gates $Z$ and $\\mathbb{I}$, so I only include support for these gates (The code includes number \"identifiers\" that signify the application of different gates, $0$ for $\\mathbb{I}$ and $1$ for $Z$).\n",
    "\n",
    "Now, we can move on to the second value we must calculate, which is $|\\langle b | \\Phi \\rangle|^2$. We get:\n",
    "\n",
    "<br>\n",
    "\n",
    "\n",
    "\n",
    "$$|\\langle b | \\Phi \\rangle|^2 \\ = \\ |\\langle b | A V(k) | 0 \\rangle|^2 \\ = \\ |\\langle 0 | U^{\\dagger} A V(k) | 0 \\rangle|^2 \\ = \\ \\langle 0 | U^{\\dagger} A V(k) | 0 \\rangle \\langle 0 | V(k)^{\\dagger} A^{\\dagger} U |0\\rangle$$\n",
    "\n",
    "\n",
    "\n",
    "<br>\n",
    "\n",
    "All we have to do now is the same expansion as before for the product $\\langle 0 | U^{\\dagger} A V(k) | 0 \\rangle \\langle 0 | V(k)^{\\dagger} A^{\\dagger} U |0\\rangle$:\n",
    "\n",
    "<br>\n",
    "\n",
    "\n",
    "\n",
    "$$\\langle 0 | U^{\\dagger} A V(k) | 0 \\rangle^2 \\ = \\ \\displaystyle\\sum_{m} \\displaystyle\\sum_{n} c_m^{*} c_n \\langle 0 | U^{\\dagger} A_n V(k) | 0 \\rangle \\langle 0 | V(k)^{\\dagger} A_m^{\\dagger} U |0\\rangle$$\n",
    "\n",
    "\n",
    "\n",
    "<br>\n",
    "\n",
    "Now, again, for the purposes of this demonstration, we will soon see that all the outputs/expectation values of our implementation will be real, so we have:\n",
    "<br>\n",
    "\n",
    "\n",
    "\n",
    "$$\\Rightarrow \\ \\langle 0 | U^{\\dagger} A V(k) | 0 \\rangle \\ = \\ (\\langle 0 | U^{\\dagger} A V(k) | 0 \\rangle)^{*} \\ = \\ \\langle 0 | V(k)^{\\dagger} A^{\\dagger} U |0\\rangle$$\n",
    "\n",
    "\n",
    "\n",
    "<br>\n",
    "\n",
    "Thus, in this particular implementation:\n",
    "\n",
    "<br>\n",
    "\n",
    "\n",
    "\n",
    "$$|\\langle b | \\Phi \\rangle|^2 \\ = \\ \\displaystyle\\sum_{m} \\displaystyle\\sum_{n} c_m c_n \\langle 0 | U^{\\dagger} A_n V(k) | 0 \\rangle \\langle 0 | U^{\\dagger} A_m V(k) | 0 \\rangle$$\n",
    "\n",
    "\n",
    "\n",
    "<br>\n",
    "\n",
    "There is a sophisticated way of solving for this value, using a newly-proposed subroutine called the **Hadamard Overlap Test** (see cited paper), but for this tutorial, we will just be using a standard Hadamard Test, where we control each matrix. This unfortunately requires the use of an extra auxiliary qubit. We essentially just place a control on each of the gates involved in the auxiliary, the $|b\\rangle$ preparation unitary, and the $A_n$ unitaries. We get something like this for the controlled-ansatz:\n"
   ]
  },
  {
   "cell_type": "code",
   "execution_count": 5,
   "metadata": {},
   "outputs": [
    {
     "data": {
      "image/png": "[encoded data removed]",
      "text/plain": [
       "<Figure size 1876.11x451.5 with 1 Axes>"
      ]
     },
     "execution_count": 5,
     "metadata": {},
     "output_type": "execute_result"
    }
   ],
   "source": [
    "circ: QuantumCircuit = QuantumCircuit(qubits+2)\n",
    "params = generateParams(qubits, layers)\n",
    "controlledFixedAnsatz(circ, qubits, params)\n",
    "circ.draw(output=\"mpl\", style=\"clifford\")"
   ]
  },
  {
   "cell_type": "markdown",
   "metadata": {},
   "source": [
    "Notice the extra qubit, `q0_4`. This is an auxiliary, and allows us to create a $CCZ$ gate, as is shown in the circuit. Now, we also have to create the circuit for $U$. In our implementation, we will pick $U$ as:\n",
    "\n",
    "<br>\n",
    "\n",
    "\n",
    "\n",
    "In this function we encode the vector with the amplitude encoding:\n",
    "\n",
    "\n",
    "\n",
    "<br>\n",
    "\n",
    "Thus, we have:"
   ]
  },
  {
   "cell_type": "code",
   "execution_count": 6,
   "metadata": {},
   "outputs": [
    {
     "name": "stdout",
     "output_type": "stream",
     "text": [
      "[0.57735027 0.57735027 0.57735027 0.        ]\n"
     ]
    },
    {
     "data": {
      "image/png": "[encoded data removed]",
      "text/plain": [
       "<Figure size 287.496x367.889 with 1 Axes>"
      ]
     },
     "execution_count": 6,
     "metadata": {},
     "output_type": "execute_result"
    }
   ],
   "source": [
    "print(getPaddedLabelVector([1, 1, 1]))\n",
    "\n",
    "circ: QuantumCircuit = labelVectorCircuit([1, 1, 1])\n",
    "circ.draw(output=\"mpl\", style=\"clifford\")\n",
    "\n",
    "circ: QuantumCircuit = QuantumCircuit(qubits+1)\n",
    "controlledLabelVectorCircuit(circ, 0, qubits, [1 for _ in range(2**qubits)])\n",
    "circ.draw(output=\"mpl\", style=\"clifford\")"
   ]
  },
  {
   "cell_type": "markdown",
   "metadata": {},
   "source": [
    "# Matrix decomposition and gate creation\n",
    "\n",
    "We use sparseMatrixOP to get the linear combination of unitary matrices with their coeffitiens."
   ]
  },
  {
   "cell_type": "code",
   "execution_count": 7,
   "metadata": {},
   "outputs": [
    {
     "data": {
      "image/png": "[encoded data removed]",
      "text/plain": [
       "<Figure size 1207.22x284.278 with 1 Axes>"
      ]
     },
     "execution_count": 7,
     "metadata": {},
     "output_type": "execute_result"
    }
   ],
   "source": [
    "A: np.ndarray = np.array([[1, 0, 0, 0],\n",
    "              [0, 0, 0, 1],\n",
    "              [0, 0, 1, 0],\n",
    "              [0, 3, 0, 0]])\n",
    "paulis, coefficientSet = getLCU(A)\n",
    "circ: QuantumCircuit = QuantumCircuit(len(paulis[0])+1)\n",
    "convertMatrixIntoCircuit(circ, paulis, controlled=True, auxiliaryQubit=0)\n",
    "circ.draw(output=\"mpl\", style=\"clifford\")"
   ]
  },
  {
   "cell_type": "code",
   "execution_count": 8,
   "metadata": {},
   "outputs": [
    {
     "data": {
      "image/png": "[encoded data removed]",
      "text/plain": [
       "<Figure size 454.517x200.667 with 1 Axes>"
      ]
     },
     "execution_count": 8,
     "metadata": {},
     "output_type": "execute_result"
    }
   ],
   "source": [
    "A: np.ndarray = np.array([[1, 0, 0, 0],\n",
    "              [0, 0, 0, 1],\n",
    "              [0, 0, 1, 0],\n",
    "              [0, 3, 0, 0]])\n",
    "\n",
    "paulis, coefficientSet = getLCU(A)\n",
    "circ: QuantumCircuit = QuantumCircuit(len(paulis[0]))\n",
    "convertMatrixIntoCircuit(circ, paulis,showBarriers=False)\n",
    "circ.draw(output=\"mpl\", style=\"clifford\")"
   ]
  },
  {
   "cell_type": "markdown",
   "metadata": {},
   "source": [
    "Finally, we construct our new Hadamard test:"
   ]
  },
  {
   "cell_type": "code",
   "execution_count": 9,
   "metadata": {},
   "outputs": [
    {
     "data": {
      "image/png": "[encoded data removed]",
      "text/plain": [
       "<Figure size 2210.55x953.167 with 1 Axes>"
      ]
     },
     "execution_count": 9,
     "metadata": {},
     "output_type": "execute_result"
    }
   ],
   "source": [
    "matrices = [\"ZII\"]\n",
    "matrices = appendMatrices(matrices, qubits)\n",
    "matrix: np.ndarray = createMatrixFromParameters([1], matrices)\n",
    "circ: QuantumCircuit = QuantumCircuit(qubits+2)\n",
    "paulis, _ = getLCU(matrix)\n",
    "params = generateParams(qubits, layers=layers)\n",
    "\n",
    "labelVectorCircuit = QuantumCircuit(qubits + 1)\n",
    "controlledLabelVectorCircuit(labelVectorCircuit, 0, qubits, [1 for _ in range(2**qubits)])\n",
    "\n",
    "controlledFixedAnsatzCircuit = QuantumCircuit(qubits + 2)\n",
    "controlledFixedAnsatz(\n",
    "    controlledFixedAnsatzCircuit, qubits, params\n",
    ")\n",
    "\n",
    "specialHadamardTest(\n",
    "    circ,\n",
    "    paulis,\n",
    "    controlledFixedAnsatzCircuit,\n",
    "    labelVectorCircuit\n",
    ")\n",
    "circ.draw(output=\"mpl\", style=\"clifford\")\n",
    "circ.decompose().draw(output=\"mpl\", style=\"clifford\")"
   ]
  },
  {
   "cell_type": "markdown",
   "metadata": {},
   "source": [
    "The final step is to actually use this code to solve a real linear system. We will first be looking at the example:\n",
    "\n",
    "<br>\n",
    "\n",
    "\n",
    "\n",
    "$$A \\ = \\ 0.45 Z_3 \\ + \\ 0.55 \\mathbb{I}$$\n",
    "\n",
    "\n",
    "\n",
    "<br>\n",
    "\n",
    "In order to minimize the cost function, we use the COBYLA optimizer method, which we repeatedly applying. Our search space for parameters is determined by $\\frac{k}{1000} \\ k \\ \\in \\ \\{0, \\ 3000\\}$, which is initially chosen randomly. We will run the optimizer for $200$ steps, then terminate and apply the ansatz for our optimal parameters, to get our optimized state vector! In addition, we will compute some post-processing, to see if our algorithm actually works! In order to do this, we will apply $A$ to our optimal vector $|\\psi\\rangle_o$, normalize it, then calculate the inner product squared of this vector and the solution vector, $|b\\rangle$! We can put this all into code as:"
   ]
  },
  {
   "cell_type": "code",
   "execution_count": 10,
   "metadata": {
    "scrolled": false,
    "tags": [
     "output_scroll"
    ]
   },
   "outputs": [
    {
     "name": "stdout",
     "output_type": "stream",
     "text": [
      "Time to prepare circuits: 0.5275311470031738\n",
      "Time to minimize: 7.4416840076446534696229602\n",
      " message: Maximum number of function evaluations has been exceeded.\n",
      " success: False\n",
      "  status: 2\n",
      "     fun: 0.0005692124819430822\n",
      "       x: [ 1.044e-01  1.410e+00  1.584e+00  1.589e+00  5.704e-01\n",
      "            1.550e+00 -1.354e+00  3.994e-01  1.450e+00]\n",
      "    nfev: 2000\n",
      "   maxcv: 0.0\n",
      "Statevector([-0.05034101+0.j,  0.50154936+0.j,  0.04978445+0.j,\n",
      "             -0.47645482+0.j,  0.04971141+0.j, -0.48965002+0.j,\n",
      "             -0.04948275+0.j,  0.52129591+0.j],\n",
      "            dims=(2, 2, 2))\n",
      "[-0.05034101+0.j  0.05015494+0.j  0.04978445+0.j -0.04764548+0.j\n",
      "  0.04971141+0.j -0.048965  +0.j -0.04948275+0.j  0.05212959+0.j]\n",
      "[-0.35745888+0.j  0.35613759+0.j  0.35350685+0.j -0.33831859+0.j\n",
      "  0.35298825+0.j -0.34768817+0.j -0.35136459+0.j  0.37015912+0.j]\n",
      "0.00018013519190285086\n"
     ]
    },
    {
     "data": {
      "image/png": "[encoded data removed]",
      "text/plain": [
       "<Figure size 800x550 with 1 Axes>"
      ]
     },
     "metadata": {},
     "output_type": "display_data"
    }
   ],
   "source": [
    "b = [1 for _ in range(2**qubits)]\n",
    "\n",
    "bVector: np.array = getPaddedLabelVector(b)\n",
    "matrices = [\"ZII\", \"III\"]\n",
    "matrices = appendMatrices(matrices,qubits)\n",
    "A: np.ndarray = createMatrixFromParameters([0.45, 0.55], matrices)\n",
    "\n",
    "paulis, coefficientSet = getLCU(A)\n",
    "\n",
    "outF: List[List[float]] = minimization(\n",
    "    paulis=paulis,\n",
    "    coefficientSet=coefficientSet,\n",
    "    qubits=qubits,\n",
    "    bVector=bVector,\n",
    "    quantumSimulation=False,\n",
    "    method=\"COBYLA\",\n",
    "    iterations= iterations,\n",
    ")\n",
    "circ: QuantumCircuit = QuantumCircuit(qubits, qubits)\n",
    "o: List[complex] = getSolutionVector(circ, qubits, outF)\n",
    "\n",
    "print(o)\n",
    "print(A.dot(o))\n",
    "print((A.dot(o) / (np.linalg.norm(A.dot(o)))))\n",
    "print(getApproximationValue(A, bVector, o))\n",
    "plotCost()"
   ]
  },
  {
   "cell_type": "code",
   "execution_count": 11,
   "metadata": {},
   "outputs": [
    {
     "name": "stdout",
     "output_type": "stream",
     "text": [
      "(7.102770315470991+0j)\n",
      "[(0.35756065775907847+0j), (3.562389883932886+0j), (0.3536075001367862+0j), (3.38414918199071+0j), (0.35308875640956605+0j), (3.4778716163716217+0j), (0.3514646305567372+0j), (3.7026451165449914+0j)]\n",
      "[0.35355339+0.j 3.53553391+0.j 0.35355339+0.j 3.53553391+0.j\n",
      " 0.35355339+0.j 3.53553391+0.j 0.35355339+0.j 3.53553391+0.j]\n",
      "7.106335201775944\n"
     ]
    }
   ],
   "source": [
    "estimatedNorm, estimatedNormVector = estimateNorm(A, o, bVector)\n",
    "\n",
    "print (estimatedNorm)\n",
    "print (list(estimatedNormVector*estimatedNorm))\n",
    "x: np.array = np.linalg.solve(A, bVector)\n",
    "print(x)\n",
    "print (np.linalg.norm(x))"
   ]
  },
  {
   "cell_type": "markdown",
   "metadata": {},
   "source": [
    "As you can see, our cost function has achieved a fairly low value of `0.03273673575407443`, and when we calculate our classical cost function, we get `0.96776862579723`, which agrees perfectly with what we measured, the vectors $|\\psi\\rangle_o$ and $|b\\rangle$ are very similar!\n",
    "\n",
    "Let's do another test! This time, we will keep $|b\\rangle$ the same, but we will have:\n",
    "\n",
    "<br>\n",
    "\n",
    "\n",
    "\n",
    "$$A \\ = \\ 0.55 \\mathbb{I} \\ + \\ 0.225 Z_2 \\ + \\ 0.225 Z_3$$\n",
    "\n",
    "\n",
    "\n",
    "Again, we run our optimization code:"
   ]
  },
  {
   "cell_type": "code",
   "execution_count": 12,
   "metadata": {
    "scrolled": false,
    "tags": [
     "output_scroll"
    ]
   },
   "outputs": [
    {
     "name": "stdout",
     "output_type": "stream",
     "text": [
      "Time to prepare circuits: 0.4868161678314209\n",
      "Time to minimize: 18.9987878799438487981420537\n",
      "4.3314208467680746e-05\n"
     ]
    },
    {
     "data": {
      "image/png": "[encoded data removed]",
      "text/plain": [
       "<Figure size 800x550 with 1 Axes>"
      ]
     },
     "metadata": {},
     "output_type": "display_data"
    }
   ],
   "source": [
    "b = [1 for _ in range(2**qubits)]\n",
    "# b = np.array([1, 1, 1, -1, 1, 1, 1, 1])\n",
    "bVector: np.array = getPaddedLabelVector(b)\n",
    "matrices = [\"ZII\", \"IZI\", \"III\"]\n",
    "matrices = appendMatrices(matrices, qubits)\n",
    "A: np.ndarray = createMatrixFromParameters([0.225, 0.225, 0.55], matrices)\n",
    "\n",
    "paulis, coefficientSet = getLCU(A)\n",
    "\n",
    "outF: List[List[float]] = minimization(\n",
    "    paulis=paulis,\n",
    "    coefficientSet=coefficientSet,\n",
    "    qubits=qubits,\n",
    "    bVector=bVector,\n",
    "    quantumSimulation=False,\n",
    "    method=\"ADAM\",\n",
    "    options={\"lr\": 0.35},\n",
    "    # method=\"SPSA\",\n",
    "    # options={\"learnin_rate\": 0.35, \"perturbation\": 0.1},\n",
    "    # method=\"GD\",\n",
    "    # options={\"learnin_rate\": 0.2},\n",
    ")\n",
    "circ: QuantumCircuit = QuantumCircuit(qubits, qubits)\n",
    "o: List[complex] = getSolutionVector(circ,qubits, outF)\n",
    "\n",
    "print(getApproximationValue(A, bVector, o))\n",
    "plotCost()"
   ]
  },
  {
   "cell_type": "code",
   "execution_count": 13,
   "metadata": {},
   "outputs": [
    {
     "name": "stdout",
     "output_type": "stream",
     "text": [
      "(5.173946954389196+0j)\n",
      "[(0.34082771969387127+0j), (0.6621061619976498+0j), (0.6343299281475823+0j), (3.52543189295534+0j), (0.3399053694834169+0j), (0.6639415084398598+0j), (0.663610472587587+0j), (3.5195740712839396+0j)]\n",
      "[0.35355339+0.j 0.64282435+0.j 0.64282435+0.j 3.53553391+0.j\n",
      " 0.35355339+0.j 0.64282435+0.j 0.64282435+0.j 3.53553391+0.j]\n",
      "5.186799838241635\n"
     ]
    }
   ],
   "source": [
    "estimatedNorm, estimatedNormVector = estimateNorm(A, o, bVector)\n",
    "\n",
    "print (estimatedNorm)\n",
    "print (list(estimatedNormVector*estimatedNorm))\n",
    "x: np.array = np.linalg.solve(A, bVector)\n",
    "print(x)\n",
    "print (np.linalg.norm(x))"
   ]
  },
  {
   "cell_type": "markdown",
   "metadata": {},
   "source": [
    "\n",
    "Again, very low error, and the classical cost function agrees! Great, so it works!\n",
    "\n",
    "\n",
    "Let's try our sampling for our second value of $A$, with the same matrix $U$ and quantum simulation:\n"
   ]
  },
  {
   "cell_type": "code",
   "execution_count": 14,
   "metadata": {
    "scrolled": false,
    "tags": []
   },
   "outputs": [
    {
     "name": "stdout",
     "output_type": "stream",
     "text": [
      "[[1.  +0.j 0.  +0.j 0.  +0.j 0.  +0.j 0.  +0.j 0.  +0.j 0.  +0.j 0.  +0.j]\n",
      " [0.  +0.j 0.55+0.j 0.  +0.j 0.  +0.j 0.  +0.j 0.  +0.j 0.  +0.j 0.  +0.j]\n",
      " [0.  +0.j 0.  +0.j 0.55+0.j 0.  +0.j 0.  +0.j 0.  +0.j 0.  +0.j 0.  +0.j]\n",
      " [0.  +0.j 0.  +0.j 0.  +0.j 0.1 +0.j 0.  +0.j 0.  +0.j 0.  +0.j 0.  +0.j]\n",
      " [0.  +0.j 0.  +0.j 0.  +0.j 0.  +0.j 1.  +0.j 0.  +0.j 0.  +0.j 0.  +0.j]\n",
      " [0.  +0.j 0.  +0.j 0.  +0.j 0.  +0.j 0.  +0.j 0.55+0.j 0.  +0.j 0.  +0.j]\n",
      " [0.  +0.j 0.  +0.j 0.  +0.j 0.  +0.j 0.  +0.j 0.  +0.j 0.55+0.j 0.  +0.j]\n",
      " [0.  +0.j 0.  +0.j 0.  +0.j 0.  +0.j 0.  +0.j 0.  +0.j 0.  +0.j 0.1 +0.j]]\n",
      "Time to prepare circuits: 0.5129690170288086\n",
      "Time to minimize: 59.04938912391662676068\n",
      " message: Optimization terminated successfully.\n",
      " success: True\n",
      "  status: 1\n",
      "     fun: 0.12812591852190214\n",
      "       x: [ 1.533e+00  1.770e+00  1.663e+00  1.496e+00  2.964e-02\n",
      "            1.624e+00 -5.895e-01 -3.293e-01  2.498e-02]\n",
      "    nfev: 91\n",
      "   maxcv: 0.0\n",
      "0.002222999805164738\n"
     ]
    },
    {
     "data": {
      "image/png": "[encoded data removed]",
      "text/plain": [
       "<Figure size 800x550 with 1 Axes>"
      ]
     },
     "metadata": {},
     "output_type": "display_data"
    }
   ],
   "source": [
    "b = [1 * (-1)**(i) for i in range(2**qubits)]\n",
    "# b = np.array([1, 1, 1, 1, 1, 1, 1, 1, 1, 1, -1 ,1,1,1,1,1])\n",
    "bVector: np.array = getPaddedLabelVector(b)\n",
    "matrices = [\"ZII\", \"IZI\", \"III\"]\n",
    "matrices = appendMatrices(matrices, qubits)\n",
    "A: np.ndarray = createMatrixFromParameters([0.225, 0.225, 0.55], matrices)\n",
    "print (A)\n",
    "\n",
    "paulis, coefficientSet = getLCU(A)\n",
    "\n",
    "outF: List[List[float]] = minimization(\n",
    "    paulis=paulis,\n",
    "    coefficientSet=coefficientSet,\n",
    "    qubits=qubits,\n",
    "    bVector=bVector,\n",
    "    iterations= iterations,\n",
    ")\n",
    "circ: QuantumCircuit = QuantumCircuit(qubits, qubits)\n",
    "o: List[complex] = getSolutionVector(circ,qubits, outF)\n",
    "\n",
    "print(getApproximationValue(A, bVector, o))\n",
    "\n",
    "plotCost()"
   ]
  },
  {
   "cell_type": "code",
   "execution_count": 15,
   "metadata": {},
   "outputs": [
    {
     "name": "stdout",
     "output_type": "stream",
     "text": [
      "(2.549458621073372+0j)\n",
      "[(0.49044502008788643+0j), (-0.7781781223869129+0j), (0.5952796412089981+0j), (-1.4230315240108886+0j), (0.46366119585254933+0j), (-0.7449815928730341+0j), (0.7803748733506494+0j), (-1.3766993000388819+0j)]\n",
      "[ 0.35355339+0.j -0.64282435+0.j  0.64282435+0.j -3.53553391+0.j\n",
      "  0.35355339+0.j -0.64282435+0.j  0.64282435+0.j -3.53553391+0.j]\n",
      "5.186799838241635\n"
     ]
    }
   ],
   "source": [
    "estimatedNorm, estimatedNormVector = estimateNorm( A, o, bVector)\n",
    "\n",
    "print (estimatedNorm)\n",
    "print (list(estimatedNormVector*estimatedNorm))\n",
    "x: np.array = np.linalg.solve(A, bVector)\n",
    "print(x)\n",
    "print (np.linalg.norm(x))"
   ]
  },
  {
   "cell_type": "code",
   "execution_count": 16,
   "metadata": {},
   "outputs": [],
   "source": [
    "import qiskit\n",
    "from qiskit_aer import Aer\n",
    "from concurrent.futures import ThreadPoolExecutor\n",
    "from math import pi\n",
    "import time\n",
    "\n",
    "def circuitTest(circ_list, parallel:bool,shots:int, workers = 2, jobSize = 1):\n",
    "    backend = Aer.get_backend(\"aer_simulator\")\n",
    "    if parallel:\n",
    "        exc = ThreadPoolExecutor(max_workers=workers)\n",
    "        backend.set_options(executor=exc)\n",
    "        backend.set_options(max_job_size=jobSize)\n",
    "    \n",
    "    totalTimes = 0\n",
    "    for _ in range(5):\n",
    "        start = time.time()\n",
    "        backend.run(circ_list,shots = shots).result()\n",
    "        end = time.time()\n",
    "        totalTimes += end - start\n",
    "\n",
    "    \n",
    "    if parallel != True:\n",
    "        print(\"parallel: \", parallel)\n",
    "        print(\"Time taken: \", totalTimes/5)\n",
    "    return totalTimes/5"
   ]
  },
  {
   "cell_type": "code",
   "execution_count": 17,
   "metadata": {},
   "outputs": [
    {
     "ename": "KeyboardInterrupt",
     "evalue": "",
     "output_type": "error",
     "traceback": [
      "\u001b[0;31m---------------------------------------------------------------------------\u001b[0m",
      "\u001b[0;31mKeyboardInterrupt\u001b[0m                         Traceback (most recent call last)",
      "Cell \u001b[0;32mIn[17], line 15\u001b[0m\n\u001b[1;32m     12\u001b[0m     circ\u001b[39m.\u001b[39mmeasure([\u001b[39m0\u001b[39m, \u001b[39m1\u001b[39m, \u001b[39m2\u001b[39m], [\u001b[39m0\u001b[39m, \u001b[39m1\u001b[39m ,\u001b[39m2\u001b[39m])\n\u001b[1;32m     13\u001b[0m     circ_list\u001b[39m.\u001b[39mappend(circ)\n\u001b[0;32m---> 15\u001b[0m circ_list \u001b[39m=\u001b[39m transpile(circ_list, backend \u001b[39m=\u001b[39;49m Aer\u001b[39m.\u001b[39;49mget_backend(\u001b[39m\"\u001b[39;49m\u001b[39maer_simulator\u001b[39;49m\u001b[39m\"\u001b[39;49m))\n\u001b[1;32m     16\u001b[0m circuitTest(circ_list,\u001b[39mFalse\u001b[39;00m,shots)\n\u001b[1;32m     18\u001b[0m \u001b[39mprint\u001b[39m(\u001b[39m\"\u001b[39m\u001b[39mworker sizes\u001b[39m\u001b[39m\"\u001b[39m)\n",
      "File \u001b[0;32m~/.pyenv/versions/3.11.4/lib/python3.11/site-packages/qiskit/compiler/transpiler.py:425\u001b[0m, in \u001b[0;36mtranspile\u001b[0;34m(circuits, backend, basis_gates, inst_map, coupling_map, backend_properties, initial_layout, layout_method, routing_method, translation_method, scheduling_method, instruction_durations, dt, approximation_degree, timing_constraints, seed_transpiler, optimization_level, callback, output_name, unitary_synthesis_method, unitary_synthesis_plugin_config, target, hls_config, init_method, optimization_method, ignore_backend_supplied_default_methods, num_processes)\u001b[0m\n\u001b[1;32m    397\u001b[0m         instruction_durations \u001b[39m=\u001b[39m _parse_instruction_durations(\n\u001b[1;32m    398\u001b[0m             backend, instruction_durations, dt, circuits[\u001b[39m0\u001b[39m]\n\u001b[1;32m    399\u001b[0m         )\n\u001b[1;32m    401\u001b[0m pm \u001b[39m=\u001b[39m generate_preset_pass_manager(\n\u001b[1;32m    402\u001b[0m     optimization_level,\n\u001b[1;32m    403\u001b[0m     backend\u001b[39m=\u001b[39mbackend,\n\u001b[0;32m   (...)\u001b[0m\n\u001b[1;32m    423\u001b[0m     _skip_target\u001b[39m=\u001b[39m_skip_target,\n\u001b[1;32m    424\u001b[0m )\n\u001b[0;32m--> 425\u001b[0m out_circuits \u001b[39m=\u001b[39m pm\u001b[39m.\u001b[39;49mrun(circuits, callback\u001b[39m=\u001b[39;49mcallback)\n\u001b[1;32m    426\u001b[0m \u001b[39mfor\u001b[39;00m name, circ \u001b[39min\u001b[39;00m \u001b[39mzip\u001b[39m(output_name, out_circuits):\n\u001b[1;32m    427\u001b[0m     circ\u001b[39m.\u001b[39mname \u001b[39m=\u001b[39m name\n",
      "File \u001b[0;32m~/.pyenv/versions/3.11.4/lib/python3.11/site-packages/qiskit/transpiler/passmanager.py:397\u001b[0m, in \u001b[0;36mStagedPassManager.run\u001b[0;34m(self, circuits, output_name, callback, num_processes)\u001b[0m\n\u001b[1;32m    389\u001b[0m \u001b[39mdef\u001b[39;00m \u001b[39mrun\u001b[39m(\n\u001b[1;32m    390\u001b[0m     \u001b[39mself\u001b[39m,\n\u001b[1;32m    391\u001b[0m     circuits: _CircuitsT,\n\u001b[0;32m   (...)\u001b[0m\n\u001b[1;32m    394\u001b[0m     num_processes: \u001b[39mint\u001b[39m \u001b[39m=\u001b[39m \u001b[39mNone\u001b[39;00m,\n\u001b[1;32m    395\u001b[0m ) \u001b[39m-\u001b[39m\u001b[39m>\u001b[39m _CircuitsT:\n\u001b[1;32m    396\u001b[0m     \u001b[39mself\u001b[39m\u001b[39m.\u001b[39m_update_passmanager()\n\u001b[0;32m--> 397\u001b[0m     \u001b[39mreturn\u001b[39;00m \u001b[39msuper\u001b[39;49m()\u001b[39m.\u001b[39;49mrun(circuits, output_name, callback, num_processes\u001b[39m=\u001b[39;49mnum_processes)\n",
      "File \u001b[0;32m~/.pyenv/versions/3.11.4/lib/python3.11/site-packages/qiskit/transpiler/passmanager.py:420\u001b[0m, in \u001b[0;36m_replace_error.<locals>.wrapper\u001b[0;34m(*meth_args, **meth_kwargs)\u001b[0m\n\u001b[1;32m    417\u001b[0m \u001b[39m@wraps\u001b[39m(meth)\n\u001b[1;32m    418\u001b[0m \u001b[39mdef\u001b[39;00m \u001b[39mwrapper\u001b[39m(\u001b[39m*\u001b[39mmeth_args, \u001b[39m*\u001b[39m\u001b[39m*\u001b[39mmeth_kwargs):\n\u001b[1;32m    419\u001b[0m     \u001b[39mtry\u001b[39;00m:\n\u001b[0;32m--> 420\u001b[0m         \u001b[39mreturn\u001b[39;00m meth(\u001b[39m*\u001b[39;49mmeth_args, \u001b[39m*\u001b[39;49m\u001b[39m*\u001b[39;49mmeth_kwargs)\n\u001b[1;32m    421\u001b[0m     \u001b[39mexcept\u001b[39;00m PassManagerError \u001b[39mas\u001b[39;00m ex:\n\u001b[1;32m    422\u001b[0m         \u001b[39mraise\u001b[39;00m TranspilerError(ex\u001b[39m.\u001b[39mmessage) \u001b[39mfrom\u001b[39;00m \u001b[39mex\u001b[39;00m\n",
      "File \u001b[0;32m~/.pyenv/versions/3.11.4/lib/python3.11/site-packages/qiskit/transpiler/passmanager.py:182\u001b[0m, in \u001b[0;36mPassManager.run\u001b[0;34m(self, circuits, output_name, callback, num_processes)\u001b[0m\n\u001b[1;32m    179\u001b[0m \u001b[39mif\u001b[39;00m callback \u001b[39mis\u001b[39;00m \u001b[39mnot\u001b[39;00m \u001b[39mNone\u001b[39;00m:\n\u001b[1;32m    180\u001b[0m     callback \u001b[39m=\u001b[39m _legacy_style_callback(callback)\n\u001b[0;32m--> 182\u001b[0m \u001b[39mreturn\u001b[39;00m \u001b[39msuper\u001b[39;49m()\u001b[39m.\u001b[39;49mrun(\n\u001b[1;32m    183\u001b[0m     in_programs\u001b[39m=\u001b[39;49mcircuits,\n\u001b[1;32m    184\u001b[0m     callback\u001b[39m=\u001b[39;49mcallback,\n\u001b[1;32m    185\u001b[0m     output_name\u001b[39m=\u001b[39;49moutput_name,\n\u001b[1;32m    186\u001b[0m     num_processes\u001b[39m=\u001b[39;49mnum_processes,\n\u001b[1;32m    187\u001b[0m )\n",
      "File \u001b[0;32m~/.pyenv/versions/3.11.4/lib/python3.11/site-packages/qiskit/passmanager/passmanager.py:246\u001b[0m, in \u001b[0;36mBasePassManager.run\u001b[0;34m(***failed resolving arguments***)\u001b[0m\n\u001b[1;32m    240\u001b[0m \u001b[39mdel\u001b[39;00m kwargs\n\u001b[1;32m    242\u001b[0m \u001b[39m# Pass manager may contain callable and we need to serialize through dill rather than pickle.\u001b[39;00m\n\u001b[1;32m    243\u001b[0m \u001b[39m# See https://github.com/Qiskit/qiskit-terra/pull/3290\u001b[39;00m\n\u001b[1;32m    244\u001b[0m \u001b[39m# Note that serialized object is deserialized as a different object.\u001b[39;00m\n\u001b[1;32m    245\u001b[0m \u001b[39m# Thus, we can resue the same manager without state collision, without building it per thread.\u001b[39;00m\n\u001b[0;32m--> 246\u001b[0m \u001b[39mreturn\u001b[39;00m parallel_map(\n\u001b[1;32m    247\u001b[0m     _run_workflow_in_new_process,\n\u001b[1;32m    248\u001b[0m     values\u001b[39m=\u001b[39;49min_programs,\n\u001b[1;32m    249\u001b[0m     task_kwargs\u001b[39m=\u001b[39;49m{\u001b[39m\"\u001b[39;49m\u001b[39mpass_manager_bin\u001b[39;49m\u001b[39m\"\u001b[39;49m: dill\u001b[39m.\u001b[39;49mdumps(\u001b[39mself\u001b[39;49m)},\n\u001b[1;32m    250\u001b[0m     num_processes\u001b[39m=\u001b[39;49mnum_processes,\n\u001b[1;32m    251\u001b[0m )\n",
      "File \u001b[0;32m~/.pyenv/versions/3.11.4/lib/python3.11/site-packages/qiskit/utils/parallel.py:180\u001b[0m, in \u001b[0;36mparallel_map\u001b[0;34m(task, values, task_args, task_kwargs, num_processes)\u001b[0m\n\u001b[1;32m    178\u001b[0m results \u001b[39m=\u001b[39m []\n\u001b[1;32m    179\u001b[0m \u001b[39mfor\u001b[39;00m _, value \u001b[39min\u001b[39;00m \u001b[39menumerate\u001b[39m(values):\n\u001b[0;32m--> 180\u001b[0m     result \u001b[39m=\u001b[39m task(value, \u001b[39m*\u001b[39;49mtask_args, \u001b[39m*\u001b[39;49m\u001b[39m*\u001b[39;49mtask_kwargs)\n\u001b[1;32m    181\u001b[0m     results\u001b[39m.\u001b[39mappend(result)\n\u001b[1;32m    182\u001b[0m \u001b[39mreturn\u001b[39;00m results\n",
      "File \u001b[0;32m~/.pyenv/versions/3.11.4/lib/python3.11/site-packages/qiskit/passmanager/passmanager.py:332\u001b[0m, in \u001b[0;36m_run_workflow_in_new_process\u001b[0;34m(program, pass_manager_bin)\u001b[0m\n\u001b[1;32m    317\u001b[0m \u001b[39mdef\u001b[39;00m \u001b[39m_run_workflow_in_new_process\u001b[39m(\n\u001b[1;32m    318\u001b[0m     program: Any,\n\u001b[1;32m    319\u001b[0m     pass_manager_bin: \u001b[39mbytes\u001b[39m,\n\u001b[1;32m    320\u001b[0m ) \u001b[39m-\u001b[39m\u001b[39m>\u001b[39m Any:\n\u001b[1;32m    321\u001b[0m \u001b[39m    \u001b[39m\u001b[39m\"\"\"Run single program optimization in new process.\u001b[39;00m\n\u001b[1;32m    322\u001b[0m \n\u001b[1;32m    323\u001b[0m \u001b[39m    Args:\u001b[39;00m\n\u001b[0;32m   (...)\u001b[0m\n\u001b[1;32m    328\u001b[0m \u001b[39m          Optimized program.\u001b[39;00m\n\u001b[1;32m    329\u001b[0m \u001b[39m    \"\"\"\u001b[39;00m\n\u001b[1;32m    330\u001b[0m     \u001b[39mreturn\u001b[39;00m _run_workflow(\n\u001b[1;32m    331\u001b[0m         program\u001b[39m=\u001b[39mprogram,\n\u001b[0;32m--> 332\u001b[0m         pass_manager\u001b[39m=\u001b[39mdill\u001b[39m.\u001b[39;49mloads(pass_manager_bin),\n\u001b[1;32m    333\u001b[0m     )\n",
      "File \u001b[0;32m~/.pyenv/versions/3.11.4/lib/python3.11/site-packages/dill/_dill.py:301\u001b[0m, in \u001b[0;36mloads\u001b[0;34m(str, ignore, **kwds)\u001b[0m\n\u001b[1;32m    290\u001b[0m \u001b[39m\u001b[39m\u001b[39m\"\"\"\u001b[39;00m\n\u001b[1;32m    291\u001b[0m \u001b[39mUnpickle an object from a string.\u001b[39;00m\n\u001b[1;32m    292\u001b[0m \n\u001b[0;32m   (...)\u001b[0m\n\u001b[1;32m    298\u001b[0m \u001b[39mDefault values for keyword arguments can be set in :mod:`dill.settings`.\u001b[39;00m\n\u001b[1;32m    299\u001b[0m \u001b[39m\"\"\"\u001b[39;00m\n\u001b[1;32m    300\u001b[0m file \u001b[39m=\u001b[39m StringIO(\u001b[39mstr\u001b[39m)\n\u001b[0;32m--> 301\u001b[0m \u001b[39mreturn\u001b[39;00m load(file, ignore, \u001b[39m*\u001b[39;49m\u001b[39m*\u001b[39;49mkwds)\n",
      "File \u001b[0;32m~/.pyenv/versions/3.11.4/lib/python3.11/site-packages/dill/_dill.py:287\u001b[0m, in \u001b[0;36mload\u001b[0;34m(file, ignore, **kwds)\u001b[0m\n\u001b[1;32m    281\u001b[0m \u001b[39mdef\u001b[39;00m \u001b[39mload\u001b[39m(file, ignore\u001b[39m=\u001b[39m\u001b[39mNone\u001b[39;00m, \u001b[39m*\u001b[39m\u001b[39m*\u001b[39mkwds):\n\u001b[1;32m    282\u001b[0m \u001b[39m    \u001b[39m\u001b[39m\"\"\"\u001b[39;00m\n\u001b[1;32m    283\u001b[0m \u001b[39m    Unpickle an object from a file.\u001b[39;00m\n\u001b[1;32m    284\u001b[0m \n\u001b[1;32m    285\u001b[0m \u001b[39m    See :func:`loads` for keyword arguments.\u001b[39;00m\n\u001b[1;32m    286\u001b[0m \u001b[39m    \"\"\"\u001b[39;00m\n\u001b[0;32m--> 287\u001b[0m     \u001b[39mreturn\u001b[39;00m Unpickler(file, ignore\u001b[39m=\u001b[39;49mignore, \u001b[39m*\u001b[39;49m\u001b[39m*\u001b[39;49mkwds)\u001b[39m.\u001b[39;49mload()\n",
      "File \u001b[0;32m~/.pyenv/versions/3.11.4/lib/python3.11/site-packages/dill/_dill.py:442\u001b[0m, in \u001b[0;36mUnpickler.load\u001b[0;34m(self)\u001b[0m\n\u001b[1;32m    441\u001b[0m \u001b[39mdef\u001b[39;00m \u001b[39mload\u001b[39m(\u001b[39mself\u001b[39m): \u001b[39m#NOTE: if settings change, need to update attributes\u001b[39;00m\n\u001b[0;32m--> 442\u001b[0m     obj \u001b[39m=\u001b[39m StockUnpickler\u001b[39m.\u001b[39;49mload(\u001b[39mself\u001b[39;49m)\n\u001b[1;32m    443\u001b[0m     \u001b[39mif\u001b[39;00m \u001b[39mtype\u001b[39m(obj)\u001b[39m.\u001b[39m\u001b[39m__module__\u001b[39m \u001b[39m==\u001b[39m \u001b[39mgetattr\u001b[39m(_main_module, \u001b[39m'\u001b[39m\u001b[39m__name__\u001b[39m\u001b[39m'\u001b[39m, \u001b[39m'\u001b[39m\u001b[39m__main__\u001b[39m\u001b[39m'\u001b[39m):\n\u001b[1;32m    444\u001b[0m         \u001b[39mif\u001b[39;00m \u001b[39mnot\u001b[39;00m \u001b[39mself\u001b[39m\u001b[39m.\u001b[39m_ignore:\n\u001b[1;32m    445\u001b[0m             \u001b[39m# point obj class to main\u001b[39;00m\n",
      "File \u001b[0;32m~/.pyenv/versions/3.11.4/lib/python3.11/site-packages/qiskit/circuit/parametertable.py:48\u001b[0m, in \u001b[0;36mParameterReferences.__setstate__\u001b[0;34m(self, refs)\u001b[0m\n\u001b[1;32m     43\u001b[0m \u001b[39mdef\u001b[39;00m \u001b[39m__getstate__\u001b[39m(\u001b[39mself\u001b[39m):\n\u001b[1;32m     44\u001b[0m     \u001b[39m# Leave behind the reference IDs (keys of _instance_ids) since they'll\u001b[39;00m\n\u001b[1;32m     45\u001b[0m     \u001b[39m# be incorrect after unpickling on the other side.\u001b[39;00m\n\u001b[1;32m     46\u001b[0m     \u001b[39mreturn\u001b[39;00m \u001b[39mlist\u001b[39m(\u001b[39mself\u001b[39m)\n\u001b[0;32m---> 48\u001b[0m \u001b[39mdef\u001b[39;00m \u001b[39m__setstate__\u001b[39m(\u001b[39mself\u001b[39m, refs):\n\u001b[1;32m     49\u001b[0m     \u001b[39m# Recompute reference IDs for the newly unpickled instructions.\u001b[39;00m\n\u001b[1;32m     50\u001b[0m     \u001b[39mself\u001b[39m\u001b[39m.\u001b[39m_instance_ids \u001b[39m=\u001b[39m {\u001b[39mself\u001b[39m\u001b[39m.\u001b[39m_instance_key(ref): ref[\u001b[39m0\u001b[39m] \u001b[39mfor\u001b[39;00m ref \u001b[39min\u001b[39;00m refs}\n\u001b[1;32m     52\u001b[0m \u001b[39mdef\u001b[39;00m \u001b[39m__len__\u001b[39m(\u001b[39mself\u001b[39m):\n",
      "\u001b[0;31mKeyboardInterrupt\u001b[0m: "
     ]
    }
   ],
   "source": [
    "from qiskit.compiler import transpile\n",
    "circuits= 3000\n",
    "shots = 1\n",
    "\n",
    "circ_list = []\n",
    "for _ in range(circuits):\n",
    "    circ = qiskit.QuantumCircuit(15, 15)\n",
    "    circ.h(0)\n",
    "    circ.cx(0, 1)\n",
    "    circ.cx(1, 2)\n",
    "    circ.p(pi/2, 2)\n",
    "    circ.measure([0, 1, 2], [0, 1 ,2])\n",
    "    circ_list.append(circ)\n",
    "\n",
    "circ_list = transpile(circ_list, backend = Aer.get_backend(\"aer_simulator\"))\n",
    "circuitTest(circ_list,False,shots)\n",
    "\n",
    "print(\"worker sizes\")\n",
    "\n",
    "bestTime = time.time()\n",
    "bestWorkers = 0\n",
    "bestJobSize = 0\n",
    "for i in range (0,2):#10\n",
    "    for j in range (0,2):#10\n",
    "        timeCirc = circuitTest(circ_list,True,shots,workers=2**i,jobSize=2**j)\n",
    "        if timeCirc < bestTime:\n",
    "            bestTime = timeCirc\n",
    "            bestWorkers = 2**i\n",
    "            bestJobSize = 2**j\n",
    "\n",
    "print(\"best time: \", bestTime)\n",
    "print (\"best workers: \", bestWorkers)\n",
    "print (\"best job size: \", bestJobSize)\n"
   ]
  },
  {
   "cell_type": "markdown",
   "metadata": {},
   "source": [
    "So as you can see, not amazing, our solution is still off by a fairly significant margin ($~3\\%$ error isn't awful, but ideally, we want it to be **much** closer to 0). Again, I think this is due to the optimizer itself, not the actual quantum circuit. I will be making an update to this Notebook once I figure out how to correct this problem (likely with the introduction of a noisy optimizer, as I previously mentioned)."
   ]
  }
 ],
 "metadata": {
  "kernelspec": {
   "display_name": "Python 3 (ipykernel)",
   "language": "python",
   "name": "python3"
  },
  "language_info": {
   "codemirror_mode": {
    "name": "ipython",
    "version": 3
   },
   "file_extension": ".py",
   "mimetype": "text/x-python",
   "name": "python",
   "nbconvert_exporter": "python",
   "pygments_lexer": "ipython3",
   "version": "3.11.4"
  },
  "widgets": {
   "application/vnd.jupyter.widget-state+json": {
    "state": {
     "17046f96803d48aa8c63b99a5c89e6f3": {
      "model_module": "@jupyter-widgets/controls",
      "model_module_version": "1.5.0",
      "model_name": "DescriptionStyleModel",
      "state": {
       "_model_module": "@jupyter-widgets/controls",
       "_model_module_version": "1.5.0",
       "_model_name": "DescriptionStyleModel",
       "_view_count": null,
       "_view_module": "@jupyter-widgets/base",
       "_view_module_version": "1.2.0",
       "_view_name": "StyleView",
       "description_width": ""
      }
     },
     "1a46e33438a648dd839fe5fd43b9582b": {
      "model_module": "@jupyter-widgets/controls",
      "model_module_version": "1.5.0",
      "model_name": "DescriptionStyleModel",
      "state": {
       "_model_module": "@jupyter-widgets/controls",
       "_model_module_version": "1.5.0",
       "_model_name": "DescriptionStyleModel",
       "_view_count": null,
       "_view_module": "@jupyter-widgets/base",
       "_view_module_version": "1.2.0",
       "_view_name": "StyleView",
       "description_width": ""
      }
     },
     "1f812fe9a02b41b885f01e3190957acf": {
      "model_module": "@jupyter-widgets/base",
      "model_module_version": "1.2.0",
      "model_name": "LayoutModel",
      "state": {
       "_model_module": "@jupyter-widgets/base",
       "_model_module_version": "1.2.0",
       "_model_name": "LayoutModel",
       "_view_count": null,
       "_view_module": "@jupyter-widgets/base",
       "_view_module_version": "1.2.0",
       "_view_name": "LayoutView",
       "align_content": null,
       "align_items": null,
       "align_self": null,
       "border": null,
       "bottom": null,
       "display": null,
       "flex": null,
       "flex_flow": null,
       "grid_area": null,
       "grid_auto_columns": null,
       "grid_auto_flow": null,
       "grid_auto_rows": null,
       "grid_column": null,
       "grid_gap": null,
       "grid_row": null,
       "grid_template_areas": "\n                                       \". . . . right \"\n                                        ",
       "grid_template_columns": "20% 20% 20% 20% 20%",
       "grid_template_rows": null,
       "height": null,
       "justify_content": null,
       "justify_items": null,
       "left": null,
       "margin": null,
       "max_height": null,
       "max_width": null,
       "min_height": null,
       "min_width": null,
       "object_fit": null,
       "object_position": null,
       "order": null,
       "overflow": null,
       "overflow_x": null,
       "overflow_y": null,
       "padding": null,
       "right": null,
       "top": null,
       "visibility": null,
       "width": "100%"
      }
     },
     "20439ee3a84741dc9a137f7964898fc3": {
      "model_module": "@jupyter-widgets/controls",
      "model_module_version": "1.5.0",
      "model_name": "HTMLModel",
      "state": {
       "_dom_classes": [],
       "_model_module": "@jupyter-widgets/controls",
       "_model_module_version": "1.5.0",
       "_model_name": "HTMLModel",
       "_view_count": null,
       "_view_module": "@jupyter-widgets/controls",
       "_view_module_version": "1.5.0",
       "_view_name": "HTMLView",
       "description": "",
       "description_tooltip": null,
       "layout": "IPY_MODEL_f0e6a746eff140269e915ef65de640c7",
       "placeholder": "​",
       "style": "IPY_MODEL_96316857896d44328b3898d849594ae7",
       "value": "<h5>Status</h5>"
      }
     },
     "246d39f98fdb4892bc1d5bfb88d2f1cd": {
      "model_module": "@jupyter-widgets/controls",
      "model_module_version": "1.5.0",
      "model_name": "DescriptionStyleModel",
      "state": {
       "_model_module": "@jupyter-widgets/controls",
       "_model_module_version": "1.5.0",
       "_model_name": "DescriptionStyleModel",
       "_view_count": null,
       "_view_module": "@jupyter-widgets/base",
       "_view_module_version": "1.2.0",
       "_view_name": "StyleView",
       "description_width": ""
      }
     },
     "27e0478b2a9c4533b2e67eac937cbebc": {
      "model_module": "@jupyter-widgets/controls",
      "model_module_version": "1.5.0",
      "model_name": "HBoxModel",
      "state": {
       "_dom_classes": [],
       "_model_module": "@jupyter-widgets/controls",
       "_model_module_version": "1.5.0",
       "_model_name": "HBoxModel",
       "_view_count": null,
       "_view_module": "@jupyter-widgets/controls",
       "_view_module_version": "1.5.0",
       "_view_name": "HBoxView",
       "box_style": "",
       "children": [
        "IPY_MODEL_ac5a0f78ef8140a2abdf035fd1751936",
        "IPY_MODEL_5ff6f36eaa894a339210fc29fdbeedcf",
        "IPY_MODEL_20439ee3a84741dc9a137f7964898fc3",
        "IPY_MODEL_eef64edafd8f47c885da65fa3ca0ab8a",
        "IPY_MODEL_a38db3ffdfc848c0b0150e42b3509be5"
       ],
       "layout": "IPY_MODEL_fc018f99fbb44aa9beb54a8e6be5209e"
      }
     },
     "2f981df37e914685992f4564103ef872": {
      "model_module": "@jupyter-widgets/base",
      "model_module_version": "1.2.0",
      "model_name": "LayoutModel",
      "state": {
       "_model_module": "@jupyter-widgets/base",
       "_model_module_version": "1.2.0",
       "_model_name": "LayoutModel",
       "_view_count": null,
       "_view_module": "@jupyter-widgets/base",
       "_view_module_version": "1.2.0",
       "_view_name": "LayoutView",
       "align_content": null,
       "align_items": null,
       "align_self": null,
       "border": null,
       "bottom": null,
       "display": null,
       "flex": null,
       "flex_flow": null,
       "grid_area": null,
       "grid_auto_columns": null,
       "grid_auto_flow": null,
       "grid_auto_rows": null,
       "grid_column": null,
       "grid_gap": null,
       "grid_row": null,
       "grid_template_areas": null,
       "grid_template_columns": null,
       "grid_template_rows": null,
       "height": null,
       "justify_content": null,
       "justify_items": null,
       "left": null,
       "margin": null,
       "max_height": null,
       "max_width": null,
       "min_height": null,
       "min_width": null,
       "object_fit": null,
       "object_position": null,
       "order": null,
       "overflow": null,
       "overflow_x": null,
       "overflow_y": null,
       "padding": null,
       "right": null,
       "top": null,
       "visibility": null,
       "width": null
      }
     },
     "3aa67247d1a9433f87b13ce1370c8b1c": {
      "model_module": "@jupyter-widgets/base",
      "model_module_version": "1.2.0",
      "model_name": "LayoutModel",
      "state": {
       "_model_module": "@jupyter-widgets/base",
       "_model_module_version": "1.2.0",
       "_model_name": "LayoutModel",
       "_view_count": null,
       "_view_module": "@jupyter-widgets/base",
       "_view_module_version": "1.2.0",
       "_view_name": "LayoutView",
       "align_content": null,
       "align_items": null,
       "align_self": null,
       "border": null,
       "bottom": null,
       "display": null,
       "flex": null,
       "flex_flow": null,
       "grid_area": null,
       "grid_auto_columns": null,
       "grid_auto_flow": null,
       "grid_auto_rows": null,
       "grid_column": null,
       "grid_gap": null,
       "grid_row": null,
       "grid_template_areas": null,
       "grid_template_columns": null,
       "grid_template_rows": null,
       "height": null,
       "justify_content": null,
       "justify_items": null,
       "left": null,
       "margin": null,
       "max_height": null,
       "max_width": null,
       "min_height": null,
       "min_width": null,
       "object_fit": null,
       "object_position": null,
       "order": null,
       "overflow": null,
       "overflow_x": null,
       "overflow_y": null,
       "padding": null,
       "right": null,
       "top": null,
       "visibility": null,
       "width": "190px"
      }
     },
     "40a8f99fef5b4aad89f533edcb091c3f": {
      "model_module": "@jupyter-widgets/controls",
      "model_module_version": "1.5.0",
      "model_name": "ButtonStyleModel",
      "state": {
       "_model_module": "@jupyter-widgets/controls",
       "_model_module_version": "1.5.0",
       "_model_name": "ButtonStyleModel",
       "_view_count": null,
       "_view_module": "@jupyter-widgets/base",
       "_view_module_version": "1.2.0",
       "_view_name": "StyleView",
       "button_color": null,
       "font_weight": ""
      }
     },
     "46f75da5f7ab4f33b4df8618ccffde6b": {
      "model_module": "@jupyter-widgets/controls",
      "model_module_version": "1.5.0",
      "model_name": "DescriptionStyleModel",
      "state": {
       "_model_module": "@jupyter-widgets/controls",
       "_model_module_version": "1.5.0",
       "_model_name": "DescriptionStyleModel",
       "_view_count": null,
       "_view_module": "@jupyter-widgets/base",
       "_view_module_version": "1.2.0",
       "_view_name": "StyleView",
       "description_width": ""
      }
     },
     "5ff6f36eaa894a339210fc29fdbeedcf": {
      "model_module": "@jupyter-widgets/controls",
      "model_module_version": "1.5.0",
      "model_name": "HTMLModel",
      "state": {
       "_dom_classes": [],
       "_model_module": "@jupyter-widgets/controls",
       "_model_module_version": "1.5.0",
       "_model_name": "HTMLModel",
       "_view_count": null,
       "_view_module": "@jupyter-widgets/controls",
       "_view_module_version": "1.5.0",
       "_view_name": "HTMLView",
       "description": "",
       "description_tooltip": null,
       "layout": "IPY_MODEL_9e036ff6f31e4efb9471d371db06f533",
       "placeholder": "​",
       "style": "IPY_MODEL_1a46e33438a648dd839fe5fd43b9582b",
       "value": "<h5>Backend</h5>"
      }
     },
     "608e06da96f840e890006ad286afc34b": {
      "model_module": "@jupyter-widgets/controls",
      "model_module_version": "1.5.0",
      "model_name": "HTMLModel",
      "state": {
       "_dom_classes": [],
       "_model_module": "@jupyter-widgets/controls",
       "_model_module_version": "1.5.0",
       "_model_name": "HTMLModel",
       "_view_count": null,
       "_view_module": "@jupyter-widgets/controls",
       "_view_module_version": "1.5.0",
       "_view_name": "HTMLView",
       "description": "",
       "description_tooltip": null,
       "layout": "IPY_MODEL_74038cd5fbe8491ba5457f6cc81f7b5a",
       "placeholder": "​",
       "style": "IPY_MODEL_8569084253df4279b752a85c0b99027b",
       "value": "<p style='font-family: IBM Plex Sans, Arial, Helvetica, sans-serif; font-size: 20px; font-weight: medium;'>Circuit Properties</p>"
      }
     },
     "74038cd5fbe8491ba5457f6cc81f7b5a": {
      "model_module": "@jupyter-widgets/base",
      "model_module_version": "1.2.0",
      "model_name": "LayoutModel",
      "state": {
       "_model_module": "@jupyter-widgets/base",
       "_model_module_version": "1.2.0",
       "_model_name": "LayoutModel",
       "_view_count": null,
       "_view_module": "@jupyter-widgets/base",
       "_view_module_version": "1.2.0",
       "_view_name": "LayoutView",
       "align_content": null,
       "align_items": null,
       "align_self": null,
       "border": null,
       "bottom": null,
       "display": null,
       "flex": null,
       "flex_flow": null,
       "grid_area": null,
       "grid_auto_columns": null,
       "grid_auto_flow": null,
       "grid_auto_rows": null,
       "grid_column": null,
       "grid_gap": null,
       "grid_row": null,
       "grid_template_areas": null,
       "grid_template_columns": null,
       "grid_template_rows": null,
       "height": null,
       "justify_content": null,
       "justify_items": null,
       "left": null,
       "margin": "0px 0px 10px 0px",
       "max_height": null,
       "max_width": null,
       "min_height": null,
       "min_width": null,
       "object_fit": null,
       "object_position": null,
       "order": null,
       "overflow": null,
       "overflow_x": null,
       "overflow_y": null,
       "padding": null,
       "right": null,
       "top": null,
       "visibility": null,
       "width": null
      }
     },
     "8569084253df4279b752a85c0b99027b": {
      "model_module": "@jupyter-widgets/controls",
      "model_module_version": "1.5.0",
      "model_name": "DescriptionStyleModel",
      "state": {
       "_model_module": "@jupyter-widgets/controls",
       "_model_module_version": "1.5.0",
       "_model_name": "DescriptionStyleModel",
       "_view_count": null,
       "_view_module": "@jupyter-widgets/base",
       "_view_module_version": "1.2.0",
       "_view_name": "StyleView",
       "description_width": ""
      }
     },
     "917c693fd8d84f2e99f59d75cd5062c2": {
      "model_module": "@jupyter-widgets/controls",
      "model_module_version": "1.5.0",
      "model_name": "GridBoxModel",
      "state": {
       "_dom_classes": [],
       "_model_module": "@jupyter-widgets/controls",
       "_model_module_version": "1.5.0",
       "_model_name": "GridBoxModel",
       "_view_count": null,
       "_view_module": "@jupyter-widgets/controls",
       "_view_module_version": "1.5.0",
       "_view_name": "GridBoxView",
       "box_style": "",
       "children": [
        "IPY_MODEL_b7e87c3bbc404502ab1550d64f86c473"
       ],
       "layout": "IPY_MODEL_1f812fe9a02b41b885f01e3190957acf"
      }
     },
     "96316857896d44328b3898d849594ae7": {
      "model_module": "@jupyter-widgets/controls",
      "model_module_version": "1.5.0",
      "model_name": "DescriptionStyleModel",
      "state": {
       "_model_module": "@jupyter-widgets/controls",
       "_model_module_version": "1.5.0",
       "_model_name": "DescriptionStyleModel",
       "_view_count": null,
       "_view_module": "@jupyter-widgets/base",
       "_view_module_version": "1.2.0",
       "_view_name": "StyleView",
       "description_width": ""
      }
     },
     "9e036ff6f31e4efb9471d371db06f533": {
      "model_module": "@jupyter-widgets/base",
      "model_module_version": "1.2.0",
      "model_name": "LayoutModel",
      "state": {
       "_model_module": "@jupyter-widgets/base",
       "_model_module_version": "1.2.0",
       "_model_name": "LayoutModel",
       "_view_count": null,
       "_view_module": "@jupyter-widgets/base",
       "_view_module_version": "1.2.0",
       "_view_name": "LayoutView",
       "align_content": null,
       "align_items": null,
       "align_self": null,
       "border": null,
       "bottom": null,
       "display": null,
       "flex": null,
       "flex_flow": null,
       "grid_area": null,
       "grid_auto_columns": null,
       "grid_auto_flow": null,
       "grid_auto_rows": null,
       "grid_column": null,
       "grid_gap": null,
       "grid_row": null,
       "grid_template_areas": null,
       "grid_template_columns": null,
       "grid_template_rows": null,
       "height": null,
       "justify_content": null,
       "justify_items": null,
       "left": null,
       "margin": null,
       "max_height": null,
       "max_width": null,
       "min_height": null,
       "min_width": null,
       "object_fit": null,
       "object_position": null,
       "order": null,
       "overflow": null,
       "overflow_x": null,
       "overflow_y": null,
       "padding": null,
       "right": null,
       "top": null,
       "visibility": null,
       "width": "145px"
      }
     },
     "a38db3ffdfc848c0b0150e42b3509be5": {
      "model_module": "@jupyter-widgets/controls",
      "model_module_version": "1.5.0",
      "model_name": "HTMLModel",
      "state": {
       "_dom_classes": [],
       "_model_module": "@jupyter-widgets/controls",
       "_model_module_version": "1.5.0",
       "_model_name": "HTMLModel",
       "_view_count": null,
       "_view_module": "@jupyter-widgets/controls",
       "_view_module_version": "1.5.0",
       "_view_name": "HTMLView",
       "description": "",
       "description_tooltip": null,
       "layout": "IPY_MODEL_2f981df37e914685992f4564103ef872",
       "placeholder": "​",
       "style": "IPY_MODEL_246d39f98fdb4892bc1d5bfb88d2f1cd",
       "value": "<h5>Message</h5>"
      }
     },
     "ac5a0f78ef8140a2abdf035fd1751936": {
      "model_module": "@jupyter-widgets/controls",
      "model_module_version": "1.5.0",
      "model_name": "HTMLModel",
      "state": {
       "_dom_classes": [],
       "_model_module": "@jupyter-widgets/controls",
       "_model_module_version": "1.5.0",
       "_model_name": "HTMLModel",
       "_view_count": null,
       "_view_module": "@jupyter-widgets/controls",
       "_view_module_version": "1.5.0",
       "_view_name": "HTMLView",
       "description": "",
       "description_tooltip": null,
       "layout": "IPY_MODEL_3aa67247d1a9433f87b13ce1370c8b1c",
       "placeholder": "​",
       "style": "IPY_MODEL_46f75da5f7ab4f33b4df8618ccffde6b",
       "value": "<h5>Job ID</h5>"
      }
     },
     "b7e87c3bbc404502ab1550d64f86c473": {
      "model_module": "@jupyter-widgets/controls",
      "model_module_version": "1.5.0",
      "model_name": "ButtonModel",
      "state": {
       "_dom_classes": [],
       "_model_module": "@jupyter-widgets/controls",
       "_model_module_version": "1.5.0",
       "_model_name": "ButtonModel",
       "_view_count": null,
       "_view_module": "@jupyter-widgets/controls",
       "_view_module_version": "1.5.0",
       "_view_name": "ButtonView",
       "button_style": "primary",
       "description": "Clear",
       "disabled": false,
       "icon": "",
       "layout": "IPY_MODEL_f6a39516121743099bece32bc0c3c696",
       "style": "IPY_MODEL_40a8f99fef5b4aad89f533edcb091c3f",
       "tooltip": ""
      }
     },
     "eef64edafd8f47c885da65fa3ca0ab8a": {
      "model_module": "@jupyter-widgets/controls",
      "model_module_version": "1.5.0",
      "model_name": "HTMLModel",
      "state": {
       "_dom_classes": [],
       "_model_module": "@jupyter-widgets/controls",
       "_model_module_version": "1.5.0",
       "_model_name": "HTMLModel",
       "_view_count": null,
       "_view_module": "@jupyter-widgets/controls",
       "_view_module_version": "1.5.0",
       "_view_name": "HTMLView",
       "description": "",
       "description_tooltip": null,
       "layout": "IPY_MODEL_ef270ca07615429ab689824b66fdb1ff",
       "placeholder": "​",
       "style": "IPY_MODEL_17046f96803d48aa8c63b99a5c89e6f3",
       "value": "<h5>Queue</h5>"
      }
     },
     "ef270ca07615429ab689824b66fdb1ff": {
      "model_module": "@jupyter-widgets/base",
      "model_module_version": "1.2.0",
      "model_name": "LayoutModel",
      "state": {
       "_model_module": "@jupyter-widgets/base",
       "_model_module_version": "1.2.0",
       "_model_name": "LayoutModel",
       "_view_count": null,
       "_view_module": "@jupyter-widgets/base",
       "_view_module_version": "1.2.0",
       "_view_name": "LayoutView",
       "align_content": null,
       "align_items": null,
       "align_self": null,
       "border": null,
       "bottom": null,
       "display": null,
       "flex": null,
       "flex_flow": null,
       "grid_area": null,
       "grid_auto_columns": null,
       "grid_auto_flow": null,
       "grid_auto_rows": null,
       "grid_column": null,
       "grid_gap": null,
       "grid_row": null,
       "grid_template_areas": null,
       "grid_template_columns": null,
       "grid_template_rows": null,
       "height": null,
       "justify_content": null,
       "justify_items": null,
       "left": null,
       "margin": null,
       "max_height": null,
       "max_width": null,
       "min_height": null,
       "min_width": null,
       "object_fit": null,
       "object_position": null,
       "order": null,
       "overflow": null,
       "overflow_x": null,
       "overflow_y": null,
       "padding": null,
       "right": null,
       "top": null,
       "visibility": null,
       "width": "70px"
      }
     },
     "f0e6a746eff140269e915ef65de640c7": {
      "model_module": "@jupyter-widgets/base",
      "model_module_version": "1.2.0",
      "model_name": "LayoutModel",
      "state": {
       "_model_module": "@jupyter-widgets/base",
       "_model_module_version": "1.2.0",
       "_model_name": "LayoutModel",
       "_view_count": null,
       "_view_module": "@jupyter-widgets/base",
       "_view_module_version": "1.2.0",
       "_view_name": "LayoutView",
       "align_content": null,
       "align_items": null,
       "align_self": null,
       "border": null,
       "bottom": null,
       "display": null,
       "flex": null,
       "flex_flow": null,
       "grid_area": null,
       "grid_auto_columns": null,
       "grid_auto_flow": null,
       "grid_auto_rows": null,
       "grid_column": null,
       "grid_gap": null,
       "grid_row": null,
       "grid_template_areas": null,
       "grid_template_columns": null,
       "grid_template_rows": null,
       "height": null,
       "justify_content": null,
       "justify_items": null,
       "left": null,
       "margin": null,
       "max_height": null,
       "max_width": null,
       "min_height": null,
       "min_width": null,
       "object_fit": null,
       "object_position": null,
       "order": null,
       "overflow": null,
       "overflow_x": null,
       "overflow_y": null,
       "padding": null,
       "right": null,
       "top": null,
       "visibility": null,
       "width": "95px"
      }
     },
     "f6a39516121743099bece32bc0c3c696": {
      "model_module": "@jupyter-widgets/base",
      "model_module_version": "1.2.0",
      "model_name": "LayoutModel",
      "state": {
       "_model_module": "@jupyter-widgets/base",
       "_model_module_version": "1.2.0",
       "_model_name": "LayoutModel",
       "_view_count": null,
       "_view_module": "@jupyter-widgets/base",
       "_view_module_version": "1.2.0",
       "_view_name": "LayoutView",
       "align_content": null,
       "align_items": null,
       "align_self": null,
       "border": null,
       "bottom": null,
       "display": null,
       "flex": null,
       "flex_flow": null,
       "grid_area": "right",
       "grid_auto_columns": null,
       "grid_auto_flow": null,
       "grid_auto_rows": null,
       "grid_column": null,
       "grid_gap": null,
       "grid_row": null,
       "grid_template_areas": null,
       "grid_template_columns": null,
       "grid_template_rows": null,
       "height": null,
       "justify_content": null,
       "justify_items": null,
       "left": null,
       "margin": null,
       "max_height": null,
       "max_width": null,
       "min_height": null,
       "min_width": null,
       "object_fit": null,
       "object_position": null,
       "order": null,
       "overflow": null,
       "overflow_x": null,
       "overflow_y": null,
       "padding": "0px 0px 0px 0px",
       "right": null,
       "top": null,
       "visibility": null,
       "width": "70px"
      }
     },
     "fc018f99fbb44aa9beb54a8e6be5209e": {
      "model_module": "@jupyter-widgets/base",
      "model_module_version": "1.2.0",
      "model_name": "LayoutModel",
      "state": {
       "_model_module": "@jupyter-widgets/base",
       "_model_module_version": "1.2.0",
       "_model_name": "LayoutModel",
       "_view_count": null,
       "_view_module": "@jupyter-widgets/base",
       "_view_module_version": "1.2.0",
       "_view_name": "LayoutView",
       "align_content": null,
       "align_items": null,
       "align_self": null,
       "border": null,
       "bottom": null,
       "display": null,
       "flex": null,
       "flex_flow": null,
       "grid_area": null,
       "grid_auto_columns": null,
       "grid_auto_flow": null,
       "grid_auto_rows": null,
       "grid_column": null,
       "grid_gap": null,
       "grid_row": null,
       "grid_template_areas": null,
       "grid_template_columns": null,
       "grid_template_rows": null,
       "height": null,
       "justify_content": null,
       "justify_items": null,
       "left": null,
       "margin": "0px 0px 0px 37px",
       "max_height": null,
       "max_width": null,
       "min_height": null,
       "min_width": null,
       "object_fit": null,
       "object_position": null,
       "order": null,
       "overflow": null,
       "overflow_x": null,
       "overflow_y": null,
       "padding": null,
       "right": null,
       "top": null,
       "visibility": null,
       "width": "600px"
      }
     }
    },
    "version_major": 2,
    "version_minor": 0
   }
  }
 },
 "nbformat": 4,
 "nbformat_minor": 2
}
