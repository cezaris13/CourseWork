{
 "cells": [
  {
   "cell_type": "code",
   "execution_count": 30,
   "metadata": {},
   "outputs": [],
   "source": [
    "import numpy as np\n",
    "import csv\n",
    "import sys\n",
    "sys.path.append(\"..\")\n",
    "from sklearn.svm import SVC\n",
    "from sklearn.metrics import accuracy_score\n",
    "\n",
    "from Code.VQLSSVM import VQLSSVM\n",
    "from Code.Utils import prepareDataset\n",
    "\n",
    "np.set_printoptions(precision=10, suppress=True)"
   ]
  },
  {
   "cell_type": "code",
   "execution_count": 31,
   "metadata": {},
   "outputs": [],
   "source": [
    "qubits = 4\n",
    "shots: int = 10000\n",
    "gamma: float = 0.01 # regularization parameter\n",
    "subsetSize: int = 2**qubits - 1 # number of training points\n",
    "classToFilterOut: int = 2\n",
    "iterations = 1\n",
    "trainIterations = 200\n",
    "datasets = [\"iris\"]\n",
    "# datasets = [\"iris\",\"breastCancer\"]"
   ]
  },
  {
   "cell_type": "code",
   "execution_count": 32,
   "metadata": {},
   "outputs": [],
   "source": [
    "vqlssvmVectors: VQLSSVM = VQLSSVM(gamma, shots)"
   ]
  },
  {
   "cell_type": "code",
   "execution_count": 33,
   "metadata": {},
   "outputs": [],
   "source": [
    "def getListsAverage(data: list):\n",
    "    maximumLengthList = len(max(data, key=len))\n",
    "    sumList =[]\n",
    "    for i in range(maximumLengthList):\n",
    "        iterationSum = 0\n",
    "        for j in range(len(data)):\n",
    "            if i < len(data[j]):\n",
    "                iterationSum += data[j][i]\n",
    "            else:\n",
    "                iterationSum += data[j][-1]\n",
    "        sumList.append(iterationSum)\n",
    "\n",
    "    sumList = np.array(sumList)\n",
    "    return sumList/len(data)"
   ]
  },
  {
   "cell_type": "code",
   "execution_count": 34,
   "metadata": {},
   "outputs": [
    {
     "name": "stdout",
     "output_type": "stream",
     "text": [
      "0 th iteration\n",
      "Dataset: iris\n",
      "Iteration: 112 , cost: 0.043123998054193876\r"
     ]
    },
    {
     "name": "stderr",
     "output_type": "stream",
     "text": [
      "capi_return is NULL\n",
      "Call-back cb_calcfc_in__cobyla__user__routines failed.\n",
      "Traceback (most recent call last):\n",
      "  File \"/Users/pijus/.pyenv/versions/3.11.4/lib/python3.11/site-packages/scipy/optimize/_cobyla_py.py\", line 281, in calcfc\n",
      "Fatal Python error: F2PySwapThreadLocalCallbackPtr: F2PySwapThreadLocalCallbackPtr: PyLong_AsVoidPtr failed\n",
      "Python runtime state: initialized\n",
      "    f = sf.fun(x)\n",
      "        ^^^^^^^^^\n",
      "  File \"/Users/pijus/.pyenv/versions/3.11.4/lib/python3.11/site-packages/scipy/optimize/_differentiable_functions.py\", line 267, in fun\n",
      "    self._update_fun()\n",
      "  File \"/Users/pijus/.pyenv/versions/3.11.4/lib/python3.11/site-packages/scipy/optimize/_differentiable_functions.py\", line 251, in _update_fun\n",
      "    self._update_fun_impl()\n",
      "  File \"/Users/pijus/.pyenv/versions/3.11.4/lib/python3.11/site-packages/scipy/optimize/_differentiable_functions.py\", line 155, in update_fun\n",
      "    self.f = fun_wrapped(self.x)\n",
      "             ^^^^^^^^^^^^^^^^^^^\n",
      "  File \"/Users/pijus/.pyenv/versions/3.11.4/lib/python3.11/site-packages/scipy/optimize/_differentiable_functions.py\", line 137, in fun_wrapped\n",
      "    fx = fun(np.copy(x), *args)\n",
      "         ^^^^^^^^^^^^^^^^^^^^^^\n",
      "  File \"/Users/pijus/PS/KursinisSVM/VQLS-QSVM-Implementation/SimulationTests/../Code/VQLS/Minimization.py\", line 170, in calculateCostFunction\n",
      "    result = job.result()\n",
      "             ^^^^^^^^^^^^\n",
      "  File \"/Users/pijus/.pyenv/versions/3.11.4/lib/python3.11/site-packages/qiskit_aer/jobs/utils.py\", line 42, in _wrapper\n",
      "    return func(self, *args, **kwargs)\n",
      "           ^^^^^^^^^^^^^^^^^^^^^^^^^^^\n",
      "  File \"/Users/pijus/.pyenv/versions/3.11.4/lib/python3.11/site-packages/qiskit_aer/jobs/aerjob.py\", line 114, in result\n",
      "    return self._future.result(timeout=timeout)\n",
      "           ^^^^^^^^^^^^^^^^^^^^^^^^^^^^^^^^^^^^\n",
      "  File \"/Users/pijus/.pyenv/versions/3.11.4/lib/python3.11/concurrent/futures/_base.py\", line 451, in result\n",
      "    self._condition.wait(timeout)\n",
      "  File \"/Users/pijus/.pyenv/versions/3.11.4/lib/python3.11/threading.py\", line 320, in wait\n",
      "    waiter.acquire()\n",
      "KeyboardInterrupt\n"
     ]
    },
    {
     "ename": "",
     "evalue": "",
     "output_type": "error",
     "traceback": [
      "\u001b[1;31mCannot execute code, session has been disposed. Please try restarting the Kernel."
     ]
    },
    {
     "ename": "",
     "evalue": "",
     "output_type": "error",
     "traceback": [
      "\u001b[1;31mThe Kernel crashed while executing code in the the current cell or a previous cell. Please review the code in the cell(s) to identify a possible cause of the failure. Click <a href='https://aka.ms/vscodeJupyterKernelCrash'>here</a> for more info. View Jupyter <a href='command:jupyter.viewOutput'>log</a> for further details."
     ]
    }
   ],
   "source": [
    "def collectTrainData(dataset: str, isQuantumSimulation: bool):\n",
    "    xTrain, xTest, yTrain, yTest = prepareDataset(normalizeValues=True, dataset=dataset,subsetSize=subsetSize, classToFilterOut=classToFilterOut)\n",
    "    vqlssvmVectors.train(xTrain, yTrain, quantumSimulation=isQuantumSimulation, verbose=False, iterations = trainIterations, method=\"COBYLA\")\n",
    "    cost = vqlssvmVectors.getCostHistory()\n",
    "    accuracy = vqlssvmVectors.accuracy(xTest, yTest)\n",
    "    clf = SVC(kernel='linear')\n",
    "    clf.fit(xTrain, yTrain)\n",
    "    yPred = clf.predict(xTest)\n",
    "    return cost, accuracy, accuracy_score(yTest, yPred)\n",
    "\n",
    "costs = {}\n",
    "accuracies = {}\n",
    "accuraciesSVM = {}\n",
    "\n",
    "for dataset in datasets:\n",
    "    costs[dataset] = []\n",
    "    accuracies[dataset] = []\n",
    "    accuraciesSVM[dataset] = []\n",
    "\n",
    "for i in range(iterations):\n",
    "    print(i,\"th iteration\")\n",
    "    for dataset in datasets:\n",
    "        print(\"Dataset:\",dataset)\n",
    "        cost,accuracy,svmAccuracy = collectTrainData(dataset, True)\n",
    "        costs[dataset].append(cost)\n",
    "        accuracies[dataset].append(accuracy)\n",
    "        accuraciesSVM[dataset].append(svmAccuracy)\n",
    "        print(\"\\n\")\n",
    "    print(\"\\n\")"
   ]
  },
  {
   "cell_type": "code",
   "execution_count": null,
   "metadata": {},
   "outputs": [],
   "source": [
    "for dataset in datasets:\n",
    "    with open('../SimulationResults/costDataset' + dataset+'.csv', 'w', newline='') as csvfile:\n",
    "        avgCosts = {}\n",
    "        length = costs[dataset].__len__()\n",
    "        s = np.array([sum(a) for a in zip(*costs[dataset])])\n",
    "        avgCosts[dataset] = getListsAverage(costs[dataset])\n",
    "        \n",
    "        writer = csv.writer(csvfile, delimiter=',')\n",
    "        writer.writerow(['Iteration'] + [dataset])\n",
    "        combined = [ [i] + [x] for i, x in enumerate(avgCosts[dataset])]\n",
    "        writer.writerows(combined)\n",
    "\n",
    "with open('../SimulationResults/accuracyDataset.csv', 'w', newline='') as csvfile:\n",
    "    writer = csv.writer(csvfile, delimiter=',')\n",
    "    titleRow = []\n",
    "    dataRow = []\n",
    "    for dataset in datasets:\n",
    "        titleRow.append(dataset)\n",
    "        titleRow.append(dataset + \"SVM\")\n",
    "        dataRow.append(np.mean(accuracies[dataset]))\n",
    "        dataRow.append(np.mean(accuraciesSVM[dataset]))\n",
    "    writer.writerow(titleRow)\n",
    "    writer.writerow(dataRow)"
   ]
  }
 ],
 "metadata": {
  "kernelspec": {
   "display_name": "Python 3",
   "language": "python",
   "name": "python3"
  },
  "language_info": {
   "codemirror_mode": {
    "name": "ipython",
    "version": 3
   },
   "file_extension": ".py",
   "mimetype": "text/x-python",
   "name": "python",
   "nbconvert_exporter": "python",
   "pygments_lexer": "ipython3",
   "version": "3.11.4"
  },
  "orig_nbformat": 4
 },
 "nbformat": 4,
 "nbformat_minor": 2
}
