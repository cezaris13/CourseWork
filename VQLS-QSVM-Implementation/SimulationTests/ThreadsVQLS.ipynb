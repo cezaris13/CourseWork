{
 "cells": [
  {
   "cell_type": "code",
   "execution_count": 2,
   "metadata": {},
   "outputs": [],
   "source": [
    "import numpy as np\n",
    "import sys\n",
    "sys.path.append(\"..\")\n",
    "\n",
    "from Code.VQLSSVM import VQLSSVM\n",
    "from Code.Utils import prepareDataset\n",
    "import random\n",
    "import time\n",
    "\n",
    "np.set_printoptions(precision=10, suppress=True)"
   ]
  },
  {
   "cell_type": "code",
   "execution_count": 1,
   "metadata": {},
   "outputs": [
    {
     "ename": "ModuleNotFoundError",
     "evalue": "No module named 'Code'",
     "output_type": "error",
     "traceback": [
      "\u001b[0;31m---------------------------------------------------------------------------\u001b[0m",
      "\u001b[0;31mModuleNotFoundError\u001b[0m                       Traceback (most recent call last)",
      "Cell \u001b[0;32mIn[1], line 1\u001b[0m\n\u001b[0;32m----> 1\u001b[0m \u001b[39mfrom\u001b[39;00m \u001b[39mCode\u001b[39;00m\u001b[39m.\u001b[39;00m\u001b[39mUtils\u001b[39;00m \u001b[39mimport\u001b[39;00m prepareDataset\n\u001b[1;32m      2\u001b[0m \u001b[39mfrom\u001b[39;00m \u001b[39mCode\u001b[39;00m\u001b[39m.\u001b[39;00m\u001b[39mVQLSSVM\u001b[39;00m \u001b[39mimport\u001b[39;00m VQLSSVM\n\u001b[1;32m      3\u001b[0m \u001b[39mimport\u001b[39;00m \u001b[39mrandom\u001b[39;00m\n",
      "\u001b[0;31mModuleNotFoundError\u001b[0m: No module named 'Code'"
     ]
    }
   ],
   "source": [
    "averageOf = 10\n",
    "shots = 10000\n",
    "qubits = 3\n",
    "gamma: float = 0.01 # regularization parameter\n",
    "subsetSize: int = 2**qubits - 1 # number of training points\n",
    "classToFilterOut: int = 2\n",
    "quantumSimulation: bool = False\n",
    "\n",
    "random.seed(0)\n",
    "xTrain, xTest, yTrain, yTest = prepareDataset(normalizeValues=True, dataset=\"iris\",subsetSize=subsetSize, classToFilterOut=classToFilterOut)\n",
    "\n",
    "vqlssvmVectors: VQLSSVM = VQLSSVM(gamma, shots)\n",
    "\n",
    "print(\"non parallel\")\n",
    "totalTime = 0\n",
    "random.seed(0)\n",
    "for i in range(averageOf):\n",
    "    start = time.time()\n",
    "    vqlssvmVectors.train(xTrain, yTrain, quantumSimulation=quantumSimulation, verbose=False, iterations = 200, method=\"COBYLA\")\n",
    "    end = time.time()\n",
    "    totalTime += end - start\n",
    "\n",
    "print(\"Time taken: \", totalTime/averageOf)\n",
    "\n",
    "\n",
    "print(\"worker sizes\")\n",
    "\n",
    "bestTime = time.time()\n",
    "bestWorkers = 0\n",
    "bestJobSize = 0\n",
    "\n",
    "print(\"parallel\")\n",
    "coreList = [2,4,8,10]\n",
    "jobList = [1,2,4,8,10]\n",
    "for i in coreList:\n",
    "    for j in jobList:\n",
    "        totalTime = 0\n",
    "        random.seed(0)\n",
    "        for _ in range(averageOf):\n",
    "            start = time.time()\n",
    "            vqlssvmVectors.train(xTrain, yTrain, quantumSimulation=quantumSimulation, verbose=False, iterations = 200, method=\"COBYLA\", threads=i, jobs=j, circuitConstructionThreading = True)\n",
    "            end = time.time()\n",
    "            totalTime += end - start\n",
    "        timeCirc = totalTime/averageOf\n",
    "\n",
    "        print(\"workers: \", i, \"jobSize: \", j, \"time: \", timeCirc)\n",
    "        if timeCirc < bestTime:\n",
    "            bestTime = timeCirc\n",
    "            bestWorkers = i\n",
    "            bestJobSize = j\n",
    "\n",
    "print(\"best time: \", bestTime)\n",
    "print (\"best workers: \", bestWorkers)\n",
    "print (\"best job size: \", bestJobSize)"
   ]
  }
 ],
 "metadata": {
  "kernelspec": {
   "display_name": "Python 3",
   "language": "python",
   "name": "python3"
  },
  "language_info": {
   "codemirror_mode": {
    "name": "ipython",
    "version": 3
   },
   "file_extension": ".py",
   "mimetype": "text/x-python",
   "name": "python",
   "nbconvert_exporter": "python",
   "pygments_lexer": "ipython3",
   "version": "3.11.4"
  },
  "orig_nbformat": 4
 },
 "nbformat": 4,
 "nbformat_minor": 2
}
